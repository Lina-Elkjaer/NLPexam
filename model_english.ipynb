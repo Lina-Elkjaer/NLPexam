{
 "cells": [
  {
   "cell_type": "markdown",
   "metadata": {},
   "source": [
    "## Loading data"
   ]
  },
  {
   "cell_type": "code",
   "execution_count": 6,
   "metadata": {},
   "outputs": [
    {
     "name": "stdout",
     "output_type": "stream",
     "text": [
      "421537\n",
      "408792\n",
      "313281\n"
     ]
    }
   ],
   "source": [
    "import re\n",
    "import pandas as pd\n",
    "\n",
    "# Prepare data\n",
    "path_pkl = os.path.join(\"data\", \"test_df.pkl\")\n",
    "data = pd.read_pickle(path_pkl) \n",
    "\n",
    "#data1 = data[:5000] \n",
    "#data2 = data[416537:]\n",
    "\n",
    "#print(len(data1))\n",
    "#print(len(data2))\n",
    "\n",
    "#data = pd.concat([data1, data2])\n",
    "\n",
    "print(len(data))\n",
    "\n",
    "data = data[data[\"language\"] == \"en\"]\n",
    "\n",
    "print(len(data))\n",
    "\n",
    "data = data[data[\"confidence\"] > 0.9]\n",
    "\n",
    "print(len(data))\n",
    "\n",
    "# make text column lower case\n",
    "data.document = data['document'].map(lambda document: document.lower() if isinstance(document,str) else document)\n",
    "\n",
    "# make lists\n",
    "dates = data.date.to_list()\n",
    "docs = data.document.to_list()\n",
    "subreddits = data.sub_reddit.to_list()\n",
    "language = data.language.to_list()\n",
    "type = data.type.to_list()"
   ]
  },
  {
   "cell_type": "code",
   "execution_count": 4,
   "metadata": {},
   "outputs": [
    {
     "data": {
      "text/html": [
       "<div>\n",
       "<style scoped>\n",
       "    .dataframe tbody tr th:only-of-type {\n",
       "        vertical-align: middle;\n",
       "    }\n",
       "\n",
       "    .dataframe tbody tr th {\n",
       "        vertical-align: top;\n",
       "    }\n",
       "\n",
       "    .dataframe thead th {\n",
       "        text-align: right;\n",
       "    }\n",
       "</style>\n",
       "<table border=\"1\" class=\"dataframe\">\n",
       "  <thead>\n",
       "    <tr style=\"text-align: right;\">\n",
       "      <th></th>\n",
       "      <th>document</th>\n",
       "      <th>sub_reddit</th>\n",
       "      <th>date</th>\n",
       "      <th>type</th>\n",
       "      <th>language</th>\n",
       "      <th>confidence</th>\n",
       "    </tr>\n",
       "  </thead>\n",
       "  <tbody>\n",
       "    <tr>\n",
       "      <th>1</th>\n",
       "      <td>\"why russians should take collective responsib...</td>\n",
       "      <td>ukraina</td>\n",
       "      <td>2022-03-23</td>\n",
       "      <td>submission</td>\n",
       "      <td>en</td>\n",
       "      <td>0.915159</td>\n",
       "    </tr>\n",
       "    <tr>\n",
       "      <th>2</th>\n",
       "      <td>reach out to russians and inform them about wa...</td>\n",
       "      <td>ukraina</td>\n",
       "      <td>2022-03-23</td>\n",
       "      <td>submission</td>\n",
       "      <td>en</td>\n",
       "      <td>0.916073</td>\n",
       "    </tr>\n",
       "    <tr>\n",
       "      <th>3</th>\n",
       "      <td>march 23, 2022: ua air force destroyed 7 russi...</td>\n",
       "      <td>ukraina</td>\n",
       "      <td>2022-03-23</td>\n",
       "      <td>submission</td>\n",
       "      <td>en</td>\n",
       "      <td>0.810842</td>\n",
       "    </tr>\n",
       "    <tr>\n",
       "      <th>4</th>\n",
       "      <td>zelenskyy addresses in english: “i ask you to ...</td>\n",
       "      <td>ukraina</td>\n",
       "      <td>2022-03-23</td>\n",
       "      <td>submission</td>\n",
       "      <td>en</td>\n",
       "      <td>0.964464</td>\n",
       "    </tr>\n",
       "    <tr>\n",
       "      <th>5</th>\n",
       "      <td>europe will be next. truth about russian invas...</td>\n",
       "      <td>ukraina</td>\n",
       "      <td>2022-03-23</td>\n",
       "      <td>submission</td>\n",
       "      <td>en</td>\n",
       "      <td>0.901022</td>\n",
       "    </tr>\n",
       "    <tr>\n",
       "      <th>...</th>\n",
       "      <td>...</td>\n",
       "      <td>...</td>\n",
       "      <td>...</td>\n",
       "      <td>...</td>\n",
       "      <td>...</td>\n",
       "      <td>...</td>\n",
       "    </tr>\n",
       "    <tr>\n",
       "      <th>450184</th>\n",
       "      <td>it's on the home page articles today</td>\n",
       "      <td>geopolitics</td>\n",
       "      <td>2022-03-07</td>\n",
       "      <td>comment</td>\n",
       "      <td>en</td>\n",
       "      <td>0.896494</td>\n",
       "    </tr>\n",
       "    <tr>\n",
       "      <th>450185</th>\n",
       "      <td>it really is wild to see him so badly miscalcu...</td>\n",
       "      <td>geopolitics</td>\n",
       "      <td>2022-03-07</td>\n",
       "      <td>comment</td>\n",
       "      <td>en</td>\n",
       "      <td>0.997909</td>\n",
       "    </tr>\n",
       "    <tr>\n",
       "      <th>450186</th>\n",
       "      <td>panic fear and being cut off from swift  \\nrus...</td>\n",
       "      <td>geopolitics</td>\n",
       "      <td>2022-03-07</td>\n",
       "      <td>comment</td>\n",
       "      <td>en</td>\n",
       "      <td>0.973750</td>\n",
       "    </tr>\n",
       "    <tr>\n",
       "      <th>450187</th>\n",
       "      <td>post a [submission statement]( in one hour or ...</td>\n",
       "      <td>geopolitics</td>\n",
       "      <td>2022-03-07</td>\n",
       "      <td>comment</td>\n",
       "      <td>en</td>\n",
       "      <td>0.836011</td>\n",
       "    </tr>\n",
       "    <tr>\n",
       "      <th>450188</th>\n",
       "      <td>just because there are a few neo-nazis in a co...</td>\n",
       "      <td>geopolitics</td>\n",
       "      <td>2022-03-07</td>\n",
       "      <td>comment</td>\n",
       "      <td>en</td>\n",
       "      <td>0.974523</td>\n",
       "    </tr>\n",
       "  </tbody>\n",
       "</table>\n",
       "<p>9580 rows × 6 columns</p>\n",
       "</div>"
      ],
      "text/plain": [
       "                                                 document   sub_reddit  \\\n",
       "1       \"why russians should take collective responsib...      ukraina   \n",
       "2       reach out to russians and inform them about wa...      ukraina   \n",
       "3       march 23, 2022: ua air force destroyed 7 russi...      ukraina   \n",
       "4       zelenskyy addresses in english: “i ask you to ...      ukraina   \n",
       "5       europe will be next. truth about russian invas...      ukraina   \n",
       "...                                                   ...          ...   \n",
       "450184               it's on the home page articles today  geopolitics   \n",
       "450185  it really is wild to see him so badly miscalcu...  geopolitics   \n",
       "450186  panic fear and being cut off from swift  \\nrus...  geopolitics   \n",
       "450187  post a [submission statement]( in one hour or ...  geopolitics   \n",
       "450188  just because there are a few neo-nazis in a co...  geopolitics   \n",
       "\n",
       "              date        type language  confidence  \n",
       "1       2022-03-23  submission       en    0.915159  \n",
       "2       2022-03-23  submission       en    0.916073  \n",
       "3       2022-03-23  submission       en    0.810842  \n",
       "4       2022-03-23  submission       en    0.964464  \n",
       "5       2022-03-23  submission       en    0.901022  \n",
       "...            ...         ...      ...         ...  \n",
       "450184  2022-03-07     comment       en    0.896494  \n",
       "450185  2022-03-07     comment       en    0.997909  \n",
       "450186  2022-03-07     comment       en    0.973750  \n",
       "450187  2022-03-07     comment       en    0.836011  \n",
       "450188  2022-03-07     comment       en    0.974523  \n",
       "\n",
       "[9580 rows x 6 columns]"
      ]
     },
     "execution_count": 4,
     "metadata": {},
     "output_type": "execute_result"
    }
   ],
   "source": [
    "data"
   ]
  },
  {
   "cell_type": "markdown",
   "metadata": {},
   "source": [
    "### Checking if it works"
   ]
  },
  {
   "cell_type": "code",
   "execution_count": 405,
   "metadata": {},
   "outputs": [
    {
     "data": {
      "text/html": [
       "<div>\n",
       "<style scoped>\n",
       "    .dataframe tbody tr th:only-of-type {\n",
       "        vertical-align: middle;\n",
       "    }\n",
       "\n",
       "    .dataframe tbody tr th {\n",
       "        vertical-align: top;\n",
       "    }\n",
       "\n",
       "    .dataframe thead th {\n",
       "        text-align: right;\n",
       "    }\n",
       "</style>\n",
       "<table border=\"1\" class=\"dataframe\">\n",
       "  <thead>\n",
       "    <tr style=\"text-align: right;\">\n",
       "      <th></th>\n",
       "      <th>document</th>\n",
       "      <th>sub_reddit</th>\n",
       "      <th>date</th>\n",
       "      <th>type</th>\n",
       "      <th>language</th>\n",
       "      <th>confidence</th>\n",
       "    </tr>\n",
       "  </thead>\n",
       "  <tbody>\n",
       "    <tr>\n",
       "      <th>450179</th>\n",
       "      <td>thanks!</td>\n",
       "      <td>geopolitics</td>\n",
       "      <td>2022-03-07</td>\n",
       "      <td>comment</td>\n",
       "      <td>en</td>\n",
       "      <td>0.124504</td>\n",
       "    </tr>\n",
       "    <tr>\n",
       "      <th>450180</th>\n",
       "      <td>thanks!</td>\n",
       "      <td>geopolitics</td>\n",
       "      <td>2022-03-07</td>\n",
       "      <td>comment</td>\n",
       "      <td>en</td>\n",
       "      <td>0.124504</td>\n",
       "    </tr>\n",
       "    <tr>\n",
       "      <th>450181</th>\n",
       "      <td>not sure if i was interpreting this wrong, but...</td>\n",
       "      <td>geopolitics</td>\n",
       "      <td>2022-03-07</td>\n",
       "      <td>comment</td>\n",
       "      <td>en</td>\n",
       "      <td>0.991418</td>\n",
       "    </tr>\n",
       "    <tr>\n",
       "      <th>450182</th>\n",
       "      <td>one thing i don’t understand is why ukraine is...</td>\n",
       "      <td>geopolitics</td>\n",
       "      <td>2022-03-07</td>\n",
       "      <td>comment</td>\n",
       "      <td>en</td>\n",
       "      <td>0.950550</td>\n",
       "    </tr>\n",
       "    <tr>\n",
       "      <th>450183</th>\n",
       "      <td>depends on the contract i assume. some might t...</td>\n",
       "      <td>geopolitics</td>\n",
       "      <td>2022-03-07</td>\n",
       "      <td>comment</td>\n",
       "      <td>en</td>\n",
       "      <td>0.954689</td>\n",
       "    </tr>\n",
       "    <tr>\n",
       "      <th>450184</th>\n",
       "      <td>it's on the home page articles today</td>\n",
       "      <td>geopolitics</td>\n",
       "      <td>2022-03-07</td>\n",
       "      <td>comment</td>\n",
       "      <td>en</td>\n",
       "      <td>0.896494</td>\n",
       "    </tr>\n",
       "    <tr>\n",
       "      <th>450185</th>\n",
       "      <td>it really is wild to see him so badly miscalcu...</td>\n",
       "      <td>geopolitics</td>\n",
       "      <td>2022-03-07</td>\n",
       "      <td>comment</td>\n",
       "      <td>en</td>\n",
       "      <td>0.997909</td>\n",
       "    </tr>\n",
       "    <tr>\n",
       "      <th>450186</th>\n",
       "      <td>panic fear and being cut off from swift  \\nrus...</td>\n",
       "      <td>geopolitics</td>\n",
       "      <td>2022-03-07</td>\n",
       "      <td>comment</td>\n",
       "      <td>en</td>\n",
       "      <td>0.973750</td>\n",
       "    </tr>\n",
       "    <tr>\n",
       "      <th>450187</th>\n",
       "      <td>post a [submission statement]( in one hour or ...</td>\n",
       "      <td>geopolitics</td>\n",
       "      <td>2022-03-07</td>\n",
       "      <td>comment</td>\n",
       "      <td>en</td>\n",
       "      <td>0.836011</td>\n",
       "    </tr>\n",
       "    <tr>\n",
       "      <th>450188</th>\n",
       "      <td>just because there are a few neo-nazis in a co...</td>\n",
       "      <td>geopolitics</td>\n",
       "      <td>2022-03-07</td>\n",
       "      <td>comment</td>\n",
       "      <td>en</td>\n",
       "      <td>0.974523</td>\n",
       "    </tr>\n",
       "  </tbody>\n",
       "</table>\n",
       "</div>"
      ],
      "text/plain": [
       "                                                 document   sub_reddit  \\\n",
       "450179                                            thanks!  geopolitics   \n",
       "450180                                            thanks!  geopolitics   \n",
       "450181  not sure if i was interpreting this wrong, but...  geopolitics   \n",
       "450182  one thing i don’t understand is why ukraine is...  geopolitics   \n",
       "450183  depends on the contract i assume. some might t...  geopolitics   \n",
       "450184               it's on the home page articles today  geopolitics   \n",
       "450185  it really is wild to see him so badly miscalcu...  geopolitics   \n",
       "450186  panic fear and being cut off from swift  \\nrus...  geopolitics   \n",
       "450187  post a [submission statement]( in one hour or ...  geopolitics   \n",
       "450188  just because there are a few neo-nazis in a co...  geopolitics   \n",
       "\n",
       "              date     type language  confidence  \n",
       "450179  2022-03-07  comment       en    0.124504  \n",
       "450180  2022-03-07  comment       en    0.124504  \n",
       "450181  2022-03-07  comment       en    0.991418  \n",
       "450182  2022-03-07  comment       en    0.950550  \n",
       "450183  2022-03-07  comment       en    0.954689  \n",
       "450184  2022-03-07  comment       en    0.896494  \n",
       "450185  2022-03-07  comment       en    0.997909  \n",
       "450186  2022-03-07  comment       en    0.973750  \n",
       "450187  2022-03-07  comment       en    0.836011  \n",
       "450188  2022-03-07  comment       en    0.974523  "
      ]
     },
     "execution_count": 405,
     "metadata": {},
     "output_type": "execute_result"
    }
   ],
   "source": [
    "pd.DataFrame.head(data)\n",
    "\n",
    "data[:10]\n",
    "data[9990:]"
   ]
  },
  {
   "cell_type": "code",
   "execution_count": 406,
   "metadata": {},
   "outputs": [
    {
     "name": "stdout",
     "output_type": "stream",
     "text": [
      "2022-03-07\n",
      "just because there are a few neo-nazis in a country doesn't mean putin's justification for the invasion is true. the azov party got less than 2% of the votes in the 2019 election. zelensky is freaking jewish.\n",
      "\n",
      "it's a bit of a disproportionate response to risk tens of thousands of lives and billions of dollars of equipment to remove a minor group.\n",
      "\n",
      "if you don't see this as a completely transparent attempt to legitimize a power grab, then i don't think anything i can say will convince you.\n"
     ]
    }
   ],
   "source": [
    "print(dates[-1])\n",
    "print(docs[-1])"
   ]
  },
  {
   "cell_type": "code",
   "execution_count": 407,
   "metadata": {},
   "outputs": [],
   "source": [
    "#If this outputs anything, there is a problem. Something that should be a string is not...\n",
    "for i in docs: \n",
    "    test = isinstance(i, str)\n",
    "    if test == False: \n",
    "        print (test)"
   ]
  },
  {
   "cell_type": "markdown",
   "metadata": {},
   "source": [
    "## Training embeddings"
   ]
  },
  {
   "cell_type": "code",
   "execution_count": 408,
   "metadata": {},
   "outputs": [],
   "source": [
    "import random\n",
    "random.seed(29)\n",
    "\n",
    "#Husk at installe sentence_transformers via terminalen\n",
    "from sentence_transformers import SentenceTransformer\n",
    "\n",
    "# Prepare embeddings\n",
    "sentence_model = SentenceTransformer(\"all-MiniLM-L6-v2\")\n",
    "embeddings = sentence_model.encode(docs, show_progress_bar=False)\n"
   ]
  },
  {
   "cell_type": "markdown",
   "metadata": {},
   "source": [
    "## Fitting the model"
   ]
  },
  {
   "cell_type": "code",
   "execution_count": null,
   "metadata": {},
   "outputs": [],
   "source": [
    "#Kør kun hvis chunken nedenfor ikke virker\n",
    "from umap import UMAP\n",
    "umap_model = UMAP(n_components=5, n_neighbors=15, min_dist=0.0, metric='cosine', random_state = 29)"
   ]
  },
  {
   "cell_type": "code",
   "execution_count": 409,
   "metadata": {},
   "outputs": [
    {
     "ename": "ModuleNotFoundError",
     "evalue": "No module named 'cuml'",
     "output_type": "error",
     "traceback": [
      "\u001b[0;31m---------------------------------------------------------------------------\u001b[0m",
      "\u001b[0;31mModuleNotFoundError\u001b[0m                       Traceback (most recent call last)",
      "\u001b[1;32m/work/NLP examproject (293386)/NLPexam/lina_test_RU_war.ipynb Cell 10'\u001b[0m in \u001b[0;36m<cell line: 1>\u001b[0;34m()\u001b[0m\n\u001b[0;32m----> <a href='vscode-notebook-cell://app-348871-0.cloud.sdu.dk/work/NLP%20examproject%20%28293386%29/NLPexam/lina_test_RU_war.ipynb#ch0000028vscode-remote?line=0'>1</a>\u001b[0m \u001b[39mfrom\u001b[39;00m \u001b[39mcuml\u001b[39;00m\u001b[39m.\u001b[39;00m\u001b[39mmanifold\u001b[39;00m \u001b[39mimport\u001b[39;00m UMAP\n\u001b[1;32m      <a href='vscode-notebook-cell://app-348871-0.cloud.sdu.dk/work/NLP%20examproject%20%28293386%29/NLPexam/lina_test_RU_war.ipynb#ch0000028vscode-remote?line=1'>2</a>\u001b[0m \u001b[39m#from umap import UMAP\u001b[39;00m\n\u001b[1;32m      <a href='vscode-notebook-cell://app-348871-0.cloud.sdu.dk/work/NLP%20examproject%20%28293386%29/NLPexam/lina_test_RU_war.ipynb#ch0000028vscode-remote?line=2'>3</a>\u001b[0m \u001b[39mfrom\u001b[39;00m \u001b[39mcuml\u001b[39;00m\u001b[39m.\u001b[39;00m\u001b[39mcluster\u001b[39;00m \u001b[39mimport\u001b[39;00m HDBSCAN\n",
      "\u001b[0;31mModuleNotFoundError\u001b[0m: No module named 'cuml'"
     ]
    }
   ],
   "source": [
    "#Skal virke for at få GPU'en til at køre hurtigere, men der er problemer med at loade cuml pakken\n",
    "\n",
    "#from cuml.manifold import UMAP\n",
    "#from cuml.cluster import HDBSCAN\n",
    "\n",
    "# Create instances of GPU-accelerated UMAP and HDBSCAN\n",
    "#umap_model = UMAP(n_components=5, n_neighbors=15, min_dist=0.0, metric='cosine', random_state = 29)\n",
    "#hdbscan_model = HDBSCAN(min_samples=10, gen_min_span_tree=True)"
   ]
  },
  {
   "cell_type": "code",
   "execution_count": null,
   "metadata": {},
   "outputs": [
    {
     "name": "stderr",
     "output_type": "stream",
     "text": [
      "2022-12-16 11:17:05,931 - BERTopic - Reduced dimensionality\n",
      "2022-12-16 11:17:06,404 - BERTopic - Clustered reduced embeddings\n"
     ]
    }
   ],
   "source": [
    "\n",
    "\n",
    "from bertopic import BERTopic\n",
    "\n",
    "#Kør hvis GPU opsætning IKKE virker\n",
    "topic_model = BERTopic(language = \"multilingual\", verbose = True, calculate_probabilities = False, umap_model=umap_model)\n",
    "#Kør hvis GPU opsætning virker\n",
    "#topic_model = BERTopic(language = \"multilingual\", verbose = True, calculate_probabilities = False, umap_model=umap_model, hdbscan_model=hdbscan_model)\n",
    "\n",
    "\n",
    "topics, probs = topic_model.fit_transform(docs, embeddings)\n"
   ]
  },
  {
   "cell_type": "markdown",
   "metadata": {},
   "source": [
    "### Removing stopwords "
   ]
  },
  {
   "cell_type": "code",
   "execution_count": null,
   "metadata": {},
   "outputs": [
    {
     "data": {
      "text/html": [
       "<div>\n",
       "<style scoped>\n",
       "    .dataframe tbody tr th:only-of-type {\n",
       "        vertical-align: middle;\n",
       "    }\n",
       "\n",
       "    .dataframe tbody tr th {\n",
       "        vertical-align: top;\n",
       "    }\n",
       "\n",
       "    .dataframe thead th {\n",
       "        text-align: right;\n",
       "    }\n",
       "</style>\n",
       "<table border=\"1\" class=\"dataframe\">\n",
       "  <thead>\n",
       "    <tr style=\"text-align: right;\">\n",
       "      <th></th>\n",
       "      <th>Topic</th>\n",
       "      <th>Count</th>\n",
       "      <th>Name</th>\n",
       "    </tr>\n",
       "  </thead>\n",
       "  <tbody>\n",
       "    <tr>\n",
       "      <th>0</th>\n",
       "      <td>-1</td>\n",
       "      <td>4295</td>\n",
       "      <td>-1_the_and_to_of</td>\n",
       "    </tr>\n",
       "    <tr>\n",
       "      <th>1</th>\n",
       "      <td>0</td>\n",
       "      <td>163</td>\n",
       "      <td>0_не_на_что_що</td>\n",
       "    </tr>\n",
       "    <tr>\n",
       "      <th>2</th>\n",
       "      <td>1</td>\n",
       "      <td>140</td>\n",
       "      <td>1_nuclear_nukes_nuke_use</td>\n",
       "    </tr>\n",
       "    <tr>\n",
       "      <th>3</th>\n",
       "      <td>2</td>\n",
       "      <td>104</td>\n",
       "      <td>2_nato_join_eu_membership</td>\n",
       "    </tr>\n",
       "    <tr>\n",
       "      <th>4</th>\n",
       "      <td>3</td>\n",
       "      <td>97</td>\n",
       "      <td>3_russians_are_they_people</td>\n",
       "    </tr>\n",
       "    <tr>\n",
       "      <th>5</th>\n",
       "      <td>4</td>\n",
       "      <td>93</td>\n",
       "      <td>4_him_he_sniff_little</td>\n",
       "    </tr>\n",
       "    <tr>\n",
       "      <th>6</th>\n",
       "      <td>5</td>\n",
       "      <td>82</td>\n",
       "      <td>5_he_him_his_amtrak</td>\n",
       "    </tr>\n",
       "    <tr>\n",
       "      <th>7</th>\n",
       "      <td>6</td>\n",
       "      <td>79</td>\n",
       "      <td>6_democracy_american_we_continuity</td>\n",
       "    </tr>\n",
       "    <tr>\n",
       "      <th>8</th>\n",
       "      <td>7</td>\n",
       "      <td>77</td>\n",
       "      <td>7_draft_military_you_your</td>\n",
       "    </tr>\n",
       "    <tr>\n",
       "      <th>9</th>\n",
       "      <td>8</td>\n",
       "      <td>72</td>\n",
       "      <td>8_drones_bayraktar_drone_tb2</td>\n",
       "    </tr>\n",
       "    <tr>\n",
       "      <th>10</th>\n",
       "      <td>9</td>\n",
       "      <td>71</td>\n",
       "      <td>9_song_music_anthem_cello</td>\n",
       "    </tr>\n",
       "  </tbody>\n",
       "</table>\n",
       "</div>"
      ],
      "text/plain": [
       "    Topic  Count                                Name\n",
       "0      -1   4295                    -1_the_and_to_of\n",
       "1       0    163                      0_не_на_что_що\n",
       "2       1    140            1_nuclear_nukes_nuke_use\n",
       "3       2    104           2_nato_join_eu_membership\n",
       "4       3     97          3_russians_are_they_people\n",
       "5       4     93               4_him_he_sniff_little\n",
       "6       5     82                 5_he_him_his_amtrak\n",
       "7       6     79  6_democracy_american_we_continuity\n",
       "8       7     77           7_draft_military_you_your\n",
       "9       8     72        8_drones_bayraktar_drone_tb2\n",
       "10      9     71           9_song_music_anthem_cello"
      ]
     },
     "execution_count": 394,
     "metadata": {},
     "output_type": "execute_result"
    }
   ],
   "source": [
    "topic_model.get_topic_info()[0:11]"
   ]
  },
  {
   "cell_type": "code",
   "execution_count": null,
   "metadata": {},
   "outputs": [],
   "source": [
    "from sklearn.feature_extraction.text import CountVectorizer\n",
    "\n",
    "vectorizer_model = CountVectorizer(ngram_range=(1, 3), stop_words=\"english\")\n",
    "#vectorizer_model = CountVectorizer(stop_words=\"english\")\n",
    "\n",
    "topic_model.update_topics(docs, vectorizer_model=vectorizer_model)"
   ]
  },
  {
   "cell_type": "markdown",
   "metadata": {},
   "source": [
    "### Investigating the model"
   ]
  },
  {
   "cell_type": "code",
   "execution_count": null,
   "metadata": {},
   "outputs": [
    {
     "data": {
      "text/html": [
       "<div>\n",
       "<style scoped>\n",
       "    .dataframe tbody tr th:only-of-type {\n",
       "        vertical-align: middle;\n",
       "    }\n",
       "\n",
       "    .dataframe tbody tr th {\n",
       "        vertical-align: top;\n",
       "    }\n",
       "\n",
       "    .dataframe thead th {\n",
       "        text-align: right;\n",
       "    }\n",
       "</style>\n",
       "<table border=\"1\" class=\"dataframe\">\n",
       "  <thead>\n",
       "    <tr style=\"text-align: right;\">\n",
       "      <th></th>\n",
       "      <th>Topic</th>\n",
       "      <th>Count</th>\n",
       "      <th>Name</th>\n",
       "    </tr>\n",
       "  </thead>\n",
       "  <tbody>\n",
       "    <tr>\n",
       "      <th>0</th>\n",
       "      <td>-1</td>\n",
       "      <td>4295</td>\n",
       "      <td>-1_russia_putin_russian_people</td>\n",
       "    </tr>\n",
       "    <tr>\n",
       "      <th>1</th>\n",
       "      <td>0</td>\n",
       "      <td>163</td>\n",
       "      <td>0_не_на_что_россии</td>\n",
       "    </tr>\n",
       "    <tr>\n",
       "      <th>2</th>\n",
       "      <td>1</td>\n",
       "      <td>140</td>\n",
       "      <td>1_nukes_nuclear_nuke_tactical</td>\n",
       "    </tr>\n",
       "    <tr>\n",
       "      <th>3</th>\n",
       "      <td>2</td>\n",
       "      <td>104</td>\n",
       "      <td>2_nato_join_eu_membership</td>\n",
       "    </tr>\n",
       "    <tr>\n",
       "      <th>4</th>\n",
       "      <td>3</td>\n",
       "      <td>97</td>\n",
       "      <td>3_russians_evil_people_change</td>\n",
       "    </tr>\n",
       "    <tr>\n",
       "      <th>5</th>\n",
       "      <td>4</td>\n",
       "      <td>93</td>\n",
       "      <td>4_sniff_little_kid_sniffing</td>\n",
       "    </tr>\n",
       "    <tr>\n",
       "      <th>6</th>\n",
       "      <td>5</td>\n",
       "      <td>82</td>\n",
       "      <td>5_amtrak_joe_elected_trump</td>\n",
       "    </tr>\n",
       "    <tr>\n",
       "      <th>7</th>\n",
       "      <td>6</td>\n",
       "      <td>79</td>\n",
       "      <td>6_democracy_american_continuity_autocracy</td>\n",
       "    </tr>\n",
       "    <tr>\n",
       "      <th>8</th>\n",
       "      <td>7</td>\n",
       "      <td>77</td>\n",
       "      <td>7_draft_military_year_platoon</td>\n",
       "    </tr>\n",
       "    <tr>\n",
       "      <th>9</th>\n",
       "      <td>8</td>\n",
       "      <td>72</td>\n",
       "      <td>8_drones_bayraktar_tb2_drone</td>\n",
       "    </tr>\n",
       "    <tr>\n",
       "      <th>10</th>\n",
       "      <td>9</td>\n",
       "      <td>71</td>\n",
       "      <td>9_song_music_anthem_cello</td>\n",
       "    </tr>\n",
       "  </tbody>\n",
       "</table>\n",
       "</div>"
      ],
      "text/plain": [
       "    Topic  Count                                       Name\n",
       "0      -1   4295             -1_russia_putin_russian_people\n",
       "1       0    163                         0_не_на_что_россии\n",
       "2       1    140              1_nukes_nuclear_nuke_tactical\n",
       "3       2    104                  2_nato_join_eu_membership\n",
       "4       3     97              3_russians_evil_people_change\n",
       "5       4     93                4_sniff_little_kid_sniffing\n",
       "6       5     82                 5_amtrak_joe_elected_trump\n",
       "7       6     79  6_democracy_american_continuity_autocracy\n",
       "8       7     77              7_draft_military_year_platoon\n",
       "9       8     72               8_drones_bayraktar_tb2_drone\n",
       "10      9     71                  9_song_music_anthem_cello"
      ]
     },
     "execution_count": 396,
     "metadata": {},
     "output_type": "execute_result"
    }
   ],
   "source": [
    "topic_model.get_topic_info()[0:11]"
   ]
  },
  {
   "cell_type": "markdown",
   "metadata": {},
   "source": [
    "### Saving and loading models"
   ]
  },
  {
   "cell_type": "code",
   "execution_count": null,
   "metadata": {},
   "outputs": [],
   "source": [
    "#topic_model.save(\"models/model_medium\")"
   ]
  },
  {
   "cell_type": "code",
   "execution_count": null,
   "metadata": {},
   "outputs": [],
   "source": [
    "#from bertopic import BERTopic\n",
    "\n",
    "#topic_model = BERTopic.load(\"models/model_medium\")"
   ]
  },
  {
   "cell_type": "markdown",
   "metadata": {},
   "source": [
    "## Visualizations"
   ]
  },
  {
   "cell_type": "code",
   "execution_count": null,
   "metadata": {},
   "outputs": [],
   "source": [
    "#Tager lang tid at køre, når vi har så mange små topics\n",
    "#topic_model.visualize_topics()"
   ]
  },
  {
   "cell_type": "markdown",
   "metadata": {},
   "source": [
    "### Topics over time"
   ]
  },
  {
   "cell_type": "markdown",
   "metadata": {},
   "source": [
    "### Function for visualizing topics over time"
   ]
  },
  {
   "cell_type": "code",
   "execution_count": null,
   "metadata": {},
   "outputs": [],
   "source": [
    "import pandas as pd\n",
    "from typing import List\n",
    "import plotly.graph_objects as go\n",
    "from sklearn.preprocessing import normalize\n",
    "\n",
    "\n",
    "def visualize_topics_over_time(topic_model,\n",
    "                               topics_over_time: pd.DataFrame,\n",
    "                               top_n_topics: int = None,\n",
    "                               topics: List[int] = None,\n",
    "                               normalize_frequency: bool = False,\n",
    "                               custom_labels: bool = False,\n",
    "                               width: int = 1250,\n",
    "                               height: int = 450) -> go.Figure:\n",
    "    \"\"\" Visualize topics over time\n",
    "    Arguments:\n",
    "        topic_model: A fitted BERTopic instance.\n",
    "        topics_over_time: The topics you would like to be visualized with the\n",
    "                          corresponding topic representation\n",
    "        top_n_topics: To visualize the most frequent topics instead of all\n",
    "        topics: Select which topics you would like to be visualized\n",
    "        normalize_frequency: Whether to normalize each topic's frequency individually\n",
    "        custom_labels: Whether to use custom topic labels that were defined using \n",
    "                       `topic_model.set_topic_labels`.\n",
    "        width: The width of the figure.\n",
    "        height: The height of the figure.\n",
    "    Returns:\n",
    "        A plotly.graph_objects.Figure including all traces\n",
    "    Examples:\n",
    "    To visualize the topics over time, simply run:\n",
    "    ```python\n",
    "    topics_over_time = topic_model.topics_over_time(docs, timestamps)\n",
    "    topic_model.visualize_topics_over_time(topics_over_time)\n",
    "    ```\n",
    "    Or if you want to save the resulting figure:\n",
    "    ```python\n",
    "    fig = topic_model.visualize_topics_over_time(topics_over_time)\n",
    "    fig.write_html(\"path/to/file.html\")\n",
    "    ```\n",
    "    <iframe src=\"../../getting_started/visualization/trump.html\"\n",
    "    style=\"width:1000px; height: 680px; border: 0px;\"\"></iframe>\n",
    "    \"\"\"\n",
    "    colors = ['#e6194b', '#3cb44b', '#ffe119', '#4363d8', '#f58231', '#911eb4', '#46f0f0', '#f032e6', '#bcf60c', '#fabebe', '#008080', '#e6beff', '#9a6324', '#fffac8', '#800000', '#aaffc3', '#808000', '#ffd8b1', '#000075', '#808080', '#ffffff', '#000000']\n",
    "\n",
    "    # Select topics based on top_n and topics args\n",
    "    freq_df = topic_model.get_topic_freq()\n",
    "    freq_df = freq_df.loc[freq_df.Topic != -1, :]\n",
    "    if topics is not None:\n",
    "        selected_topics = list(topics)\n",
    "    elif top_n_topics is not None:\n",
    "        selected_topics = sorted(freq_df.Topic.to_list()[:top_n_topics])\n",
    "    else:\n",
    "        selected_topics = sorted(freq_df.Topic.to_list())\n",
    "\n",
    "    # Prepare data\n",
    "    if topic_model.custom_labels_ is not None and custom_labels:\n",
    "        topic_names = {key: topic_model.custom_labels_[key + topic_model._outliers] for key, _ in topic_model.topic_labels_.items()}\n",
    "    else:\n",
    "        topic_names = {key: value[:40] + \"...\" if len(value) > 40 else value\n",
    "                       for key, value in topic_model.topic_labels_.items()}\n",
    "    topics_over_time[\"Name\"] = topics_over_time.Topic.map(topic_names)\n",
    "    data = topics_over_time.loc[topics_over_time.Topic.isin(selected_topics), :].sort_values([\"Topic\", \"Timestamp\"])\n",
    "\n",
    "    # Add traces\n",
    "    fig = go.Figure()\n",
    "    for index, topic in enumerate(data.Topic.unique()):\n",
    "        trace_data = data.loc[data.Topic == topic, :]\n",
    "        topic_name = trace_data.Name.values[0]\n",
    "        words = trace_data.Words.values\n",
    "        if normalize_frequency:\n",
    "            y = normalize(trace_data.Frequency.values.reshape(1, -1))[0]\n",
    "        else:\n",
    "            y = trace_data.Frequency\n",
    "        fig.add_trace(go.Scatter(x=trace_data.Timestamp, y=y,\n",
    "                                 mode='lines',\n",
    "                                 marker_color=colors[index % 20],\n",
    "                                 hoverinfo=\"text\",\n",
    "                                 name=topic_name,\n",
    "                                 hovertext=[f'<b>Topic {topic}</b><br>Words: {word}' for word in words]))\n",
    "\n",
    "    # Styling of the visualization\n",
    "    fig.update_xaxes(showgrid=True)\n",
    "    fig.update_yaxes(showgrid=True)\n",
    "    fig.update_layout(\n",
    "        yaxis_title=\"Normalized Frequency\" if normalize_frequency else \"Frequency\",\n",
    "        title={\n",
    "            'text': \"<b>Topics over Time\",\n",
    "            'y': .95,\n",
    "            'x': 0.40,\n",
    "            'xanchor': 'center',\n",
    "            'yanchor': 'top',\n",
    "            'font': dict(\n",
    "                size=22,\n",
    "                color=\"Black\")\n",
    "        },\n",
    "        template=\"simple_white\",\n",
    "        width=width,\n",
    "        height=height,\n",
    "        hoverlabel=dict(\n",
    "            bgcolor=\"white\",\n",
    "            font_size=16,\n",
    "            font_family=\"Rockwell\"\n",
    "        ),\n",
    "        legend=dict(\n",
    "            title=\"<b>Global Topic Representation\",\n",
    "        )\n",
    "    )\n",
    "    return fig"
   ]
  },
  {
   "cell_type": "code",
   "execution_count": null,
   "metadata": {},
   "outputs": [
    {
     "name": "stderr",
     "output_type": "stream",
     "text": [
      "4it [00:00,  4.96it/s]\n"
     ]
    },
    {
     "data": {
      "application/vnd.plotly.v1+json": {
       "config": {
        "plotlyServerURL": "https://plot.ly"
       },
       "data": [
        {
         "hoverinfo": "text",
         "hovertext": [
          "<b>Topic 0</b><br>Words: не, на, це, что, що",
          "<b>Topic 0</b><br>Words: та, що, не, полная, района",
          "<b>Topic 0</b><br>Words: россии, украину, февраля, вторжения, хроники",
          "<b>Topic 0</b><br>Words: так, di, stati, uniti, avversario"
         ],
         "marker": {
          "color": "#e6194b"
         },
         "mode": "lines",
         "name": "0_не_на_что_россии",
         "type": "scatter",
         "x": [
          "2022-03-06T23:31:12",
          "2022-03-20T00:00:00",
          "2022-03-22T00:00:00",
          "2022-03-26T00:00:00"
         ],
         "y": [
          83,
          27,
          46,
          7
         ]
        },
        {
         "hoverinfo": "text",
         "hovertext": [
          "<b>Topic 1</b><br>Words: nukes, nuclear, nuke, tactical, use",
          "<b>Topic 1</b><br>Words: tu, nuclear, submarine, icbm, 31",
          "<b>Topic 1</b><br>Words: nuclear, dystopia, alert, nukes, use",
          "<b>Topic 1</b><br>Words: nukes, nuclear, nuke, use, tactical"
         ],
         "marker": {
          "color": "#3cb44b"
         },
         "mode": "lines",
         "name": "1_nukes_nuclear_nuke_tactical",
         "type": "scatter",
         "x": [
          "2022-03-06T23:31:12",
          "2022-03-20T00:00:00",
          "2022-03-22T00:00:00",
          "2022-03-26T00:00:00"
         ],
         "y": [
          59,
          8,
          22,
          51
         ]
        },
        {
         "hoverinfo": "text",
         "hovertext": [
          "<b>Topic 2</b><br>Words: nato, join, eu, membership, members",
          "<b>Topic 2</b><br>Words: nato, formed, european, pleads, systematically",
          "<b>Topic 2</b><br>Words: nato, stoltenberg, chemical, nuclear, guest",
          "<b>Topic 2</b><br>Words: nato, countries, supreme, threat, idea"
         ],
         "marker": {
          "color": "#ffe119"
         },
         "mode": "lines",
         "name": "2_nato_join_eu_membership",
         "type": "scatter",
         "x": [
          "2022-03-06T23:31:12",
          "2022-03-20T00:00:00",
          "2022-03-22T00:00:00",
          "2022-03-26T00:00:00"
         ],
         "y": [
          46,
          12,
          30,
          16
         ]
        },
        {
         "hoverinfo": "text",
         "hovertext": [
          "<b>Topic 3</b><br>Words: russians, evil, boot, ppl, justify",
          "<b>Topic 3</b><br>Words: rashist, totalitarian, ml, orwellian, stalinist",
          "<b>Topic 3</b><br>Words: evil, panic, russians, proverb, starting",
          "<b>Topic 3</b><br>Words: russians, change, hate, people, behavior"
         ],
         "marker": {
          "color": "#4363d8"
         },
         "mode": "lines",
         "name": "3_russians_evil_people_change",
         "type": "scatter",
         "x": [
          "2022-03-06T23:31:12",
          "2022-03-20T00:00:00",
          "2022-03-22T00:00:00",
          "2022-03-26T00:00:00"
         ],
         "y": [
          30,
          5,
          11,
          51
         ]
        },
        {
         "hoverinfo": "text",
         "hovertext": [
          "<b>Topic 4</b><br>Words: practicing, sophomore, toastmasters, daughters, suit",
          "<b>Topic 4</b><br>Words: brown, potter, jesse, alfie, harry",
          "<b>Topic 4</b><br>Words: sniff, little, kid, sniffing, joe"
         ],
         "marker": {
          "color": "#f58231"
         },
         "mode": "lines",
         "name": "4_sniff_little_kid_sniffing",
         "type": "scatter",
         "x": [
          "2022-03-06T23:31:12",
          "2022-03-22T00:00:00",
          "2022-03-26T00:00:00"
         ],
         "y": [
          7,
          4,
          82
         ]
        },
        {
         "hoverinfo": "text",
         "hovertext": [
          "<b>Topic 5</b><br>Words: cruz, mistakes, fell, cancun, miscalculate",
          "<b>Topic 5</b><br>Words: detsch, jack, twitter, amtrak, joe",
          "<b>Topic 5</b><br>Words: amtrak, joe, elected, president, senator"
         ],
         "marker": {
          "color": "#911eb4"
         },
         "mode": "lines",
         "name": "5_amtrak_joe_elected_trump",
         "type": "scatter",
         "x": [
          "2022-03-06T23:31:12",
          "2022-03-22T00:00:00",
          "2022-03-26T00:00:00"
         ],
         "y": [
          14,
          1,
          67
         ]
        },
        {
         "hoverinfo": "text",
         "hovertext": [
          "<b>Topic 6</b><br>Words: american, overthrow, louder, plan, neutrality",
          "<b>Topic 6</b><br>Words: iran, sub, invaded, america, does",
          "<b>Topic 6</b><br>Words: expulsions, buttom, relativity, exchanges, phrase",
          "<b>Topic 6</b><br>Words: democracy, continuity, autocracy, minority, american"
         ],
         "marker": {
          "color": "#46f0f0"
         },
         "mode": "lines",
         "name": "6_democracy_american_continuity_autocrac...",
         "type": "scatter",
         "x": [
          "2022-03-06T23:31:12",
          "2022-03-20T00:00:00",
          "2022-03-22T00:00:00",
          "2022-03-26T00:00:00"
         ],
         "y": [
          28,
          2,
          4,
          45
         ]
        },
        {
         "hoverinfo": "text",
         "hovertext": [
          "<b>Topic 7</b><br>Words: 18y, training, toe, advice, serving",
          "<b>Topic 7</b><br>Words: lhr, concerning, 65, conscription, development",
          "<b>Topic 7</b><br>Words: armys, roles, aged, combat, 60",
          "<b>Topic 7</b><br>Words: draft, year, military, platoon, conservatives"
         ],
         "marker": {
          "color": "#f032e6"
         },
         "mode": "lines",
         "name": "7_draft_military_year_platoon",
         "type": "scatter",
         "x": [
          "2022-03-06T23:31:12",
          "2022-03-20T00:00:00",
          "2022-03-22T00:00:00",
          "2022-03-26T00:00:00"
         ],
         "y": [
          19,
          2,
          4,
          52
         ]
        },
        {
         "hoverinfo": "text",
         "hovertext": [
          "<b>Topic 8</b><br>Words: drones, celebrate, bayraktar, yemen, drone",
          "<b>Topic 8</b><br>Words: drones, drone, artillery, bayraktar, uavs",
          "<b>Topic 8</b><br>Words: bayraktar, tb2, drones, drone, artillery",
          "<b>Topic 8</b><br>Words: ram, drones, drone, bayraktar, artillery"
         ],
         "marker": {
          "color": "#bcf60c"
         },
         "mode": "lines",
         "name": "8_drones_bayraktar_tb2_drone",
         "type": "scatter",
         "x": [
          "2022-03-06T23:31:12",
          "2022-03-20T00:00:00",
          "2022-03-22T00:00:00",
          "2022-03-26T00:00:00"
         ],
         "y": [
          14,
          17,
          35,
          6
         ]
        },
        {
         "hoverinfo": "text",
         "hovertext": [
          "<b>Topic 9</b><br>Words: cossacks, song, music, anthem, alert",
          "<b>Topic 9</b><br>Words: song, alabama, anthem, recorded, jamala",
          "<b>Topic 9</b><br>Words: song, cello, anthem, plays, souls",
          "<b>Topic 9</b><br>Words: music, song, lyrics, singing, band"
         ],
         "marker": {
          "color": "#fabebe"
         },
         "mode": "lines",
         "name": "9_song_music_anthem_cello",
         "type": "scatter",
         "x": [
          "2022-03-06T23:31:12",
          "2022-03-20T00:00:00",
          "2022-03-22T00:00:00",
          "2022-03-26T00:00:00"
         ],
         "y": [
          6,
          17,
          35,
          13
         ]
        },
        {
         "hoverinfo": "text",
         "hovertext": [
          "<b>Topic 10</b><br>Words: crimes, reflect, taboo, mocking, criminals",
          "<b>Topic 10</b><br>Words: crimes, johnson, dmytro, committed, camps",
          "<b>Topic 10</b><br>Words: crimes, committed, declares, formally, department",
          "<b>Topic 10</b><br>Words: crimes, committed, crime, murder, cross"
         ],
         "marker": {
          "color": "#008080"
         },
         "mode": "lines",
         "name": "10_crimes_committed_declares_crime",
         "type": "scatter",
         "x": [
          "2022-03-06T23:31:12",
          "2022-03-20T00:00:00",
          "2022-03-22T00:00:00",
          "2022-03-26T00:00:00"
         ],
         "y": [
          3,
          11,
          39,
          13
         ]
        },
        {
         "hoverinfo": "text",
         "hovertext": [
          "<b>Topic 11</b><br>Words: missles, missiles, carriers, radar, cruise",
          "<b>Topic 11</b><br>Words: hypersonic, warships, failing, kinzhal, coastline",
          "<b>Topic 11</b><br>Words: missiles, missles, cruise, warship, launching",
          "<b>Topic 11</b><br>Words: subs, cruise, missiles, flu, shots"
         ],
         "marker": {
          "color": "#e6beff"
         },
         "mode": "lines",
         "name": "11_missiles_cruise_missles_warship",
         "type": "scatter",
         "x": [
          "2022-03-06T23:31:12",
          "2022-03-20T00:00:00",
          "2022-03-22T00:00:00",
          "2022-03-26T00:00:00"
         ],
         "y": [
          5,
          10,
          42,
          9
         ]
        },
        {
         "hoverinfo": "text",
         "hovertext": [
          "<b>Topic 12</b><br>Words: thank, thanks, awesome, remindme, tysm",
          "<b>Topic 12</b><br>Words: share, story, love, thank, thanks",
          "<b>Topic 12</b><br>Words: thank, awesome, thanks, thx, nice"
         ],
         "marker": {
          "color": "#9a6324"
         },
         "mode": "lines",
         "name": "12_thank_thanks_awesome_nice",
         "type": "scatter",
         "x": [
          "2022-03-06T23:31:12",
          "2022-03-22T00:00:00",
          "2022-03-26T00:00:00"
         ],
         "y": [
          25,
          4,
          37
         ]
        },
        {
         "hoverinfo": "text",
         "hovertext": [
          "<b>Topic 13</b><br>Words: million, rookie, half, 000, police",
          "<b>Topic 13</b><br>Words: tabloid, 861, komsomolskaya, 153, pravda",
          "<b>Topic 13</b><br>Words: 000, 16, killed, 861, wounded",
          "<b>Topic 13</b><br>Words: elites, 000, tabloid, 861, comparatively"
         ],
         "marker": {
          "color": "#fffac8"
         },
         "mode": "lines",
         "name": "13_tabloid_861_153_16",
         "type": "scatter",
         "x": [
          "2022-03-06T23:31:12",
          "2022-03-20T00:00:00",
          "2022-03-22T00:00:00",
          "2022-03-26T00:00:00"
         ],
         "y": [
          4,
          34,
          21,
          6
         ]
        },
        {
         "hoverinfo": "text",
         "hovertext": [
          "<b>Topic 14</b><br>Words: pudding, putin, horrible, vicious, aches",
          "<b>Topic 14</b><br>Words: treats, shadows, ransomware, conti, putin",
          "<b>Topic 14</b><br>Words: putins, putin, hbo, lizard, intellect",
          "<b>Topic 14</b><br>Words: putin, hahaha, suck, dick, treats"
         ],
         "marker": {
          "color": "#800000"
         },
         "mode": "lines",
         "name": "14_putin_treats_hahaha_putins",
         "type": "scatter",
         "x": [
          "2022-03-06T23:31:12",
          "2022-03-20T00:00:00",
          "2022-03-22T00:00:00",
          "2022-03-26T00:00:00"
         ],
         "y": [
          9,
          11,
          14,
          28
         ]
        },
        {
         "hoverinfo": "text",
         "hovertext": [
          "<b>Topic 15</b><br>Words: footage, combat, azov, guncam, moshchun",
          "<b>Topic 15</b><br>Words: footage, combat, filmed, factory, 64bv",
          "<b>Topic 15</b><br>Words: spec, suggestions, ops, played, field"
         ],
         "marker": {
          "color": "#aaffc3"
         },
         "mode": "lines",
         "name": "15_footage_combat_filmed_mariupol",
         "type": "scatter",
         "x": [
          "2022-03-20T00:00:00",
          "2022-03-22T00:00:00",
          "2022-03-26T00:00:00"
         ],
         "y": [
          22,
          34,
          3
         ]
        },
        {
         "hoverinfo": "text",
         "hovertext": [
          "<b>Topic 16</b><br>Words: artillery, positions, em, struck, routine",
          "<b>Topic 16</b><br>Words: artillery, mortar, propelled, 2s9, 120mm",
          "<b>Topic 16</b><br>Words: bombardment, invader, prime, artillery, positions"
         ],
         "marker": {
          "color": "#808000"
         },
         "mode": "lines",
         "name": "16_artillery_propelled_positions_mortar",
         "type": "scatter",
         "x": [
          "2022-03-20T00:00:00",
          "2022-03-22T00:00:00",
          "2022-03-26T00:00:00"
         ],
         "y": [
          31,
          24,
          1
         ]
        },
        {
         "hoverinfo": "text",
         "hovertext": [
          "<b>Topic 17</b><br>Words: china, chinese, evil, demographics, weakened",
          "<b>Topic 17</b><br>Words: devere, nigel, china, beijing, growth",
          "<b>Topic 17</b><br>Words: bye, initiative, belt, road, china",
          "<b>Topic 17</b><br>Words: china, chinese, diplomatic, assembly, silly"
         ],
         "marker": {
          "color": "#ffd8b1"
         },
         "mode": "lines",
         "name": "17_china_chinese_evil_belt",
         "type": "scatter",
         "x": [
          "2022-03-06T23:31:12",
          "2022-03-20T00:00:00",
          "2022-03-22T00:00:00",
          "2022-03-26T00:00:00"
         ],
         "y": [
          31,
          3,
          6,
          14
         ]
        },
        {
         "hoverinfo": "text",
         "hovertext": [
          "<b>Topic 18</b><br>Words: alley, avenue, mall, shopping, strike",
          "<b>Topic 18</b><br>Words: mall, shopping, strike, center, retroville",
          "<b>Topic 18</b><br>Words: mall, shopping, shops, chains, manage",
          "<b>Topic 18</b><br>Words: carts, shopping, baskets, mall, wheels"
         ],
         "marker": {
          "color": "#000075"
         },
         "mode": "lines",
         "name": "18_mall_shopping_strike_center",
         "type": "scatter",
         "x": [
          "2022-03-06T23:31:12",
          "2022-03-20T00:00:00",
          "2022-03-22T00:00:00",
          "2022-03-26T00:00:00"
         ],
         "y": [
          1,
          45,
          4,
          1
         ]
        },
        {
         "hoverinfo": "text",
         "hovertext": [
          "<b>Topic 19</b><br>Words: belarus, crimea, russia, belarusian, lukashenko",
          "<b>Topic 19</b><br>Words: belarus, belarusian, viral, protests, mass",
          "<b>Topic 19</b><br>Words: belarus, belarusian, lukashenko, belarusians, railway",
          "<b>Topic 19</b><br>Words: belarus, lukashenko, belarusian, belarusians, encircled"
         ],
         "marker": {
          "color": "#808080"
         },
         "mode": "lines",
         "name": "19_belarus_belarusian_lukashenko_belarus...",
         "type": "scatter",
         "x": [
          "2022-03-06T23:31:12",
          "2022-03-20T00:00:00",
          "2022-03-22T00:00:00",
          "2022-03-26T00:00:00"
         ],
         "y": [
          1,
          11,
          30,
          7
         ]
        }
       ],
       "layout": {
        "height": 450,
        "hoverlabel": {
         "bgcolor": "white",
         "font": {
          "family": "Rockwell",
          "size": 16
         }
        },
        "legend": {
         "title": {
          "text": "<b>Global Topic Representation"
         }
        },
        "template": {
         "data": {
          "bar": [
           {
            "error_x": {
             "color": "rgb(36,36,36)"
            },
            "error_y": {
             "color": "rgb(36,36,36)"
            },
            "marker": {
             "line": {
              "color": "white",
              "width": 0.5
             },
             "pattern": {
              "fillmode": "overlay",
              "size": 10,
              "solidity": 0.2
             }
            },
            "type": "bar"
           }
          ],
          "barpolar": [
           {
            "marker": {
             "line": {
              "color": "white",
              "width": 0.5
             },
             "pattern": {
              "fillmode": "overlay",
              "size": 10,
              "solidity": 0.2
             }
            },
            "type": "barpolar"
           }
          ],
          "carpet": [
           {
            "aaxis": {
             "endlinecolor": "rgb(36,36,36)",
             "gridcolor": "white",
             "linecolor": "white",
             "minorgridcolor": "white",
             "startlinecolor": "rgb(36,36,36)"
            },
            "baxis": {
             "endlinecolor": "rgb(36,36,36)",
             "gridcolor": "white",
             "linecolor": "white",
             "minorgridcolor": "white",
             "startlinecolor": "rgb(36,36,36)"
            },
            "type": "carpet"
           }
          ],
          "choropleth": [
           {
            "colorbar": {
             "outlinewidth": 1,
             "tickcolor": "rgb(36,36,36)",
             "ticks": "outside"
            },
            "type": "choropleth"
           }
          ],
          "contour": [
           {
            "colorbar": {
             "outlinewidth": 1,
             "tickcolor": "rgb(36,36,36)",
             "ticks": "outside"
            },
            "colorscale": [
             [
              0,
              "#440154"
             ],
             [
              0.1111111111111111,
              "#482878"
             ],
             [
              0.2222222222222222,
              "#3e4989"
             ],
             [
              0.3333333333333333,
              "#31688e"
             ],
             [
              0.4444444444444444,
              "#26828e"
             ],
             [
              0.5555555555555556,
              "#1f9e89"
             ],
             [
              0.6666666666666666,
              "#35b779"
             ],
             [
              0.7777777777777778,
              "#6ece58"
             ],
             [
              0.8888888888888888,
              "#b5de2b"
             ],
             [
              1,
              "#fde725"
             ]
            ],
            "type": "contour"
           }
          ],
          "contourcarpet": [
           {
            "colorbar": {
             "outlinewidth": 1,
             "tickcolor": "rgb(36,36,36)",
             "ticks": "outside"
            },
            "type": "contourcarpet"
           }
          ],
          "heatmap": [
           {
            "colorbar": {
             "outlinewidth": 1,
             "tickcolor": "rgb(36,36,36)",
             "ticks": "outside"
            },
            "colorscale": [
             [
              0,
              "#440154"
             ],
             [
              0.1111111111111111,
              "#482878"
             ],
             [
              0.2222222222222222,
              "#3e4989"
             ],
             [
              0.3333333333333333,
              "#31688e"
             ],
             [
              0.4444444444444444,
              "#26828e"
             ],
             [
              0.5555555555555556,
              "#1f9e89"
             ],
             [
              0.6666666666666666,
              "#35b779"
             ],
             [
              0.7777777777777778,
              "#6ece58"
             ],
             [
              0.8888888888888888,
              "#b5de2b"
             ],
             [
              1,
              "#fde725"
             ]
            ],
            "type": "heatmap"
           }
          ],
          "heatmapgl": [
           {
            "colorbar": {
             "outlinewidth": 1,
             "tickcolor": "rgb(36,36,36)",
             "ticks": "outside"
            },
            "colorscale": [
             [
              0,
              "#440154"
             ],
             [
              0.1111111111111111,
              "#482878"
             ],
             [
              0.2222222222222222,
              "#3e4989"
             ],
             [
              0.3333333333333333,
              "#31688e"
             ],
             [
              0.4444444444444444,
              "#26828e"
             ],
             [
              0.5555555555555556,
              "#1f9e89"
             ],
             [
              0.6666666666666666,
              "#35b779"
             ],
             [
              0.7777777777777778,
              "#6ece58"
             ],
             [
              0.8888888888888888,
              "#b5de2b"
             ],
             [
              1,
              "#fde725"
             ]
            ],
            "type": "heatmapgl"
           }
          ],
          "histogram": [
           {
            "marker": {
             "line": {
              "color": "white",
              "width": 0.6
             }
            },
            "type": "histogram"
           }
          ],
          "histogram2d": [
           {
            "colorbar": {
             "outlinewidth": 1,
             "tickcolor": "rgb(36,36,36)",
             "ticks": "outside"
            },
            "colorscale": [
             [
              0,
              "#440154"
             ],
             [
              0.1111111111111111,
              "#482878"
             ],
             [
              0.2222222222222222,
              "#3e4989"
             ],
             [
              0.3333333333333333,
              "#31688e"
             ],
             [
              0.4444444444444444,
              "#26828e"
             ],
             [
              0.5555555555555556,
              "#1f9e89"
             ],
             [
              0.6666666666666666,
              "#35b779"
             ],
             [
              0.7777777777777778,
              "#6ece58"
             ],
             [
              0.8888888888888888,
              "#b5de2b"
             ],
             [
              1,
              "#fde725"
             ]
            ],
            "type": "histogram2d"
           }
          ],
          "histogram2dcontour": [
           {
            "colorbar": {
             "outlinewidth": 1,
             "tickcolor": "rgb(36,36,36)",
             "ticks": "outside"
            },
            "colorscale": [
             [
              0,
              "#440154"
             ],
             [
              0.1111111111111111,
              "#482878"
             ],
             [
              0.2222222222222222,
              "#3e4989"
             ],
             [
              0.3333333333333333,
              "#31688e"
             ],
             [
              0.4444444444444444,
              "#26828e"
             ],
             [
              0.5555555555555556,
              "#1f9e89"
             ],
             [
              0.6666666666666666,
              "#35b779"
             ],
             [
              0.7777777777777778,
              "#6ece58"
             ],
             [
              0.8888888888888888,
              "#b5de2b"
             ],
             [
              1,
              "#fde725"
             ]
            ],
            "type": "histogram2dcontour"
           }
          ],
          "mesh3d": [
           {
            "colorbar": {
             "outlinewidth": 1,
             "tickcolor": "rgb(36,36,36)",
             "ticks": "outside"
            },
            "type": "mesh3d"
           }
          ],
          "parcoords": [
           {
            "line": {
             "colorbar": {
              "outlinewidth": 1,
              "tickcolor": "rgb(36,36,36)",
              "ticks": "outside"
             }
            },
            "type": "parcoords"
           }
          ],
          "pie": [
           {
            "automargin": true,
            "type": "pie"
           }
          ],
          "scatter": [
           {
            "fillpattern": {
             "fillmode": "overlay",
             "size": 10,
             "solidity": 0.2
            },
            "type": "scatter"
           }
          ],
          "scatter3d": [
           {
            "line": {
             "colorbar": {
              "outlinewidth": 1,
              "tickcolor": "rgb(36,36,36)",
              "ticks": "outside"
             }
            },
            "marker": {
             "colorbar": {
              "outlinewidth": 1,
              "tickcolor": "rgb(36,36,36)",
              "ticks": "outside"
             }
            },
            "type": "scatter3d"
           }
          ],
          "scattercarpet": [
           {
            "marker": {
             "colorbar": {
              "outlinewidth": 1,
              "tickcolor": "rgb(36,36,36)",
              "ticks": "outside"
             }
            },
            "type": "scattercarpet"
           }
          ],
          "scattergeo": [
           {
            "marker": {
             "colorbar": {
              "outlinewidth": 1,
              "tickcolor": "rgb(36,36,36)",
              "ticks": "outside"
             }
            },
            "type": "scattergeo"
           }
          ],
          "scattergl": [
           {
            "marker": {
             "colorbar": {
              "outlinewidth": 1,
              "tickcolor": "rgb(36,36,36)",
              "ticks": "outside"
             }
            },
            "type": "scattergl"
           }
          ],
          "scattermapbox": [
           {
            "marker": {
             "colorbar": {
              "outlinewidth": 1,
              "tickcolor": "rgb(36,36,36)",
              "ticks": "outside"
             }
            },
            "type": "scattermapbox"
           }
          ],
          "scatterpolar": [
           {
            "marker": {
             "colorbar": {
              "outlinewidth": 1,
              "tickcolor": "rgb(36,36,36)",
              "ticks": "outside"
             }
            },
            "type": "scatterpolar"
           }
          ],
          "scatterpolargl": [
           {
            "marker": {
             "colorbar": {
              "outlinewidth": 1,
              "tickcolor": "rgb(36,36,36)",
              "ticks": "outside"
             }
            },
            "type": "scatterpolargl"
           }
          ],
          "scatterternary": [
           {
            "marker": {
             "colorbar": {
              "outlinewidth": 1,
              "tickcolor": "rgb(36,36,36)",
              "ticks": "outside"
             }
            },
            "type": "scatterternary"
           }
          ],
          "surface": [
           {
            "colorbar": {
             "outlinewidth": 1,
             "tickcolor": "rgb(36,36,36)",
             "ticks": "outside"
            },
            "colorscale": [
             [
              0,
              "#440154"
             ],
             [
              0.1111111111111111,
              "#482878"
             ],
             [
              0.2222222222222222,
              "#3e4989"
             ],
             [
              0.3333333333333333,
              "#31688e"
             ],
             [
              0.4444444444444444,
              "#26828e"
             ],
             [
              0.5555555555555556,
              "#1f9e89"
             ],
             [
              0.6666666666666666,
              "#35b779"
             ],
             [
              0.7777777777777778,
              "#6ece58"
             ],
             [
              0.8888888888888888,
              "#b5de2b"
             ],
             [
              1,
              "#fde725"
             ]
            ],
            "type": "surface"
           }
          ],
          "table": [
           {
            "cells": {
             "fill": {
              "color": "rgb(237,237,237)"
             },
             "line": {
              "color": "white"
             }
            },
            "header": {
             "fill": {
              "color": "rgb(217,217,217)"
             },
             "line": {
              "color": "white"
             }
            },
            "type": "table"
           }
          ]
         },
         "layout": {
          "annotationdefaults": {
           "arrowhead": 0,
           "arrowwidth": 1
          },
          "autotypenumbers": "strict",
          "coloraxis": {
           "colorbar": {
            "outlinewidth": 1,
            "tickcolor": "rgb(36,36,36)",
            "ticks": "outside"
           }
          },
          "colorscale": {
           "diverging": [
            [
             0,
             "rgb(103,0,31)"
            ],
            [
             0.1,
             "rgb(178,24,43)"
            ],
            [
             0.2,
             "rgb(214,96,77)"
            ],
            [
             0.3,
             "rgb(244,165,130)"
            ],
            [
             0.4,
             "rgb(253,219,199)"
            ],
            [
             0.5,
             "rgb(247,247,247)"
            ],
            [
             0.6,
             "rgb(209,229,240)"
            ],
            [
             0.7,
             "rgb(146,197,222)"
            ],
            [
             0.8,
             "rgb(67,147,195)"
            ],
            [
             0.9,
             "rgb(33,102,172)"
            ],
            [
             1,
             "rgb(5,48,97)"
            ]
           ],
           "sequential": [
            [
             0,
             "#440154"
            ],
            [
             0.1111111111111111,
             "#482878"
            ],
            [
             0.2222222222222222,
             "#3e4989"
            ],
            [
             0.3333333333333333,
             "#31688e"
            ],
            [
             0.4444444444444444,
             "#26828e"
            ],
            [
             0.5555555555555556,
             "#1f9e89"
            ],
            [
             0.6666666666666666,
             "#35b779"
            ],
            [
             0.7777777777777778,
             "#6ece58"
            ],
            [
             0.8888888888888888,
             "#b5de2b"
            ],
            [
             1,
             "#fde725"
            ]
           ],
           "sequentialminus": [
            [
             0,
             "#440154"
            ],
            [
             0.1111111111111111,
             "#482878"
            ],
            [
             0.2222222222222222,
             "#3e4989"
            ],
            [
             0.3333333333333333,
             "#31688e"
            ],
            [
             0.4444444444444444,
             "#26828e"
            ],
            [
             0.5555555555555556,
             "#1f9e89"
            ],
            [
             0.6666666666666666,
             "#35b779"
            ],
            [
             0.7777777777777778,
             "#6ece58"
            ],
            [
             0.8888888888888888,
             "#b5de2b"
            ],
            [
             1,
             "#fde725"
            ]
           ]
          },
          "colorway": [
           "#1F77B4",
           "#FF7F0E",
           "#2CA02C",
           "#D62728",
           "#9467BD",
           "#8C564B",
           "#E377C2",
           "#7F7F7F",
           "#BCBD22",
           "#17BECF"
          ],
          "font": {
           "color": "rgb(36,36,36)"
          },
          "geo": {
           "bgcolor": "white",
           "lakecolor": "white",
           "landcolor": "white",
           "showlakes": true,
           "showland": true,
           "subunitcolor": "white"
          },
          "hoverlabel": {
           "align": "left"
          },
          "hovermode": "closest",
          "mapbox": {
           "style": "light"
          },
          "paper_bgcolor": "white",
          "plot_bgcolor": "white",
          "polar": {
           "angularaxis": {
            "gridcolor": "rgb(232,232,232)",
            "linecolor": "rgb(36,36,36)",
            "showgrid": false,
            "showline": true,
            "ticks": "outside"
           },
           "bgcolor": "white",
           "radialaxis": {
            "gridcolor": "rgb(232,232,232)",
            "linecolor": "rgb(36,36,36)",
            "showgrid": false,
            "showline": true,
            "ticks": "outside"
           }
          },
          "scene": {
           "xaxis": {
            "backgroundcolor": "white",
            "gridcolor": "rgb(232,232,232)",
            "gridwidth": 2,
            "linecolor": "rgb(36,36,36)",
            "showbackground": true,
            "showgrid": false,
            "showline": true,
            "ticks": "outside",
            "zeroline": false,
            "zerolinecolor": "rgb(36,36,36)"
           },
           "yaxis": {
            "backgroundcolor": "white",
            "gridcolor": "rgb(232,232,232)",
            "gridwidth": 2,
            "linecolor": "rgb(36,36,36)",
            "showbackground": true,
            "showgrid": false,
            "showline": true,
            "ticks": "outside",
            "zeroline": false,
            "zerolinecolor": "rgb(36,36,36)"
           },
           "zaxis": {
            "backgroundcolor": "white",
            "gridcolor": "rgb(232,232,232)",
            "gridwidth": 2,
            "linecolor": "rgb(36,36,36)",
            "showbackground": true,
            "showgrid": false,
            "showline": true,
            "ticks": "outside",
            "zeroline": false,
            "zerolinecolor": "rgb(36,36,36)"
           }
          },
          "shapedefaults": {
           "fillcolor": "black",
           "line": {
            "width": 0
           },
           "opacity": 0.3
          },
          "ternary": {
           "aaxis": {
            "gridcolor": "rgb(232,232,232)",
            "linecolor": "rgb(36,36,36)",
            "showgrid": false,
            "showline": true,
            "ticks": "outside"
           },
           "baxis": {
            "gridcolor": "rgb(232,232,232)",
            "linecolor": "rgb(36,36,36)",
            "showgrid": false,
            "showline": true,
            "ticks": "outside"
           },
           "bgcolor": "white",
           "caxis": {
            "gridcolor": "rgb(232,232,232)",
            "linecolor": "rgb(36,36,36)",
            "showgrid": false,
            "showline": true,
            "ticks": "outside"
           }
          },
          "title": {
           "x": 0.05
          },
          "xaxis": {
           "automargin": true,
           "gridcolor": "rgb(232,232,232)",
           "linecolor": "rgb(36,36,36)",
           "showgrid": false,
           "showline": true,
           "ticks": "outside",
           "title": {
            "standoff": 15
           },
           "zeroline": false,
           "zerolinecolor": "rgb(36,36,36)"
          },
          "yaxis": {
           "automargin": true,
           "gridcolor": "rgb(232,232,232)",
           "linecolor": "rgb(36,36,36)",
           "showgrid": false,
           "showline": true,
           "ticks": "outside",
           "title": {
            "standoff": 15
           },
           "zeroline": false,
           "zerolinecolor": "rgb(36,36,36)"
          }
         }
        },
        "title": {
         "font": {
          "color": "Black",
          "size": 22
         },
         "text": "<b>Topics over Time",
         "x": 0.4,
         "xanchor": "center",
         "y": 0.95,
         "yanchor": "top"
        },
        "width": 1250,
        "xaxis": {
         "showgrid": true
        },
        "yaxis": {
         "showgrid": true,
         "title": {
          "text": "Frequency"
         }
        }
       }
      },
      "text/html": [
       "<div>                            <div id=\"dba0e8fb-c668-475f-968e-0b1e7badb9e0\" class=\"plotly-graph-div\" style=\"height:450px; width:1250px;\"></div>            <script type=\"text/javascript\">                require([\"plotly\"], function(Plotly) {                    window.PLOTLYENV=window.PLOTLYENV || {};                                    if (document.getElementById(\"dba0e8fb-c668-475f-968e-0b1e7badb9e0\")) {                    Plotly.newPlot(                        \"dba0e8fb-c668-475f-968e-0b1e7badb9e0\",                        [{\"hoverinfo\":\"text\",\"hovertext\":[\"<b>Topic 0</b><br>Words: \\u043d\\u0435, \\u043d\\u0430, \\u0446\\u0435, \\u0447\\u0442\\u043e, \\u0449\\u043e\",\"<b>Topic 0</b><br>Words: \\u0442\\u0430, \\u0449\\u043e, \\u043d\\u0435, \\u043f\\u043e\\u043b\\u043d\\u0430\\u044f, \\u0440\\u0430\\u0439\\u043e\\u043d\\u0430\",\"<b>Topic 0</b><br>Words: \\u0440\\u043e\\u0441\\u0441\\u0438\\u0438, \\u0443\\u043a\\u0440\\u0430\\u0438\\u043d\\u0443, \\u0444\\u0435\\u0432\\u0440\\u0430\\u043b\\u044f, \\u0432\\u0442\\u043e\\u0440\\u0436\\u0435\\u043d\\u0438\\u044f, \\u0445\\u0440\\u043e\\u043d\\u0438\\u043a\\u0438\",\"<b>Topic 0</b><br>Words: \\u0442\\u0430\\u043a, di, stati, uniti, avversario\"],\"marker\":{\"color\":\"#e6194b\"},\"mode\":\"lines\",\"name\":\"0_\\u043d\\u0435_\\u043d\\u0430_\\u0447\\u0442\\u043e_\\u0440\\u043e\\u0441\\u0441\\u0438\\u0438\",\"x\":[\"2022-03-06T23:31:12\",\"2022-03-20T00:00:00\",\"2022-03-22T00:00:00\",\"2022-03-26T00:00:00\"],\"y\":[83,27,46,7],\"type\":\"scatter\"},{\"hoverinfo\":\"text\",\"hovertext\":[\"<b>Topic 1</b><br>Words: nukes, nuclear, nuke, tactical, use\",\"<b>Topic 1</b><br>Words: tu, nuclear, submarine, icbm, 31\",\"<b>Topic 1</b><br>Words: nuclear, dystopia, alert, nukes, use\",\"<b>Topic 1</b><br>Words: nukes, nuclear, nuke, use, tactical\"],\"marker\":{\"color\":\"#3cb44b\"},\"mode\":\"lines\",\"name\":\"1_nukes_nuclear_nuke_tactical\",\"x\":[\"2022-03-06T23:31:12\",\"2022-03-20T00:00:00\",\"2022-03-22T00:00:00\",\"2022-03-26T00:00:00\"],\"y\":[59,8,22,51],\"type\":\"scatter\"},{\"hoverinfo\":\"text\",\"hovertext\":[\"<b>Topic 2</b><br>Words: nato, join, eu, membership, members\",\"<b>Topic 2</b><br>Words: nato, formed, european, pleads, systematically\",\"<b>Topic 2</b><br>Words: nato, stoltenberg, chemical, nuclear, guest\",\"<b>Topic 2</b><br>Words: nato, countries, supreme, threat, idea\"],\"marker\":{\"color\":\"#ffe119\"},\"mode\":\"lines\",\"name\":\"2_nato_join_eu_membership\",\"x\":[\"2022-03-06T23:31:12\",\"2022-03-20T00:00:00\",\"2022-03-22T00:00:00\",\"2022-03-26T00:00:00\"],\"y\":[46,12,30,16],\"type\":\"scatter\"},{\"hoverinfo\":\"text\",\"hovertext\":[\"<b>Topic 3</b><br>Words: russians, evil, boot, ppl, justify\",\"<b>Topic 3</b><br>Words: rashist, totalitarian, ml, orwellian, stalinist\",\"<b>Topic 3</b><br>Words: evil, panic, russians, proverb, starting\",\"<b>Topic 3</b><br>Words: russians, change, hate, people, behavior\"],\"marker\":{\"color\":\"#4363d8\"},\"mode\":\"lines\",\"name\":\"3_russians_evil_people_change\",\"x\":[\"2022-03-06T23:31:12\",\"2022-03-20T00:00:00\",\"2022-03-22T00:00:00\",\"2022-03-26T00:00:00\"],\"y\":[30,5,11,51],\"type\":\"scatter\"},{\"hoverinfo\":\"text\",\"hovertext\":[\"<b>Topic 4</b><br>Words: practicing, sophomore, toastmasters, daughters, suit\",\"<b>Topic 4</b><br>Words: brown, potter, jesse, alfie, harry\",\"<b>Topic 4</b><br>Words: sniff, little, kid, sniffing, joe\"],\"marker\":{\"color\":\"#f58231\"},\"mode\":\"lines\",\"name\":\"4_sniff_little_kid_sniffing\",\"x\":[\"2022-03-06T23:31:12\",\"2022-03-22T00:00:00\",\"2022-03-26T00:00:00\"],\"y\":[7,4,82],\"type\":\"scatter\"},{\"hoverinfo\":\"text\",\"hovertext\":[\"<b>Topic 5</b><br>Words: cruz, mistakes, fell, cancun, miscalculate\",\"<b>Topic 5</b><br>Words: detsch, jack, twitter, amtrak, joe\",\"<b>Topic 5</b><br>Words: amtrak, joe, elected, president, senator\"],\"marker\":{\"color\":\"#911eb4\"},\"mode\":\"lines\",\"name\":\"5_amtrak_joe_elected_trump\",\"x\":[\"2022-03-06T23:31:12\",\"2022-03-22T00:00:00\",\"2022-03-26T00:00:00\"],\"y\":[14,1,67],\"type\":\"scatter\"},{\"hoverinfo\":\"text\",\"hovertext\":[\"<b>Topic 6</b><br>Words: american, overthrow, louder, plan, neutrality\",\"<b>Topic 6</b><br>Words: iran, sub, invaded, america, does\",\"<b>Topic 6</b><br>Words: expulsions, buttom, relativity, exchanges, phrase\",\"<b>Topic 6</b><br>Words: democracy, continuity, autocracy, minority, american\"],\"marker\":{\"color\":\"#46f0f0\"},\"mode\":\"lines\",\"name\":\"6_democracy_american_continuity_autocrac...\",\"x\":[\"2022-03-06T23:31:12\",\"2022-03-20T00:00:00\",\"2022-03-22T00:00:00\",\"2022-03-26T00:00:00\"],\"y\":[28,2,4,45],\"type\":\"scatter\"},{\"hoverinfo\":\"text\",\"hovertext\":[\"<b>Topic 7</b><br>Words: 18y, training, toe, advice, serving\",\"<b>Topic 7</b><br>Words: lhr, concerning, 65, conscription, development\",\"<b>Topic 7</b><br>Words: armys, roles, aged, combat, 60\",\"<b>Topic 7</b><br>Words: draft, year, military, platoon, conservatives\"],\"marker\":{\"color\":\"#f032e6\"},\"mode\":\"lines\",\"name\":\"7_draft_military_year_platoon\",\"x\":[\"2022-03-06T23:31:12\",\"2022-03-20T00:00:00\",\"2022-03-22T00:00:00\",\"2022-03-26T00:00:00\"],\"y\":[19,2,4,52],\"type\":\"scatter\"},{\"hoverinfo\":\"text\",\"hovertext\":[\"<b>Topic 8</b><br>Words: drones, celebrate, bayraktar, yemen, drone\",\"<b>Topic 8</b><br>Words: drones, drone, artillery, bayraktar, uavs\",\"<b>Topic 8</b><br>Words: bayraktar, tb2, drones, drone, artillery\",\"<b>Topic 8</b><br>Words: ram, drones, drone, bayraktar, artillery\"],\"marker\":{\"color\":\"#bcf60c\"},\"mode\":\"lines\",\"name\":\"8_drones_bayraktar_tb2_drone\",\"x\":[\"2022-03-06T23:31:12\",\"2022-03-20T00:00:00\",\"2022-03-22T00:00:00\",\"2022-03-26T00:00:00\"],\"y\":[14,17,35,6],\"type\":\"scatter\"},{\"hoverinfo\":\"text\",\"hovertext\":[\"<b>Topic 9</b><br>Words: cossacks, song, music, anthem, alert\",\"<b>Topic 9</b><br>Words: song, alabama, anthem, recorded, jamala\",\"<b>Topic 9</b><br>Words: song, cello, anthem, plays, souls\",\"<b>Topic 9</b><br>Words: music, song, lyrics, singing, band\"],\"marker\":{\"color\":\"#fabebe\"},\"mode\":\"lines\",\"name\":\"9_song_music_anthem_cello\",\"x\":[\"2022-03-06T23:31:12\",\"2022-03-20T00:00:00\",\"2022-03-22T00:00:00\",\"2022-03-26T00:00:00\"],\"y\":[6,17,35,13],\"type\":\"scatter\"},{\"hoverinfo\":\"text\",\"hovertext\":[\"<b>Topic 10</b><br>Words: crimes, reflect, taboo, mocking, criminals\",\"<b>Topic 10</b><br>Words: crimes, johnson, dmytro, committed, camps\",\"<b>Topic 10</b><br>Words: crimes, committed, declares, formally, department\",\"<b>Topic 10</b><br>Words: crimes, committed, crime, murder, cross\"],\"marker\":{\"color\":\"#008080\"},\"mode\":\"lines\",\"name\":\"10_crimes_committed_declares_crime\",\"x\":[\"2022-03-06T23:31:12\",\"2022-03-20T00:00:00\",\"2022-03-22T00:00:00\",\"2022-03-26T00:00:00\"],\"y\":[3,11,39,13],\"type\":\"scatter\"},{\"hoverinfo\":\"text\",\"hovertext\":[\"<b>Topic 11</b><br>Words: missles, missiles, carriers, radar, cruise\",\"<b>Topic 11</b><br>Words: hypersonic, warships, failing, kinzhal, coastline\",\"<b>Topic 11</b><br>Words: missiles, missles, cruise, warship, launching\",\"<b>Topic 11</b><br>Words: subs, cruise, missiles, flu, shots\"],\"marker\":{\"color\":\"#e6beff\"},\"mode\":\"lines\",\"name\":\"11_missiles_cruise_missles_warship\",\"x\":[\"2022-03-06T23:31:12\",\"2022-03-20T00:00:00\",\"2022-03-22T00:00:00\",\"2022-03-26T00:00:00\"],\"y\":[5,10,42,9],\"type\":\"scatter\"},{\"hoverinfo\":\"text\",\"hovertext\":[\"<b>Topic 12</b><br>Words: thank, thanks, awesome, remindme, tysm\",\"<b>Topic 12</b><br>Words: share, story, love, thank, thanks\",\"<b>Topic 12</b><br>Words: thank, awesome, thanks, thx, nice\"],\"marker\":{\"color\":\"#9a6324\"},\"mode\":\"lines\",\"name\":\"12_thank_thanks_awesome_nice\",\"x\":[\"2022-03-06T23:31:12\",\"2022-03-22T00:00:00\",\"2022-03-26T00:00:00\"],\"y\":[25,4,37],\"type\":\"scatter\"},{\"hoverinfo\":\"text\",\"hovertext\":[\"<b>Topic 13</b><br>Words: million, rookie, half, 000, police\",\"<b>Topic 13</b><br>Words: tabloid, 861, komsomolskaya, 153, pravda\",\"<b>Topic 13</b><br>Words: 000, 16, killed, 861, wounded\",\"<b>Topic 13</b><br>Words: elites, 000, tabloid, 861, comparatively\"],\"marker\":{\"color\":\"#fffac8\"},\"mode\":\"lines\",\"name\":\"13_tabloid_861_153_16\",\"x\":[\"2022-03-06T23:31:12\",\"2022-03-20T00:00:00\",\"2022-03-22T00:00:00\",\"2022-03-26T00:00:00\"],\"y\":[4,34,21,6],\"type\":\"scatter\"},{\"hoverinfo\":\"text\",\"hovertext\":[\"<b>Topic 14</b><br>Words: pudding, putin, horrible, vicious, aches\",\"<b>Topic 14</b><br>Words: treats, shadows, ransomware, conti, putin\",\"<b>Topic 14</b><br>Words: putins, putin, hbo, lizard, intellect\",\"<b>Topic 14</b><br>Words: putin, hahaha, suck, dick, treats\"],\"marker\":{\"color\":\"#800000\"},\"mode\":\"lines\",\"name\":\"14_putin_treats_hahaha_putins\",\"x\":[\"2022-03-06T23:31:12\",\"2022-03-20T00:00:00\",\"2022-03-22T00:00:00\",\"2022-03-26T00:00:00\"],\"y\":[9,11,14,28],\"type\":\"scatter\"},{\"hoverinfo\":\"text\",\"hovertext\":[\"<b>Topic 15</b><br>Words: footage, combat, azov, guncam, moshchun\",\"<b>Topic 15</b><br>Words: footage, combat, filmed, factory, 64bv\",\"<b>Topic 15</b><br>Words: spec, suggestions, ops, played, field\"],\"marker\":{\"color\":\"#aaffc3\"},\"mode\":\"lines\",\"name\":\"15_footage_combat_filmed_mariupol\",\"x\":[\"2022-03-20T00:00:00\",\"2022-03-22T00:00:00\",\"2022-03-26T00:00:00\"],\"y\":[22,34,3],\"type\":\"scatter\"},{\"hoverinfo\":\"text\",\"hovertext\":[\"<b>Topic 16</b><br>Words: artillery, positions, em, struck, routine\",\"<b>Topic 16</b><br>Words: artillery, mortar, propelled, 2s9, 120mm\",\"<b>Topic 16</b><br>Words: bombardment, invader, prime, artillery, positions\"],\"marker\":{\"color\":\"#808000\"},\"mode\":\"lines\",\"name\":\"16_artillery_propelled_positions_mortar\",\"x\":[\"2022-03-20T00:00:00\",\"2022-03-22T00:00:00\",\"2022-03-26T00:00:00\"],\"y\":[31,24,1],\"type\":\"scatter\"},{\"hoverinfo\":\"text\",\"hovertext\":[\"<b>Topic 17</b><br>Words: china, chinese, evil, demographics, weakened\",\"<b>Topic 17</b><br>Words: devere, nigel, china, beijing, growth\",\"<b>Topic 17</b><br>Words: bye, initiative, belt, road, china\",\"<b>Topic 17</b><br>Words: china, chinese, diplomatic, assembly, silly\"],\"marker\":{\"color\":\"#ffd8b1\"},\"mode\":\"lines\",\"name\":\"17_china_chinese_evil_belt\",\"x\":[\"2022-03-06T23:31:12\",\"2022-03-20T00:00:00\",\"2022-03-22T00:00:00\",\"2022-03-26T00:00:00\"],\"y\":[31,3,6,14],\"type\":\"scatter\"},{\"hoverinfo\":\"text\",\"hovertext\":[\"<b>Topic 18</b><br>Words: alley, avenue, mall, shopping, strike\",\"<b>Topic 18</b><br>Words: mall, shopping, strike, center, retroville\",\"<b>Topic 18</b><br>Words: mall, shopping, shops, chains, manage\",\"<b>Topic 18</b><br>Words: carts, shopping, baskets, mall, wheels\"],\"marker\":{\"color\":\"#000075\"},\"mode\":\"lines\",\"name\":\"18_mall_shopping_strike_center\",\"x\":[\"2022-03-06T23:31:12\",\"2022-03-20T00:00:00\",\"2022-03-22T00:00:00\",\"2022-03-26T00:00:00\"],\"y\":[1,45,4,1],\"type\":\"scatter\"},{\"hoverinfo\":\"text\",\"hovertext\":[\"<b>Topic 19</b><br>Words: belarus, crimea, russia, belarusian, lukashenko\",\"<b>Topic 19</b><br>Words: belarus, belarusian, viral, protests, mass\",\"<b>Topic 19</b><br>Words: belarus, belarusian, lukashenko, belarusians, railway\",\"<b>Topic 19</b><br>Words: belarus, lukashenko, belarusian, belarusians, encircled\"],\"marker\":{\"color\":\"#808080\"},\"mode\":\"lines\",\"name\":\"19_belarus_belarusian_lukashenko_belarus...\",\"x\":[\"2022-03-06T23:31:12\",\"2022-03-20T00:00:00\",\"2022-03-22T00:00:00\",\"2022-03-26T00:00:00\"],\"y\":[1,11,30,7],\"type\":\"scatter\"}],                        {\"template\":{\"data\":{\"barpolar\":[{\"marker\":{\"line\":{\"color\":\"white\",\"width\":0.5},\"pattern\":{\"fillmode\":\"overlay\",\"size\":10,\"solidity\":0.2}},\"type\":\"barpolar\"}],\"bar\":[{\"error_x\":{\"color\":\"rgb(36,36,36)\"},\"error_y\":{\"color\":\"rgb(36,36,36)\"},\"marker\":{\"line\":{\"color\":\"white\",\"width\":0.5},\"pattern\":{\"fillmode\":\"overlay\",\"size\":10,\"solidity\":0.2}},\"type\":\"bar\"}],\"carpet\":[{\"aaxis\":{\"endlinecolor\":\"rgb(36,36,36)\",\"gridcolor\":\"white\",\"linecolor\":\"white\",\"minorgridcolor\":\"white\",\"startlinecolor\":\"rgb(36,36,36)\"},\"baxis\":{\"endlinecolor\":\"rgb(36,36,36)\",\"gridcolor\":\"white\",\"linecolor\":\"white\",\"minorgridcolor\":\"white\",\"startlinecolor\":\"rgb(36,36,36)\"},\"type\":\"carpet\"}],\"choropleth\":[{\"colorbar\":{\"outlinewidth\":1,\"tickcolor\":\"rgb(36,36,36)\",\"ticks\":\"outside\"},\"type\":\"choropleth\"}],\"contourcarpet\":[{\"colorbar\":{\"outlinewidth\":1,\"tickcolor\":\"rgb(36,36,36)\",\"ticks\":\"outside\"},\"type\":\"contourcarpet\"}],\"contour\":[{\"colorbar\":{\"outlinewidth\":1,\"tickcolor\":\"rgb(36,36,36)\",\"ticks\":\"outside\"},\"colorscale\":[[0.0,\"#440154\"],[0.1111111111111111,\"#482878\"],[0.2222222222222222,\"#3e4989\"],[0.3333333333333333,\"#31688e\"],[0.4444444444444444,\"#26828e\"],[0.5555555555555556,\"#1f9e89\"],[0.6666666666666666,\"#35b779\"],[0.7777777777777778,\"#6ece58\"],[0.8888888888888888,\"#b5de2b\"],[1.0,\"#fde725\"]],\"type\":\"contour\"}],\"heatmapgl\":[{\"colorbar\":{\"outlinewidth\":1,\"tickcolor\":\"rgb(36,36,36)\",\"ticks\":\"outside\"},\"colorscale\":[[0.0,\"#440154\"],[0.1111111111111111,\"#482878\"],[0.2222222222222222,\"#3e4989\"],[0.3333333333333333,\"#31688e\"],[0.4444444444444444,\"#26828e\"],[0.5555555555555556,\"#1f9e89\"],[0.6666666666666666,\"#35b779\"],[0.7777777777777778,\"#6ece58\"],[0.8888888888888888,\"#b5de2b\"],[1.0,\"#fde725\"]],\"type\":\"heatmapgl\"}],\"heatmap\":[{\"colorbar\":{\"outlinewidth\":1,\"tickcolor\":\"rgb(36,36,36)\",\"ticks\":\"outside\"},\"colorscale\":[[0.0,\"#440154\"],[0.1111111111111111,\"#482878\"],[0.2222222222222222,\"#3e4989\"],[0.3333333333333333,\"#31688e\"],[0.4444444444444444,\"#26828e\"],[0.5555555555555556,\"#1f9e89\"],[0.6666666666666666,\"#35b779\"],[0.7777777777777778,\"#6ece58\"],[0.8888888888888888,\"#b5de2b\"],[1.0,\"#fde725\"]],\"type\":\"heatmap\"}],\"histogram2dcontour\":[{\"colorbar\":{\"outlinewidth\":1,\"tickcolor\":\"rgb(36,36,36)\",\"ticks\":\"outside\"},\"colorscale\":[[0.0,\"#440154\"],[0.1111111111111111,\"#482878\"],[0.2222222222222222,\"#3e4989\"],[0.3333333333333333,\"#31688e\"],[0.4444444444444444,\"#26828e\"],[0.5555555555555556,\"#1f9e89\"],[0.6666666666666666,\"#35b779\"],[0.7777777777777778,\"#6ece58\"],[0.8888888888888888,\"#b5de2b\"],[1.0,\"#fde725\"]],\"type\":\"histogram2dcontour\"}],\"histogram2d\":[{\"colorbar\":{\"outlinewidth\":1,\"tickcolor\":\"rgb(36,36,36)\",\"ticks\":\"outside\"},\"colorscale\":[[0.0,\"#440154\"],[0.1111111111111111,\"#482878\"],[0.2222222222222222,\"#3e4989\"],[0.3333333333333333,\"#31688e\"],[0.4444444444444444,\"#26828e\"],[0.5555555555555556,\"#1f9e89\"],[0.6666666666666666,\"#35b779\"],[0.7777777777777778,\"#6ece58\"],[0.8888888888888888,\"#b5de2b\"],[1.0,\"#fde725\"]],\"type\":\"histogram2d\"}],\"histogram\":[{\"marker\":{\"line\":{\"color\":\"white\",\"width\":0.6}},\"type\":\"histogram\"}],\"mesh3d\":[{\"colorbar\":{\"outlinewidth\":1,\"tickcolor\":\"rgb(36,36,36)\",\"ticks\":\"outside\"},\"type\":\"mesh3d\"}],\"parcoords\":[{\"line\":{\"colorbar\":{\"outlinewidth\":1,\"tickcolor\":\"rgb(36,36,36)\",\"ticks\":\"outside\"}},\"type\":\"parcoords\"}],\"pie\":[{\"automargin\":true,\"type\":\"pie\"}],\"scatter3d\":[{\"line\":{\"colorbar\":{\"outlinewidth\":1,\"tickcolor\":\"rgb(36,36,36)\",\"ticks\":\"outside\"}},\"marker\":{\"colorbar\":{\"outlinewidth\":1,\"tickcolor\":\"rgb(36,36,36)\",\"ticks\":\"outside\"}},\"type\":\"scatter3d\"}],\"scattercarpet\":[{\"marker\":{\"colorbar\":{\"outlinewidth\":1,\"tickcolor\":\"rgb(36,36,36)\",\"ticks\":\"outside\"}},\"type\":\"scattercarpet\"}],\"scattergeo\":[{\"marker\":{\"colorbar\":{\"outlinewidth\":1,\"tickcolor\":\"rgb(36,36,36)\",\"ticks\":\"outside\"}},\"type\":\"scattergeo\"}],\"scattergl\":[{\"marker\":{\"colorbar\":{\"outlinewidth\":1,\"tickcolor\":\"rgb(36,36,36)\",\"ticks\":\"outside\"}},\"type\":\"scattergl\"}],\"scattermapbox\":[{\"marker\":{\"colorbar\":{\"outlinewidth\":1,\"tickcolor\":\"rgb(36,36,36)\",\"ticks\":\"outside\"}},\"type\":\"scattermapbox\"}],\"scatterpolargl\":[{\"marker\":{\"colorbar\":{\"outlinewidth\":1,\"tickcolor\":\"rgb(36,36,36)\",\"ticks\":\"outside\"}},\"type\":\"scatterpolargl\"}],\"scatterpolar\":[{\"marker\":{\"colorbar\":{\"outlinewidth\":1,\"tickcolor\":\"rgb(36,36,36)\",\"ticks\":\"outside\"}},\"type\":\"scatterpolar\"}],\"scatter\":[{\"fillpattern\":{\"fillmode\":\"overlay\",\"size\":10,\"solidity\":0.2},\"type\":\"scatter\"}],\"scatterternary\":[{\"marker\":{\"colorbar\":{\"outlinewidth\":1,\"tickcolor\":\"rgb(36,36,36)\",\"ticks\":\"outside\"}},\"type\":\"scatterternary\"}],\"surface\":[{\"colorbar\":{\"outlinewidth\":1,\"tickcolor\":\"rgb(36,36,36)\",\"ticks\":\"outside\"},\"colorscale\":[[0.0,\"#440154\"],[0.1111111111111111,\"#482878\"],[0.2222222222222222,\"#3e4989\"],[0.3333333333333333,\"#31688e\"],[0.4444444444444444,\"#26828e\"],[0.5555555555555556,\"#1f9e89\"],[0.6666666666666666,\"#35b779\"],[0.7777777777777778,\"#6ece58\"],[0.8888888888888888,\"#b5de2b\"],[1.0,\"#fde725\"]],\"type\":\"surface\"}],\"table\":[{\"cells\":{\"fill\":{\"color\":\"rgb(237,237,237)\"},\"line\":{\"color\":\"white\"}},\"header\":{\"fill\":{\"color\":\"rgb(217,217,217)\"},\"line\":{\"color\":\"white\"}},\"type\":\"table\"}]},\"layout\":{\"annotationdefaults\":{\"arrowhead\":0,\"arrowwidth\":1},\"autotypenumbers\":\"strict\",\"coloraxis\":{\"colorbar\":{\"outlinewidth\":1,\"tickcolor\":\"rgb(36,36,36)\",\"ticks\":\"outside\"}},\"colorscale\":{\"diverging\":[[0.0,\"rgb(103,0,31)\"],[0.1,\"rgb(178,24,43)\"],[0.2,\"rgb(214,96,77)\"],[0.3,\"rgb(244,165,130)\"],[0.4,\"rgb(253,219,199)\"],[0.5,\"rgb(247,247,247)\"],[0.6,\"rgb(209,229,240)\"],[0.7,\"rgb(146,197,222)\"],[0.8,\"rgb(67,147,195)\"],[0.9,\"rgb(33,102,172)\"],[1.0,\"rgb(5,48,97)\"]],\"sequential\":[[0.0,\"#440154\"],[0.1111111111111111,\"#482878\"],[0.2222222222222222,\"#3e4989\"],[0.3333333333333333,\"#31688e\"],[0.4444444444444444,\"#26828e\"],[0.5555555555555556,\"#1f9e89\"],[0.6666666666666666,\"#35b779\"],[0.7777777777777778,\"#6ece58\"],[0.8888888888888888,\"#b5de2b\"],[1.0,\"#fde725\"]],\"sequentialminus\":[[0.0,\"#440154\"],[0.1111111111111111,\"#482878\"],[0.2222222222222222,\"#3e4989\"],[0.3333333333333333,\"#31688e\"],[0.4444444444444444,\"#26828e\"],[0.5555555555555556,\"#1f9e89\"],[0.6666666666666666,\"#35b779\"],[0.7777777777777778,\"#6ece58\"],[0.8888888888888888,\"#b5de2b\"],[1.0,\"#fde725\"]]},\"colorway\":[\"#1F77B4\",\"#FF7F0E\",\"#2CA02C\",\"#D62728\",\"#9467BD\",\"#8C564B\",\"#E377C2\",\"#7F7F7F\",\"#BCBD22\",\"#17BECF\"],\"font\":{\"color\":\"rgb(36,36,36)\"},\"geo\":{\"bgcolor\":\"white\",\"lakecolor\":\"white\",\"landcolor\":\"white\",\"showlakes\":true,\"showland\":true,\"subunitcolor\":\"white\"},\"hoverlabel\":{\"align\":\"left\"},\"hovermode\":\"closest\",\"mapbox\":{\"style\":\"light\"},\"paper_bgcolor\":\"white\",\"plot_bgcolor\":\"white\",\"polar\":{\"angularaxis\":{\"gridcolor\":\"rgb(232,232,232)\",\"linecolor\":\"rgb(36,36,36)\",\"showgrid\":false,\"showline\":true,\"ticks\":\"outside\"},\"bgcolor\":\"white\",\"radialaxis\":{\"gridcolor\":\"rgb(232,232,232)\",\"linecolor\":\"rgb(36,36,36)\",\"showgrid\":false,\"showline\":true,\"ticks\":\"outside\"}},\"scene\":{\"xaxis\":{\"backgroundcolor\":\"white\",\"gridcolor\":\"rgb(232,232,232)\",\"gridwidth\":2,\"linecolor\":\"rgb(36,36,36)\",\"showbackground\":true,\"showgrid\":false,\"showline\":true,\"ticks\":\"outside\",\"zeroline\":false,\"zerolinecolor\":\"rgb(36,36,36)\"},\"yaxis\":{\"backgroundcolor\":\"white\",\"gridcolor\":\"rgb(232,232,232)\",\"gridwidth\":2,\"linecolor\":\"rgb(36,36,36)\",\"showbackground\":true,\"showgrid\":false,\"showline\":true,\"ticks\":\"outside\",\"zeroline\":false,\"zerolinecolor\":\"rgb(36,36,36)\"},\"zaxis\":{\"backgroundcolor\":\"white\",\"gridcolor\":\"rgb(232,232,232)\",\"gridwidth\":2,\"linecolor\":\"rgb(36,36,36)\",\"showbackground\":true,\"showgrid\":false,\"showline\":true,\"ticks\":\"outside\",\"zeroline\":false,\"zerolinecolor\":\"rgb(36,36,36)\"}},\"shapedefaults\":{\"fillcolor\":\"black\",\"line\":{\"width\":0},\"opacity\":0.3},\"ternary\":{\"aaxis\":{\"gridcolor\":\"rgb(232,232,232)\",\"linecolor\":\"rgb(36,36,36)\",\"showgrid\":false,\"showline\":true,\"ticks\":\"outside\"},\"baxis\":{\"gridcolor\":\"rgb(232,232,232)\",\"linecolor\":\"rgb(36,36,36)\",\"showgrid\":false,\"showline\":true,\"ticks\":\"outside\"},\"bgcolor\":\"white\",\"caxis\":{\"gridcolor\":\"rgb(232,232,232)\",\"linecolor\":\"rgb(36,36,36)\",\"showgrid\":false,\"showline\":true,\"ticks\":\"outside\"}},\"title\":{\"x\":0.05},\"xaxis\":{\"automargin\":true,\"gridcolor\":\"rgb(232,232,232)\",\"linecolor\":\"rgb(36,36,36)\",\"showgrid\":false,\"showline\":true,\"ticks\":\"outside\",\"title\":{\"standoff\":15},\"zeroline\":false,\"zerolinecolor\":\"rgb(36,36,36)\"},\"yaxis\":{\"automargin\":true,\"gridcolor\":\"rgb(232,232,232)\",\"linecolor\":\"rgb(36,36,36)\",\"showgrid\":false,\"showline\":true,\"ticks\":\"outside\",\"title\":{\"standoff\":15},\"zeroline\":false,\"zerolinecolor\":\"rgb(36,36,36)\"}}},\"xaxis\":{\"showgrid\":true},\"yaxis\":{\"showgrid\":true,\"title\":{\"text\":\"Frequency\"}},\"title\":{\"font\":{\"size\":22,\"color\":\"Black\"},\"text\":\"<b>Topics over Time\",\"y\":0.95,\"x\":0.4,\"xanchor\":\"center\",\"yanchor\":\"top\"},\"hoverlabel\":{\"font\":{\"size\":16,\"family\":\"Rockwell\"},\"bgcolor\":\"white\"},\"width\":1250,\"height\":450,\"legend\":{\"title\":{\"text\":\"<b>Global Topic Representation\"}}},                        {\"responsive\": true}                    ).then(function(){\n",
       "                            \n",
       "var gd = document.getElementById('dba0e8fb-c668-475f-968e-0b1e7badb9e0');\n",
       "var x = new MutationObserver(function (mutations, observer) {{\n",
       "        var display = window.getComputedStyle(gd).display;\n",
       "        if (!display || display === 'none') {{\n",
       "            console.log([gd, 'removed!']);\n",
       "            Plotly.purge(gd);\n",
       "            observer.disconnect();\n",
       "        }}\n",
       "}});\n",
       "\n",
       "// Listen for the removal of the full notebook cells\n",
       "var notebookContainer = gd.closest('#notebook-container');\n",
       "if (notebookContainer) {{\n",
       "    x.observe(notebookContainer, {childList: true});\n",
       "}}\n",
       "\n",
       "// Listen for the clearing of the current output cell\n",
       "var outputEl = gd.closest('.output');\n",
       "if (outputEl) {{\n",
       "    x.observe(outputEl, {childList: true});\n",
       "}}\n",
       "\n",
       "                        })                };                });            </script>        </div>"
      ]
     },
     "metadata": {},
     "output_type": "display_data"
    }
   ],
   "source": [
    "# Topics over time\n",
    "topics_over_time = topic_model.topics_over_time(docs, dates, nr_bins=20)\n",
    "#topic_model.visualize_topics_over_time(topics_over_time, top_n_topics=20)\n",
    "\n",
    "visualize_topics_over_time(topic_model, topics_over_time, top_n_topics=20)\n",
    "\n",
    "\n",
    "\n",
    "\n",
    "# Visualize topics over time with the updated colors\n",
    "#visualize_topics_over_time(model, topics_over_time)"
   ]
  },
  {
   "cell_type": "markdown",
   "metadata": {},
   "source": [
    "## Topics pr class"
   ]
  },
  {
   "cell_type": "code",
   "execution_count": null,
   "metadata": {},
   "outputs": [
    {
     "name": "stderr",
     "output_type": "stream",
     "text": [
      "36it [00:00, 57.89it/s]\n"
     ]
    }
   ],
   "source": [
    "# Topics per class\n",
    "#topics_per_class = topic_model.topics_per_class(docs, classes = subreddits)\n",
    "\n",
    "language = data.language.to_list()\n",
    "type = data.type.to_list()\n",
    "\n",
    "topics_per_class = topic_model.topics_per_class(docs, classes = language)\n",
    "\n",
    "\n"
   ]
  },
  {
   "cell_type": "code",
   "execution_count": null,
   "metadata": {},
   "outputs": [
    {
     "data": {
      "application/vnd.plotly.v1+json": {
       "config": {
        "plotlyServerURL": "https://plot.ly"
       },
       "data": [
        {
         "hoverinfo": "text",
         "hovertext": [
          "<b>Topic 0</b><br>Words: stati, uniti, di, degli, qualunque",
          "<b>Topic 0</b><br>Words: не, что, россии, на, февраля",
          "<b>Topic 0</b><br>Words: тут, не, на, что, россии",
          "<b>Topic 0</b><br>Words: ingles, subtitulo, не, на, что",
          "<b>Topic 0</b><br>Words: jaaa, der, не, на, что",
          "<b>Topic 0</b><br>Words: що, це, не, та, на",
          "<b>Topic 0</b><br>Words: pidarasi, pidaras, plural, russian, не",
          "<b>Topic 0</b><br>Words: бережіть, себе, не, на, что"
         ],
         "marker": {
          "color": "#E69F00"
         },
         "name": "0_не_на_что_россии",
         "orientation": "h",
         "type": "bar",
         "visible": true,
         "x": [
          1,
          97,
          1,
          1,
          1,
          59,
          1,
          2
         ],
         "y": [
          "it",
          "ru",
          "fi",
          "es",
          "et",
          "uk",
          "en",
          "mk"
         ]
        },
        {
         "hoverinfo": "text",
         "hovertext": [
          "<b>Topic 1</b><br>Words: nukes, nuclear, nuke, tactical, use"
         ],
         "marker": {
          "color": "#56B4E9"
         },
         "name": "1_nukes_nuclear_nuke_tactical",
         "orientation": "h",
         "type": "bar",
         "visible": "legendonly",
         "x": [
          140
         ],
         "y": [
          "en"
         ]
        },
        {
         "hoverinfo": "text",
         "hovertext": [
          "<b>Topic 2</b><br>Words: nato, join, eu, membership, members"
         ],
         "marker": {
          "color": "#009E73"
         },
         "name": "2_nato_join_eu_membership",
         "orientation": "h",
         "type": "bar",
         "visible": "legendonly",
         "x": [
          104
         ],
         "y": [
          "en"
         ]
        },
        {
         "hoverinfo": "text",
         "hovertext": [
          "<b>Topic 3</b><br>Words: remind, good, russians, just, evil",
          "<b>Topic 3</b><br>Words: russians, evil, people, change, fact"
         ],
         "marker": {
          "color": "#F0E442"
         },
         "name": "3_russians_evil_people_change",
         "orientation": "h",
         "type": "bar",
         "visible": "legendonly",
         "x": [
          1,
          96
         ],
         "y": [
          "it",
          "en"
         ]
        },
        {
         "hoverinfo": "text",
         "hovertext": [
          "<b>Topic 4</b><br>Words: orange, hair, traitor, hands, little",
          "<b>Topic 4</b><br>Words: sniff, little, kid, sniffing, joe"
         ],
         "marker": {
          "color": "#D55E00"
         },
         "name": "4_sniff_little_kid_sniffing",
         "orientation": "h",
         "type": "bar",
         "visible": "legendonly",
         "x": [
          1,
          92
         ],
         "y": [
          "pl",
          "en"
         ]
        },
        {
         "hoverinfo": "text",
         "hovertext": [
          "<b>Topic 5</b><br>Words: amtrak, joe, elected, trump, president"
         ],
         "marker": {
          "color": "#0072B2"
         },
         "name": "5_amtrak_joe_elected_trump",
         "orientation": "h",
         "type": "bar",
         "visible": "legendonly",
         "x": [
          82
         ],
         "y": [
          "en"
         ]
        },
        {
         "hoverinfo": "text",
         "hovertext": [
          "<b>Topic 6</b><br>Words: desantis, gets, democracy, american, continuity",
          "<b>Topic 6</b><br>Words: democracy, american, continuity, autocracy, minority"
         ],
         "marker": {
          "color": "#CC79A7"
         },
         "name": "6_democracy_american_continuity_autocrac...",
         "orientation": "h",
         "type": "bar",
         "visible": "legendonly",
         "x": [
          1,
          78
         ],
         "y": [
          "eo",
          "en"
         ]
        },
        {
         "hoverinfo": "text",
         "hovertext": [
          "<b>Topic 7</b><br>Words: armys, aged, 60, contribution, financial",
          "<b>Topic 7</b><br>Words: draft, military, year, conservatives, platoon"
         ],
         "marker": {
          "color": "#E69F00"
         },
         "name": "7_draft_military_year_platoon",
         "orientation": "h",
         "type": "bar",
         "visible": "legendonly",
         "x": [
          1,
          76
         ],
         "y": [
          "fr",
          "en"
         ]
        },
        {
         "hoverinfo": "text",
         "hovertext": [
          "<b>Topic 8</b><br>Words: bayraktar, цілі, знищені, безпілотниками, позначені",
          "<b>Topic 8</b><br>Words: drones, bayraktar, tb2, drone, artillery"
         ],
         "marker": {
          "color": "#56B4E9"
         },
         "name": "8_drones_bayraktar_tb2_drone",
         "orientation": "h",
         "type": "bar",
         "visible": "legendonly",
         "x": [
          1,
          71
         ],
         "y": [
          "uk",
          "en"
         ]
        },
        {
         "hoverinfo": "text",
         "hovertext": [
          "<b>Topic 9</b><br>Words: червона, chervona, лузі, калина, oy",
          "<b>Topic 9</b><br>Words: song, music, anthem, cello, souls"
         ],
         "marker": {
          "color": "#009E73"
         },
         "name": "9_song_music_anthem_cello",
         "orientation": "h",
         "type": "bar",
         "visible": "legendonly",
         "x": [
          1,
          70
         ],
         "y": [
          "uk",
          "en"
         ]
        }
       ],
       "layout": {
        "height": 900,
        "hoverlabel": {
         "bgcolor": "white",
         "font": {
          "family": "Rockwell",
          "size": 16
         }
        },
        "legend": {
         "title": {
          "text": "<b>Global Topic Representation"
         }
        },
        "template": {
         "data": {
          "bar": [
           {
            "error_x": {
             "color": "rgb(36,36,36)"
            },
            "error_y": {
             "color": "rgb(36,36,36)"
            },
            "marker": {
             "line": {
              "color": "white",
              "width": 0.5
             },
             "pattern": {
              "fillmode": "overlay",
              "size": 10,
              "solidity": 0.2
             }
            },
            "type": "bar"
           }
          ],
          "barpolar": [
           {
            "marker": {
             "line": {
              "color": "white",
              "width": 0.5
             },
             "pattern": {
              "fillmode": "overlay",
              "size": 10,
              "solidity": 0.2
             }
            },
            "type": "barpolar"
           }
          ],
          "carpet": [
           {
            "aaxis": {
             "endlinecolor": "rgb(36,36,36)",
             "gridcolor": "white",
             "linecolor": "white",
             "minorgridcolor": "white",
             "startlinecolor": "rgb(36,36,36)"
            },
            "baxis": {
             "endlinecolor": "rgb(36,36,36)",
             "gridcolor": "white",
             "linecolor": "white",
             "minorgridcolor": "white",
             "startlinecolor": "rgb(36,36,36)"
            },
            "type": "carpet"
           }
          ],
          "choropleth": [
           {
            "colorbar": {
             "outlinewidth": 1,
             "tickcolor": "rgb(36,36,36)",
             "ticks": "outside"
            },
            "type": "choropleth"
           }
          ],
          "contour": [
           {
            "colorbar": {
             "outlinewidth": 1,
             "tickcolor": "rgb(36,36,36)",
             "ticks": "outside"
            },
            "colorscale": [
             [
              0,
              "#440154"
             ],
             [
              0.1111111111111111,
              "#482878"
             ],
             [
              0.2222222222222222,
              "#3e4989"
             ],
             [
              0.3333333333333333,
              "#31688e"
             ],
             [
              0.4444444444444444,
              "#26828e"
             ],
             [
              0.5555555555555556,
              "#1f9e89"
             ],
             [
              0.6666666666666666,
              "#35b779"
             ],
             [
              0.7777777777777778,
              "#6ece58"
             ],
             [
              0.8888888888888888,
              "#b5de2b"
             ],
             [
              1,
              "#fde725"
             ]
            ],
            "type": "contour"
           }
          ],
          "contourcarpet": [
           {
            "colorbar": {
             "outlinewidth": 1,
             "tickcolor": "rgb(36,36,36)",
             "ticks": "outside"
            },
            "type": "contourcarpet"
           }
          ],
          "heatmap": [
           {
            "colorbar": {
             "outlinewidth": 1,
             "tickcolor": "rgb(36,36,36)",
             "ticks": "outside"
            },
            "colorscale": [
             [
              0,
              "#440154"
             ],
             [
              0.1111111111111111,
              "#482878"
             ],
             [
              0.2222222222222222,
              "#3e4989"
             ],
             [
              0.3333333333333333,
              "#31688e"
             ],
             [
              0.4444444444444444,
              "#26828e"
             ],
             [
              0.5555555555555556,
              "#1f9e89"
             ],
             [
              0.6666666666666666,
              "#35b779"
             ],
             [
              0.7777777777777778,
              "#6ece58"
             ],
             [
              0.8888888888888888,
              "#b5de2b"
             ],
             [
              1,
              "#fde725"
             ]
            ],
            "type": "heatmap"
           }
          ],
          "heatmapgl": [
           {
            "colorbar": {
             "outlinewidth": 1,
             "tickcolor": "rgb(36,36,36)",
             "ticks": "outside"
            },
            "colorscale": [
             [
              0,
              "#440154"
             ],
             [
              0.1111111111111111,
              "#482878"
             ],
             [
              0.2222222222222222,
              "#3e4989"
             ],
             [
              0.3333333333333333,
              "#31688e"
             ],
             [
              0.4444444444444444,
              "#26828e"
             ],
             [
              0.5555555555555556,
              "#1f9e89"
             ],
             [
              0.6666666666666666,
              "#35b779"
             ],
             [
              0.7777777777777778,
              "#6ece58"
             ],
             [
              0.8888888888888888,
              "#b5de2b"
             ],
             [
              1,
              "#fde725"
             ]
            ],
            "type": "heatmapgl"
           }
          ],
          "histogram": [
           {
            "marker": {
             "line": {
              "color": "white",
              "width": 0.6
             }
            },
            "type": "histogram"
           }
          ],
          "histogram2d": [
           {
            "colorbar": {
             "outlinewidth": 1,
             "tickcolor": "rgb(36,36,36)",
             "ticks": "outside"
            },
            "colorscale": [
             [
              0,
              "#440154"
             ],
             [
              0.1111111111111111,
              "#482878"
             ],
             [
              0.2222222222222222,
              "#3e4989"
             ],
             [
              0.3333333333333333,
              "#31688e"
             ],
             [
              0.4444444444444444,
              "#26828e"
             ],
             [
              0.5555555555555556,
              "#1f9e89"
             ],
             [
              0.6666666666666666,
              "#35b779"
             ],
             [
              0.7777777777777778,
              "#6ece58"
             ],
             [
              0.8888888888888888,
              "#b5de2b"
             ],
             [
              1,
              "#fde725"
             ]
            ],
            "type": "histogram2d"
           }
          ],
          "histogram2dcontour": [
           {
            "colorbar": {
             "outlinewidth": 1,
             "tickcolor": "rgb(36,36,36)",
             "ticks": "outside"
            },
            "colorscale": [
             [
              0,
              "#440154"
             ],
             [
              0.1111111111111111,
              "#482878"
             ],
             [
              0.2222222222222222,
              "#3e4989"
             ],
             [
              0.3333333333333333,
              "#31688e"
             ],
             [
              0.4444444444444444,
              "#26828e"
             ],
             [
              0.5555555555555556,
              "#1f9e89"
             ],
             [
              0.6666666666666666,
              "#35b779"
             ],
             [
              0.7777777777777778,
              "#6ece58"
             ],
             [
              0.8888888888888888,
              "#b5de2b"
             ],
             [
              1,
              "#fde725"
             ]
            ],
            "type": "histogram2dcontour"
           }
          ],
          "mesh3d": [
           {
            "colorbar": {
             "outlinewidth": 1,
             "tickcolor": "rgb(36,36,36)",
             "ticks": "outside"
            },
            "type": "mesh3d"
           }
          ],
          "parcoords": [
           {
            "line": {
             "colorbar": {
              "outlinewidth": 1,
              "tickcolor": "rgb(36,36,36)",
              "ticks": "outside"
             }
            },
            "type": "parcoords"
           }
          ],
          "pie": [
           {
            "automargin": true,
            "type": "pie"
           }
          ],
          "scatter": [
           {
            "fillpattern": {
             "fillmode": "overlay",
             "size": 10,
             "solidity": 0.2
            },
            "type": "scatter"
           }
          ],
          "scatter3d": [
           {
            "line": {
             "colorbar": {
              "outlinewidth": 1,
              "tickcolor": "rgb(36,36,36)",
              "ticks": "outside"
             }
            },
            "marker": {
             "colorbar": {
              "outlinewidth": 1,
              "tickcolor": "rgb(36,36,36)",
              "ticks": "outside"
             }
            },
            "type": "scatter3d"
           }
          ],
          "scattercarpet": [
           {
            "marker": {
             "colorbar": {
              "outlinewidth": 1,
              "tickcolor": "rgb(36,36,36)",
              "ticks": "outside"
             }
            },
            "type": "scattercarpet"
           }
          ],
          "scattergeo": [
           {
            "marker": {
             "colorbar": {
              "outlinewidth": 1,
              "tickcolor": "rgb(36,36,36)",
              "ticks": "outside"
             }
            },
            "type": "scattergeo"
           }
          ],
          "scattergl": [
           {
            "marker": {
             "colorbar": {
              "outlinewidth": 1,
              "tickcolor": "rgb(36,36,36)",
              "ticks": "outside"
             }
            },
            "type": "scattergl"
           }
          ],
          "scattermapbox": [
           {
            "marker": {
             "colorbar": {
              "outlinewidth": 1,
              "tickcolor": "rgb(36,36,36)",
              "ticks": "outside"
             }
            },
            "type": "scattermapbox"
           }
          ],
          "scatterpolar": [
           {
            "marker": {
             "colorbar": {
              "outlinewidth": 1,
              "tickcolor": "rgb(36,36,36)",
              "ticks": "outside"
             }
            },
            "type": "scatterpolar"
           }
          ],
          "scatterpolargl": [
           {
            "marker": {
             "colorbar": {
              "outlinewidth": 1,
              "tickcolor": "rgb(36,36,36)",
              "ticks": "outside"
             }
            },
            "type": "scatterpolargl"
           }
          ],
          "scatterternary": [
           {
            "marker": {
             "colorbar": {
              "outlinewidth": 1,
              "tickcolor": "rgb(36,36,36)",
              "ticks": "outside"
             }
            },
            "type": "scatterternary"
           }
          ],
          "surface": [
           {
            "colorbar": {
             "outlinewidth": 1,
             "tickcolor": "rgb(36,36,36)",
             "ticks": "outside"
            },
            "colorscale": [
             [
              0,
              "#440154"
             ],
             [
              0.1111111111111111,
              "#482878"
             ],
             [
              0.2222222222222222,
              "#3e4989"
             ],
             [
              0.3333333333333333,
              "#31688e"
             ],
             [
              0.4444444444444444,
              "#26828e"
             ],
             [
              0.5555555555555556,
              "#1f9e89"
             ],
             [
              0.6666666666666666,
              "#35b779"
             ],
             [
              0.7777777777777778,
              "#6ece58"
             ],
             [
              0.8888888888888888,
              "#b5de2b"
             ],
             [
              1,
              "#fde725"
             ]
            ],
            "type": "surface"
           }
          ],
          "table": [
           {
            "cells": {
             "fill": {
              "color": "rgb(237,237,237)"
             },
             "line": {
              "color": "white"
             }
            },
            "header": {
             "fill": {
              "color": "rgb(217,217,217)"
             },
             "line": {
              "color": "white"
             }
            },
            "type": "table"
           }
          ]
         },
         "layout": {
          "annotationdefaults": {
           "arrowhead": 0,
           "arrowwidth": 1
          },
          "autotypenumbers": "strict",
          "coloraxis": {
           "colorbar": {
            "outlinewidth": 1,
            "tickcolor": "rgb(36,36,36)",
            "ticks": "outside"
           }
          },
          "colorscale": {
           "diverging": [
            [
             0,
             "rgb(103,0,31)"
            ],
            [
             0.1,
             "rgb(178,24,43)"
            ],
            [
             0.2,
             "rgb(214,96,77)"
            ],
            [
             0.3,
             "rgb(244,165,130)"
            ],
            [
             0.4,
             "rgb(253,219,199)"
            ],
            [
             0.5,
             "rgb(247,247,247)"
            ],
            [
             0.6,
             "rgb(209,229,240)"
            ],
            [
             0.7,
             "rgb(146,197,222)"
            ],
            [
             0.8,
             "rgb(67,147,195)"
            ],
            [
             0.9,
             "rgb(33,102,172)"
            ],
            [
             1,
             "rgb(5,48,97)"
            ]
           ],
           "sequential": [
            [
             0,
             "#440154"
            ],
            [
             0.1111111111111111,
             "#482878"
            ],
            [
             0.2222222222222222,
             "#3e4989"
            ],
            [
             0.3333333333333333,
             "#31688e"
            ],
            [
             0.4444444444444444,
             "#26828e"
            ],
            [
             0.5555555555555556,
             "#1f9e89"
            ],
            [
             0.6666666666666666,
             "#35b779"
            ],
            [
             0.7777777777777778,
             "#6ece58"
            ],
            [
             0.8888888888888888,
             "#b5de2b"
            ],
            [
             1,
             "#fde725"
            ]
           ],
           "sequentialminus": [
            [
             0,
             "#440154"
            ],
            [
             0.1111111111111111,
             "#482878"
            ],
            [
             0.2222222222222222,
             "#3e4989"
            ],
            [
             0.3333333333333333,
             "#31688e"
            ],
            [
             0.4444444444444444,
             "#26828e"
            ],
            [
             0.5555555555555556,
             "#1f9e89"
            ],
            [
             0.6666666666666666,
             "#35b779"
            ],
            [
             0.7777777777777778,
             "#6ece58"
            ],
            [
             0.8888888888888888,
             "#b5de2b"
            ],
            [
             1,
             "#fde725"
            ]
           ]
          },
          "colorway": [
           "#1F77B4",
           "#FF7F0E",
           "#2CA02C",
           "#D62728",
           "#9467BD",
           "#8C564B",
           "#E377C2",
           "#7F7F7F",
           "#BCBD22",
           "#17BECF"
          ],
          "font": {
           "color": "rgb(36,36,36)"
          },
          "geo": {
           "bgcolor": "white",
           "lakecolor": "white",
           "landcolor": "white",
           "showlakes": true,
           "showland": true,
           "subunitcolor": "white"
          },
          "hoverlabel": {
           "align": "left"
          },
          "hovermode": "closest",
          "mapbox": {
           "style": "light"
          },
          "paper_bgcolor": "white",
          "plot_bgcolor": "white",
          "polar": {
           "angularaxis": {
            "gridcolor": "rgb(232,232,232)",
            "linecolor": "rgb(36,36,36)",
            "showgrid": false,
            "showline": true,
            "ticks": "outside"
           },
           "bgcolor": "white",
           "radialaxis": {
            "gridcolor": "rgb(232,232,232)",
            "linecolor": "rgb(36,36,36)",
            "showgrid": false,
            "showline": true,
            "ticks": "outside"
           }
          },
          "scene": {
           "xaxis": {
            "backgroundcolor": "white",
            "gridcolor": "rgb(232,232,232)",
            "gridwidth": 2,
            "linecolor": "rgb(36,36,36)",
            "showbackground": true,
            "showgrid": false,
            "showline": true,
            "ticks": "outside",
            "zeroline": false,
            "zerolinecolor": "rgb(36,36,36)"
           },
           "yaxis": {
            "backgroundcolor": "white",
            "gridcolor": "rgb(232,232,232)",
            "gridwidth": 2,
            "linecolor": "rgb(36,36,36)",
            "showbackground": true,
            "showgrid": false,
            "showline": true,
            "ticks": "outside",
            "zeroline": false,
            "zerolinecolor": "rgb(36,36,36)"
           },
           "zaxis": {
            "backgroundcolor": "white",
            "gridcolor": "rgb(232,232,232)",
            "gridwidth": 2,
            "linecolor": "rgb(36,36,36)",
            "showbackground": true,
            "showgrid": false,
            "showline": true,
            "ticks": "outside",
            "zeroline": false,
            "zerolinecolor": "rgb(36,36,36)"
           }
          },
          "shapedefaults": {
           "fillcolor": "black",
           "line": {
            "width": 0
           },
           "opacity": 0.3
          },
          "ternary": {
           "aaxis": {
            "gridcolor": "rgb(232,232,232)",
            "linecolor": "rgb(36,36,36)",
            "showgrid": false,
            "showline": true,
            "ticks": "outside"
           },
           "baxis": {
            "gridcolor": "rgb(232,232,232)",
            "linecolor": "rgb(36,36,36)",
            "showgrid": false,
            "showline": true,
            "ticks": "outside"
           },
           "bgcolor": "white",
           "caxis": {
            "gridcolor": "rgb(232,232,232)",
            "linecolor": "rgb(36,36,36)",
            "showgrid": false,
            "showline": true,
            "ticks": "outside"
           }
          },
          "title": {
           "x": 0.05
          },
          "xaxis": {
           "automargin": true,
           "gridcolor": "rgb(232,232,232)",
           "linecolor": "rgb(36,36,36)",
           "showgrid": false,
           "showline": true,
           "ticks": "outside",
           "title": {
            "standoff": 15
           },
           "zeroline": false,
           "zerolinecolor": "rgb(36,36,36)"
          },
          "yaxis": {
           "automargin": true,
           "gridcolor": "rgb(232,232,232)",
           "linecolor": "rgb(36,36,36)",
           "showgrid": false,
           "showline": true,
           "ticks": "outside",
           "title": {
            "standoff": 15
           },
           "zeroline": false,
           "zerolinecolor": "rgb(36,36,36)"
          }
         }
        },
        "title": {
         "font": {
          "color": "Black",
          "size": 22
         },
         "text": "<b>Topics per Class",
         "x": 0.4,
         "xanchor": "center",
         "y": 0.95,
         "yanchor": "top"
        },
        "width": 1250,
        "xaxis": {
         "showgrid": true,
         "title": {
          "text": "Frequency"
         }
        },
        "yaxis": {
         "showgrid": true,
         "title": {
          "text": "Class"
         }
        }
       }
      },
      "text/html": [
       "<div>                            <div id=\"8a5a6d5c-ed42-4998-b67a-09bc76b7d4b4\" class=\"plotly-graph-div\" style=\"height:900px; width:1250px;\"></div>            <script type=\"text/javascript\">                require([\"plotly\"], function(Plotly) {                    window.PLOTLYENV=window.PLOTLYENV || {};                                    if (document.getElementById(\"8a5a6d5c-ed42-4998-b67a-09bc76b7d4b4\")) {                    Plotly.newPlot(                        \"8a5a6d5c-ed42-4998-b67a-09bc76b7d4b4\",                        [{\"hoverinfo\":\"text\",\"hovertext\":[\"<b>Topic 0</b><br>Words: stati, uniti, di, degli, qualunque\",\"<b>Topic 0</b><br>Words: \\u043d\\u0435, \\u0447\\u0442\\u043e, \\u0440\\u043e\\u0441\\u0441\\u0438\\u0438, \\u043d\\u0430, \\u0444\\u0435\\u0432\\u0440\\u0430\\u043b\\u044f\",\"<b>Topic 0</b><br>Words: \\u0442\\u0443\\u0442, \\u043d\\u0435, \\u043d\\u0430, \\u0447\\u0442\\u043e, \\u0440\\u043e\\u0441\\u0441\\u0438\\u0438\",\"<b>Topic 0</b><br>Words: ingles, subtitulo, \\u043d\\u0435, \\u043d\\u0430, \\u0447\\u0442\\u043e\",\"<b>Topic 0</b><br>Words: jaaa, der, \\u043d\\u0435, \\u043d\\u0430, \\u0447\\u0442\\u043e\",\"<b>Topic 0</b><br>Words: \\u0449\\u043e, \\u0446\\u0435, \\u043d\\u0435, \\u0442\\u0430, \\u043d\\u0430\",\"<b>Topic 0</b><br>Words: pidarasi, pidaras, plural, russian, \\u043d\\u0435\",\"<b>Topic 0</b><br>Words: \\u0431\\u0435\\u0440\\u0435\\u0436\\u0456\\u0442\\u044c, \\u0441\\u0435\\u0431\\u0435, \\u043d\\u0435, \\u043d\\u0430, \\u0447\\u0442\\u043e\"],\"marker\":{\"color\":\"#E69F00\"},\"name\":\"0_\\u043d\\u0435_\\u043d\\u0430_\\u0447\\u0442\\u043e_\\u0440\\u043e\\u0441\\u0441\\u0438\\u0438\",\"orientation\":\"h\",\"visible\":true,\"x\":[1,97,1,1,1,59,1,2],\"y\":[\"it\",\"ru\",\"fi\",\"es\",\"et\",\"uk\",\"en\",\"mk\"],\"type\":\"bar\"},{\"hoverinfo\":\"text\",\"hovertext\":[\"<b>Topic 1</b><br>Words: nukes, nuclear, nuke, tactical, use\"],\"marker\":{\"color\":\"#56B4E9\"},\"name\":\"1_nukes_nuclear_nuke_tactical\",\"orientation\":\"h\",\"visible\":\"legendonly\",\"x\":[140],\"y\":[\"en\"],\"type\":\"bar\"},{\"hoverinfo\":\"text\",\"hovertext\":[\"<b>Topic 2</b><br>Words: nato, join, eu, membership, members\"],\"marker\":{\"color\":\"#009E73\"},\"name\":\"2_nato_join_eu_membership\",\"orientation\":\"h\",\"visible\":\"legendonly\",\"x\":[104],\"y\":[\"en\"],\"type\":\"bar\"},{\"hoverinfo\":\"text\",\"hovertext\":[\"<b>Topic 3</b><br>Words: remind, good, russians, just, evil\",\"<b>Topic 3</b><br>Words: russians, evil, people, change, fact\"],\"marker\":{\"color\":\"#F0E442\"},\"name\":\"3_russians_evil_people_change\",\"orientation\":\"h\",\"visible\":\"legendonly\",\"x\":[1,96],\"y\":[\"it\",\"en\"],\"type\":\"bar\"},{\"hoverinfo\":\"text\",\"hovertext\":[\"<b>Topic 4</b><br>Words: orange, hair, traitor, hands, little\",\"<b>Topic 4</b><br>Words: sniff, little, kid, sniffing, joe\"],\"marker\":{\"color\":\"#D55E00\"},\"name\":\"4_sniff_little_kid_sniffing\",\"orientation\":\"h\",\"visible\":\"legendonly\",\"x\":[1,92],\"y\":[\"pl\",\"en\"],\"type\":\"bar\"},{\"hoverinfo\":\"text\",\"hovertext\":[\"<b>Topic 5</b><br>Words: amtrak, joe, elected, trump, president\"],\"marker\":{\"color\":\"#0072B2\"},\"name\":\"5_amtrak_joe_elected_trump\",\"orientation\":\"h\",\"visible\":\"legendonly\",\"x\":[82],\"y\":[\"en\"],\"type\":\"bar\"},{\"hoverinfo\":\"text\",\"hovertext\":[\"<b>Topic 6</b><br>Words: desantis, gets, democracy, american, continuity\",\"<b>Topic 6</b><br>Words: democracy, american, continuity, autocracy, minority\"],\"marker\":{\"color\":\"#CC79A7\"},\"name\":\"6_democracy_american_continuity_autocrac...\",\"orientation\":\"h\",\"visible\":\"legendonly\",\"x\":[1,78],\"y\":[\"eo\",\"en\"],\"type\":\"bar\"},{\"hoverinfo\":\"text\",\"hovertext\":[\"<b>Topic 7</b><br>Words: armys, aged, 60, contribution, financial\",\"<b>Topic 7</b><br>Words: draft, military, year, conservatives, platoon\"],\"marker\":{\"color\":\"#E69F00\"},\"name\":\"7_draft_military_year_platoon\",\"orientation\":\"h\",\"visible\":\"legendonly\",\"x\":[1,76],\"y\":[\"fr\",\"en\"],\"type\":\"bar\"},{\"hoverinfo\":\"text\",\"hovertext\":[\"<b>Topic 8</b><br>Words: bayraktar, \\u0446\\u0456\\u043b\\u0456, \\u0437\\u043d\\u0438\\u0449\\u0435\\u043d\\u0456, \\u0431\\u0435\\u0437\\u043f\\u0456\\u043b\\u043e\\u0442\\u043d\\u0438\\u043a\\u0430\\u043c\\u0438, \\u043f\\u043e\\u0437\\u043d\\u0430\\u0447\\u0435\\u043d\\u0456\",\"<b>Topic 8</b><br>Words: drones, bayraktar, tb2, drone, artillery\"],\"marker\":{\"color\":\"#56B4E9\"},\"name\":\"8_drones_bayraktar_tb2_drone\",\"orientation\":\"h\",\"visible\":\"legendonly\",\"x\":[1,71],\"y\":[\"uk\",\"en\"],\"type\":\"bar\"},{\"hoverinfo\":\"text\",\"hovertext\":[\"<b>Topic 9</b><br>Words: \\u0447\\u0435\\u0440\\u0432\\u043e\\u043d\\u0430, chervona, \\u043b\\u0443\\u0437\\u0456, \\u043a\\u0430\\u043b\\u0438\\u043d\\u0430, oy\",\"<b>Topic 9</b><br>Words: song, music, anthem, cello, souls\"],\"marker\":{\"color\":\"#009E73\"},\"name\":\"9_song_music_anthem_cello\",\"orientation\":\"h\",\"visible\":\"legendonly\",\"x\":[1,70],\"y\":[\"uk\",\"en\"],\"type\":\"bar\"}],                        {\"template\":{\"data\":{\"barpolar\":[{\"marker\":{\"line\":{\"color\":\"white\",\"width\":0.5},\"pattern\":{\"fillmode\":\"overlay\",\"size\":10,\"solidity\":0.2}},\"type\":\"barpolar\"}],\"bar\":[{\"error_x\":{\"color\":\"rgb(36,36,36)\"},\"error_y\":{\"color\":\"rgb(36,36,36)\"},\"marker\":{\"line\":{\"color\":\"white\",\"width\":0.5},\"pattern\":{\"fillmode\":\"overlay\",\"size\":10,\"solidity\":0.2}},\"type\":\"bar\"}],\"carpet\":[{\"aaxis\":{\"endlinecolor\":\"rgb(36,36,36)\",\"gridcolor\":\"white\",\"linecolor\":\"white\",\"minorgridcolor\":\"white\",\"startlinecolor\":\"rgb(36,36,36)\"},\"baxis\":{\"endlinecolor\":\"rgb(36,36,36)\",\"gridcolor\":\"white\",\"linecolor\":\"white\",\"minorgridcolor\":\"white\",\"startlinecolor\":\"rgb(36,36,36)\"},\"type\":\"carpet\"}],\"choropleth\":[{\"colorbar\":{\"outlinewidth\":1,\"tickcolor\":\"rgb(36,36,36)\",\"ticks\":\"outside\"},\"type\":\"choropleth\"}],\"contourcarpet\":[{\"colorbar\":{\"outlinewidth\":1,\"tickcolor\":\"rgb(36,36,36)\",\"ticks\":\"outside\"},\"type\":\"contourcarpet\"}],\"contour\":[{\"colorbar\":{\"outlinewidth\":1,\"tickcolor\":\"rgb(36,36,36)\",\"ticks\":\"outside\"},\"colorscale\":[[0.0,\"#440154\"],[0.1111111111111111,\"#482878\"],[0.2222222222222222,\"#3e4989\"],[0.3333333333333333,\"#31688e\"],[0.4444444444444444,\"#26828e\"],[0.5555555555555556,\"#1f9e89\"],[0.6666666666666666,\"#35b779\"],[0.7777777777777778,\"#6ece58\"],[0.8888888888888888,\"#b5de2b\"],[1.0,\"#fde725\"]],\"type\":\"contour\"}],\"heatmapgl\":[{\"colorbar\":{\"outlinewidth\":1,\"tickcolor\":\"rgb(36,36,36)\",\"ticks\":\"outside\"},\"colorscale\":[[0.0,\"#440154\"],[0.1111111111111111,\"#482878\"],[0.2222222222222222,\"#3e4989\"],[0.3333333333333333,\"#31688e\"],[0.4444444444444444,\"#26828e\"],[0.5555555555555556,\"#1f9e89\"],[0.6666666666666666,\"#35b779\"],[0.7777777777777778,\"#6ece58\"],[0.8888888888888888,\"#b5de2b\"],[1.0,\"#fde725\"]],\"type\":\"heatmapgl\"}],\"heatmap\":[{\"colorbar\":{\"outlinewidth\":1,\"tickcolor\":\"rgb(36,36,36)\",\"ticks\":\"outside\"},\"colorscale\":[[0.0,\"#440154\"],[0.1111111111111111,\"#482878\"],[0.2222222222222222,\"#3e4989\"],[0.3333333333333333,\"#31688e\"],[0.4444444444444444,\"#26828e\"],[0.5555555555555556,\"#1f9e89\"],[0.6666666666666666,\"#35b779\"],[0.7777777777777778,\"#6ece58\"],[0.8888888888888888,\"#b5de2b\"],[1.0,\"#fde725\"]],\"type\":\"heatmap\"}],\"histogram2dcontour\":[{\"colorbar\":{\"outlinewidth\":1,\"tickcolor\":\"rgb(36,36,36)\",\"ticks\":\"outside\"},\"colorscale\":[[0.0,\"#440154\"],[0.1111111111111111,\"#482878\"],[0.2222222222222222,\"#3e4989\"],[0.3333333333333333,\"#31688e\"],[0.4444444444444444,\"#26828e\"],[0.5555555555555556,\"#1f9e89\"],[0.6666666666666666,\"#35b779\"],[0.7777777777777778,\"#6ece58\"],[0.8888888888888888,\"#b5de2b\"],[1.0,\"#fde725\"]],\"type\":\"histogram2dcontour\"}],\"histogram2d\":[{\"colorbar\":{\"outlinewidth\":1,\"tickcolor\":\"rgb(36,36,36)\",\"ticks\":\"outside\"},\"colorscale\":[[0.0,\"#440154\"],[0.1111111111111111,\"#482878\"],[0.2222222222222222,\"#3e4989\"],[0.3333333333333333,\"#31688e\"],[0.4444444444444444,\"#26828e\"],[0.5555555555555556,\"#1f9e89\"],[0.6666666666666666,\"#35b779\"],[0.7777777777777778,\"#6ece58\"],[0.8888888888888888,\"#b5de2b\"],[1.0,\"#fde725\"]],\"type\":\"histogram2d\"}],\"histogram\":[{\"marker\":{\"line\":{\"color\":\"white\",\"width\":0.6}},\"type\":\"histogram\"}],\"mesh3d\":[{\"colorbar\":{\"outlinewidth\":1,\"tickcolor\":\"rgb(36,36,36)\",\"ticks\":\"outside\"},\"type\":\"mesh3d\"}],\"parcoords\":[{\"line\":{\"colorbar\":{\"outlinewidth\":1,\"tickcolor\":\"rgb(36,36,36)\",\"ticks\":\"outside\"}},\"type\":\"parcoords\"}],\"pie\":[{\"automargin\":true,\"type\":\"pie\"}],\"scatter3d\":[{\"line\":{\"colorbar\":{\"outlinewidth\":1,\"tickcolor\":\"rgb(36,36,36)\",\"ticks\":\"outside\"}},\"marker\":{\"colorbar\":{\"outlinewidth\":1,\"tickcolor\":\"rgb(36,36,36)\",\"ticks\":\"outside\"}},\"type\":\"scatter3d\"}],\"scattercarpet\":[{\"marker\":{\"colorbar\":{\"outlinewidth\":1,\"tickcolor\":\"rgb(36,36,36)\",\"ticks\":\"outside\"}},\"type\":\"scattercarpet\"}],\"scattergeo\":[{\"marker\":{\"colorbar\":{\"outlinewidth\":1,\"tickcolor\":\"rgb(36,36,36)\",\"ticks\":\"outside\"}},\"type\":\"scattergeo\"}],\"scattergl\":[{\"marker\":{\"colorbar\":{\"outlinewidth\":1,\"tickcolor\":\"rgb(36,36,36)\",\"ticks\":\"outside\"}},\"type\":\"scattergl\"}],\"scattermapbox\":[{\"marker\":{\"colorbar\":{\"outlinewidth\":1,\"tickcolor\":\"rgb(36,36,36)\",\"ticks\":\"outside\"}},\"type\":\"scattermapbox\"}],\"scatterpolargl\":[{\"marker\":{\"colorbar\":{\"outlinewidth\":1,\"tickcolor\":\"rgb(36,36,36)\",\"ticks\":\"outside\"}},\"type\":\"scatterpolargl\"}],\"scatterpolar\":[{\"marker\":{\"colorbar\":{\"outlinewidth\":1,\"tickcolor\":\"rgb(36,36,36)\",\"ticks\":\"outside\"}},\"type\":\"scatterpolar\"}],\"scatter\":[{\"fillpattern\":{\"fillmode\":\"overlay\",\"size\":10,\"solidity\":0.2},\"type\":\"scatter\"}],\"scatterternary\":[{\"marker\":{\"colorbar\":{\"outlinewidth\":1,\"tickcolor\":\"rgb(36,36,36)\",\"ticks\":\"outside\"}},\"type\":\"scatterternary\"}],\"surface\":[{\"colorbar\":{\"outlinewidth\":1,\"tickcolor\":\"rgb(36,36,36)\",\"ticks\":\"outside\"},\"colorscale\":[[0.0,\"#440154\"],[0.1111111111111111,\"#482878\"],[0.2222222222222222,\"#3e4989\"],[0.3333333333333333,\"#31688e\"],[0.4444444444444444,\"#26828e\"],[0.5555555555555556,\"#1f9e89\"],[0.6666666666666666,\"#35b779\"],[0.7777777777777778,\"#6ece58\"],[0.8888888888888888,\"#b5de2b\"],[1.0,\"#fde725\"]],\"type\":\"surface\"}],\"table\":[{\"cells\":{\"fill\":{\"color\":\"rgb(237,237,237)\"},\"line\":{\"color\":\"white\"}},\"header\":{\"fill\":{\"color\":\"rgb(217,217,217)\"},\"line\":{\"color\":\"white\"}},\"type\":\"table\"}]},\"layout\":{\"annotationdefaults\":{\"arrowhead\":0,\"arrowwidth\":1},\"autotypenumbers\":\"strict\",\"coloraxis\":{\"colorbar\":{\"outlinewidth\":1,\"tickcolor\":\"rgb(36,36,36)\",\"ticks\":\"outside\"}},\"colorscale\":{\"diverging\":[[0.0,\"rgb(103,0,31)\"],[0.1,\"rgb(178,24,43)\"],[0.2,\"rgb(214,96,77)\"],[0.3,\"rgb(244,165,130)\"],[0.4,\"rgb(253,219,199)\"],[0.5,\"rgb(247,247,247)\"],[0.6,\"rgb(209,229,240)\"],[0.7,\"rgb(146,197,222)\"],[0.8,\"rgb(67,147,195)\"],[0.9,\"rgb(33,102,172)\"],[1.0,\"rgb(5,48,97)\"]],\"sequential\":[[0.0,\"#440154\"],[0.1111111111111111,\"#482878\"],[0.2222222222222222,\"#3e4989\"],[0.3333333333333333,\"#31688e\"],[0.4444444444444444,\"#26828e\"],[0.5555555555555556,\"#1f9e89\"],[0.6666666666666666,\"#35b779\"],[0.7777777777777778,\"#6ece58\"],[0.8888888888888888,\"#b5de2b\"],[1.0,\"#fde725\"]],\"sequentialminus\":[[0.0,\"#440154\"],[0.1111111111111111,\"#482878\"],[0.2222222222222222,\"#3e4989\"],[0.3333333333333333,\"#31688e\"],[0.4444444444444444,\"#26828e\"],[0.5555555555555556,\"#1f9e89\"],[0.6666666666666666,\"#35b779\"],[0.7777777777777778,\"#6ece58\"],[0.8888888888888888,\"#b5de2b\"],[1.0,\"#fde725\"]]},\"colorway\":[\"#1F77B4\",\"#FF7F0E\",\"#2CA02C\",\"#D62728\",\"#9467BD\",\"#8C564B\",\"#E377C2\",\"#7F7F7F\",\"#BCBD22\",\"#17BECF\"],\"font\":{\"color\":\"rgb(36,36,36)\"},\"geo\":{\"bgcolor\":\"white\",\"lakecolor\":\"white\",\"landcolor\":\"white\",\"showlakes\":true,\"showland\":true,\"subunitcolor\":\"white\"},\"hoverlabel\":{\"align\":\"left\"},\"hovermode\":\"closest\",\"mapbox\":{\"style\":\"light\"},\"paper_bgcolor\":\"white\",\"plot_bgcolor\":\"white\",\"polar\":{\"angularaxis\":{\"gridcolor\":\"rgb(232,232,232)\",\"linecolor\":\"rgb(36,36,36)\",\"showgrid\":false,\"showline\":true,\"ticks\":\"outside\"},\"bgcolor\":\"white\",\"radialaxis\":{\"gridcolor\":\"rgb(232,232,232)\",\"linecolor\":\"rgb(36,36,36)\",\"showgrid\":false,\"showline\":true,\"ticks\":\"outside\"}},\"scene\":{\"xaxis\":{\"backgroundcolor\":\"white\",\"gridcolor\":\"rgb(232,232,232)\",\"gridwidth\":2,\"linecolor\":\"rgb(36,36,36)\",\"showbackground\":true,\"showgrid\":false,\"showline\":true,\"ticks\":\"outside\",\"zeroline\":false,\"zerolinecolor\":\"rgb(36,36,36)\"},\"yaxis\":{\"backgroundcolor\":\"white\",\"gridcolor\":\"rgb(232,232,232)\",\"gridwidth\":2,\"linecolor\":\"rgb(36,36,36)\",\"showbackground\":true,\"showgrid\":false,\"showline\":true,\"ticks\":\"outside\",\"zeroline\":false,\"zerolinecolor\":\"rgb(36,36,36)\"},\"zaxis\":{\"backgroundcolor\":\"white\",\"gridcolor\":\"rgb(232,232,232)\",\"gridwidth\":2,\"linecolor\":\"rgb(36,36,36)\",\"showbackground\":true,\"showgrid\":false,\"showline\":true,\"ticks\":\"outside\",\"zeroline\":false,\"zerolinecolor\":\"rgb(36,36,36)\"}},\"shapedefaults\":{\"fillcolor\":\"black\",\"line\":{\"width\":0},\"opacity\":0.3},\"ternary\":{\"aaxis\":{\"gridcolor\":\"rgb(232,232,232)\",\"linecolor\":\"rgb(36,36,36)\",\"showgrid\":false,\"showline\":true,\"ticks\":\"outside\"},\"baxis\":{\"gridcolor\":\"rgb(232,232,232)\",\"linecolor\":\"rgb(36,36,36)\",\"showgrid\":false,\"showline\":true,\"ticks\":\"outside\"},\"bgcolor\":\"white\",\"caxis\":{\"gridcolor\":\"rgb(232,232,232)\",\"linecolor\":\"rgb(36,36,36)\",\"showgrid\":false,\"showline\":true,\"ticks\":\"outside\"}},\"title\":{\"x\":0.05},\"xaxis\":{\"automargin\":true,\"gridcolor\":\"rgb(232,232,232)\",\"linecolor\":\"rgb(36,36,36)\",\"showgrid\":false,\"showline\":true,\"ticks\":\"outside\",\"title\":{\"standoff\":15},\"zeroline\":false,\"zerolinecolor\":\"rgb(36,36,36)\"},\"yaxis\":{\"automargin\":true,\"gridcolor\":\"rgb(232,232,232)\",\"linecolor\":\"rgb(36,36,36)\",\"showgrid\":false,\"showline\":true,\"ticks\":\"outside\",\"title\":{\"standoff\":15},\"zeroline\":false,\"zerolinecolor\":\"rgb(36,36,36)\"}}},\"xaxis\":{\"showgrid\":true,\"title\":{\"text\":\"Frequency\"}},\"yaxis\":{\"showgrid\":true,\"title\":{\"text\":\"Class\"}},\"title\":{\"font\":{\"size\":22,\"color\":\"Black\"},\"text\":\"<b>Topics per Class\",\"y\":0.95,\"x\":0.4,\"xanchor\":\"center\",\"yanchor\":\"top\"},\"hoverlabel\":{\"font\":{\"size\":16,\"family\":\"Rockwell\"},\"bgcolor\":\"white\"},\"width\":1250,\"height\":900,\"legend\":{\"title\":{\"text\":\"<b>Global Topic Representation\"}}},                        {\"responsive\": true}                    ).then(function(){\n",
       "                            \n",
       "var gd = document.getElementById('8a5a6d5c-ed42-4998-b67a-09bc76b7d4b4');\n",
       "var x = new MutationObserver(function (mutations, observer) {{\n",
       "        var display = window.getComputedStyle(gd).display;\n",
       "        if (!display || display === 'none') {{\n",
       "            console.log([gd, 'removed!']);\n",
       "            Plotly.purge(gd);\n",
       "            observer.disconnect();\n",
       "        }}\n",
       "}});\n",
       "\n",
       "// Listen for the removal of the full notebook cells\n",
       "var notebookContainer = gd.closest('#notebook-container');\n",
       "if (notebookContainer) {{\n",
       "    x.observe(notebookContainer, {childList: true});\n",
       "}}\n",
       "\n",
       "// Listen for the clearing of the current output cell\n",
       "var outputEl = gd.closest('.output');\n",
       "if (outputEl) {{\n",
       "    x.observe(outputEl, {childList: true});\n",
       "}}\n",
       "\n",
       "                        })                };                });            </script>        </div>"
      ]
     },
     "metadata": {},
     "output_type": "display_data"
    }
   ],
   "source": [
    "topic_model.visualize_topics_per_class(topics_per_class, top_n_topics=10)\n"
   ]
  }
 ],
 "metadata": {
  "interpreter": {
   "hash": "31f2aee4e71d21fbe5cf8b01ff0e069b9275f58929596ceb00d14d90e3e16cd6"
  },
  "kernelspec": {
   "display_name": "Python 3.9.2 64-bit",
   "language": "python",
   "name": "python3"
  },
  "language_info": {
   "codemirror_mode": {
    "name": "ipython",
    "version": 3
   },
   "file_extension": ".py",
   "mimetype": "text/x-python",
   "name": "python",
   "nbconvert_exporter": "python",
   "pygments_lexer": "ipython3",
   "version": "3.9.2"
  },
  "orig_nbformat": 4
 },
 "nbformat": 4,
 "nbformat_minor": 2
}
