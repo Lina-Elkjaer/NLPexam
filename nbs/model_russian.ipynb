{
 "cells": [
  {
   "cell_type": "markdown",
   "metadata": {},
   "source": [
    "## Loading data"
   ]
  },
  {
   "cell_type": "code",
   "execution_count": 65,
   "metadata": {},
   "outputs": [
    {
     "name": "stdout",
     "output_type": "stream",
     "text": [
      "421537\n",
      "421537\n",
      "421537\n",
      "1713\n",
      "1713\n"
     ]
    }
   ],
   "source": [
    "import re\n",
    "import pandas as pd\n",
    "\n",
    "# Prepare data\n",
    "path_pkl = os.path.join(\"data\", \"test_df.pkl\")\n",
    "data = pd.read_pickle(path_pkl) \n",
    "\n",
    "print(len(data))\n",
    "data.dropna(inplace=True)\n",
    "print(len(data))\n",
    "\n",
    "#data1 = data[:5000] \n",
    "#data2 = data[416537:]\n",
    "\n",
    "#print(len(data1))\n",
    "#print(len(data2))\n",
    "\n",
    "#data = pd.concat([data1, data2])\n",
    "\n",
    "print(len(data))\n",
    "\n",
    "data = data[data[\"language\"] == \"ru\"]\n",
    "\n",
    "print(len(data))\n",
    "\n",
    "data = data[data[\"confidence\"] > 0.9]\n",
    "\n",
    "print(len(data))\n",
    "\n",
    "# make text column lower case\n",
    "data.document = data['document'].map(lambda document: document.lower() if isinstance(document,str) else document)\n",
    "\n",
    "# make lists\n",
    "dates = data.date.to_list()\n",
    "docs = data.document.to_list()\n",
    "subreddits = data.sub_reddit.to_list()\n",
    "language = data.language.to_list()\n",
    "type = data.type.to_list()"
   ]
  },
  {
   "cell_type": "code",
   "execution_count": 66,
   "metadata": {},
   "outputs": [
    {
     "data": {
      "text/plain": [
       "1713"
      ]
     },
     "execution_count": 66,
     "metadata": {},
     "output_type": "execute_result"
    }
   ],
   "source": [
    "data = data[data[\"language\"] == \"ru\"]\n",
    "\n",
    "len(data)\n"
   ]
  },
  {
   "cell_type": "code",
   "execution_count": 67,
   "metadata": {},
   "outputs": [
    {
     "data": {
      "text/html": [
       "<div>\n",
       "<style scoped>\n",
       "    .dataframe tbody tr th:only-of-type {\n",
       "        vertical-align: middle;\n",
       "    }\n",
       "\n",
       "    .dataframe tbody tr th {\n",
       "        vertical-align: top;\n",
       "    }\n",
       "\n",
       "    .dataframe thead th {\n",
       "        text-align: right;\n",
       "    }\n",
       "</style>\n",
       "<table border=\"1\" class=\"dataframe\">\n",
       "  <thead>\n",
       "    <tr style=\"text-align: right;\">\n",
       "      <th></th>\n",
       "      <th>document</th>\n",
       "      <th>sub_reddit</th>\n",
       "      <th>date</th>\n",
       "      <th>type</th>\n",
       "      <th>language</th>\n",
       "      <th>confidence</th>\n",
       "    </tr>\n",
       "  </thead>\n",
       "  <tbody>\n",
       "    <tr>\n",
       "      <th>12</th>\n",
       "      <td>песня посвящается боевым гусям украины</td>\n",
       "      <td>ukraina</td>\n",
       "      <td>2022-03-23</td>\n",
       "      <td>submission</td>\n",
       "      <td>ru</td>\n",
       "      <td>0.992579</td>\n",
       "    </tr>\n",
       "    <tr>\n",
       "      <th>18</th>\n",
       "      <td>кто что знает или слышал про эту контору?</td>\n",
       "      <td>ukraina</td>\n",
       "      <td>2022-03-23</td>\n",
       "      <td>submission</td>\n",
       "      <td>ru</td>\n",
       "      <td>0.995329</td>\n",
       "    </tr>\n",
       "    <tr>\n",
       "      <th>20</th>\n",
       "      <td>здравствуй редит, мне 12 лет я живу в украине,...</td>\n",
       "      <td>ukraina</td>\n",
       "      <td>2022-03-23</td>\n",
       "      <td>submission</td>\n",
       "      <td>ru</td>\n",
       "      <td>0.994000</td>\n",
       "    </tr>\n",
       "    <tr>\n",
       "      <th>33</th>\n",
       "      <td>#9: восток, центр, запад. хроники вторжения ро...</td>\n",
       "      <td>ukraina</td>\n",
       "      <td>2022-03-23</td>\n",
       "      <td>submission</td>\n",
       "      <td>ru</td>\n",
       "      <td>0.990433</td>\n",
       "    </tr>\n",
       "    <tr>\n",
       "      <th>45</th>\n",
       "      <td>#8: харьков. хроники вторжения россии в украин...</td>\n",
       "      <td>ukraina</td>\n",
       "      <td>2022-03-23</td>\n",
       "      <td>submission</td>\n",
       "      <td>ru</td>\n",
       "      <td>0.996689</td>\n",
       "    </tr>\n",
       "    <tr>\n",
       "      <th>...</th>\n",
       "      <td>...</td>\n",
       "      <td>...</td>\n",
       "      <td>...</td>\n",
       "      <td>...</td>\n",
       "      <td>...</td>\n",
       "      <td>...</td>\n",
       "    </tr>\n",
       "    <tr>\n",
       "      <th>449235</th>\n",
       "      <td>die russian soldiers</td>\n",
       "      <td>ukraina</td>\n",
       "      <td>2022-03-07</td>\n",
       "      <td>comment</td>\n",
       "      <td>ru</td>\n",
       "      <td>0.665647</td>\n",
       "    </tr>\n",
       "    <tr>\n",
       "      <th>449236</th>\n",
       "      <td>die russian warships!</td>\n",
       "      <td>ukraina</td>\n",
       "      <td>2022-03-07</td>\n",
       "      <td>comment</td>\n",
       "      <td>ru</td>\n",
       "      <td>0.457248</td>\n",
       "    </tr>\n",
       "    <tr>\n",
       "      <th>449238</th>\n",
       "      <td>die russian tanks!!!!</td>\n",
       "      <td>ukraina</td>\n",
       "      <td>2022-03-07</td>\n",
       "      <td>comment</td>\n",
       "      <td>ru</td>\n",
       "      <td>0.560113</td>\n",
       "    </tr>\n",
       "    <tr>\n",
       "      <th>449264</th>\n",
       "      <td>\" вежливые люди\"</td>\n",
       "      <td>ukraina</td>\n",
       "      <td>2022-03-07</td>\n",
       "      <td>comment</td>\n",
       "      <td>ru</td>\n",
       "      <td>0.995561</td>\n",
       "    </tr>\n",
       "    <tr>\n",
       "      <th>450101</th>\n",
       "      <td>so do your part and you can text a random russ...</td>\n",
       "      <td>geopolitics</td>\n",
       "      <td>2022-03-07</td>\n",
       "      <td>comment</td>\n",
       "      <td>ru</td>\n",
       "      <td>0.813164</td>\n",
       "    </tr>\n",
       "  </tbody>\n",
       "</table>\n",
       "<p>1713 rows × 6 columns</p>\n",
       "</div>"
      ],
      "text/plain": [
       "                                                 document   sub_reddit  \\\n",
       "12                 песня посвящается боевым гусям украины      ukraina   \n",
       "18              кто что знает или слышал про эту контору?      ukraina   \n",
       "20      здравствуй редит, мне 12 лет я живу в украине,...      ukraina   \n",
       "33      #9: восток, центр, запад. хроники вторжения ро...      ukraina   \n",
       "45      #8: харьков. хроники вторжения россии в украин...      ukraina   \n",
       "...                                                   ...          ...   \n",
       "449235                               die russian soldiers      ukraina   \n",
       "449236                              die russian warships!      ukraina   \n",
       "449238                              die russian tanks!!!!      ukraina   \n",
       "449264                                   \" вежливые люди\"      ukraina   \n",
       "450101  so do your part and you can text a random russ...  geopolitics   \n",
       "\n",
       "              date        type language  confidence  \n",
       "12      2022-03-23  submission       ru    0.992579  \n",
       "18      2022-03-23  submission       ru    0.995329  \n",
       "20      2022-03-23  submission       ru    0.994000  \n",
       "33      2022-03-23  submission       ru    0.990433  \n",
       "45      2022-03-23  submission       ru    0.996689  \n",
       "...            ...         ...      ...         ...  \n",
       "449235  2022-03-07     comment       ru    0.665647  \n",
       "449236  2022-03-07     comment       ru    0.457248  \n",
       "449238  2022-03-07     comment       ru    0.560113  \n",
       "449264  2022-03-07     comment       ru    0.995561  \n",
       "450101  2022-03-07     comment       ru    0.813164  \n",
       "\n",
       "[1713 rows x 6 columns]"
      ]
     },
     "execution_count": 67,
     "metadata": {},
     "output_type": "execute_result"
    }
   ],
   "source": [
    "data"
   ]
  },
  {
   "cell_type": "markdown",
   "metadata": {},
   "source": [
    "### Checking if it works"
   ]
  },
  {
   "cell_type": "code",
   "execution_count": 68,
   "metadata": {},
   "outputs": [
    {
     "data": {
      "text/html": [
       "<div>\n",
       "<style scoped>\n",
       "    .dataframe tbody tr th:only-of-type {\n",
       "        vertical-align: middle;\n",
       "    }\n",
       "\n",
       "    .dataframe tbody tr th {\n",
       "        vertical-align: top;\n",
       "    }\n",
       "\n",
       "    .dataframe thead th {\n",
       "        text-align: right;\n",
       "    }\n",
       "</style>\n",
       "<table border=\"1\" class=\"dataframe\">\n",
       "  <thead>\n",
       "    <tr style=\"text-align: right;\">\n",
       "      <th></th>\n",
       "      <th>document</th>\n",
       "      <th>sub_reddit</th>\n",
       "      <th>date</th>\n",
       "      <th>type</th>\n",
       "      <th>language</th>\n",
       "      <th>confidence</th>\n",
       "    </tr>\n",
       "  </thead>\n",
       "  <tbody>\n",
       "  </tbody>\n",
       "</table>\n",
       "</div>"
      ],
      "text/plain": [
       "Empty DataFrame\n",
       "Columns: [document, sub_reddit, date, type, language, confidence]\n",
       "Index: []"
      ]
     },
     "execution_count": 68,
     "metadata": {},
     "output_type": "execute_result"
    }
   ],
   "source": [
    "pd.DataFrame.head(data)\n",
    "\n",
    "data[:10]\n",
    "data[9990:]"
   ]
  },
  {
   "cell_type": "code",
   "execution_count": 69,
   "metadata": {},
   "outputs": [
    {
     "name": "stdout",
     "output_type": "stream",
     "text": [
      "2022-03-07\n",
      "so do your part and you can text a random russian right here\n",
      "\n",
      "\n",
      "you can copy this text and send it to a random russian\n",
      "\n",
      "уважаемые россияне, ваши сми подвергаются цензуре. кремль лжет. тысячи ваших солдат и украинских братьев гибнут на украине. узнайте правду в свободном интернете и в приложении telegram. время свергнуть диктатора путина!\n",
      "\n",
      "which translates to:\n",
      "\n",
      "dear russians, your media is being censored. the kremlin is lying. thousands of your soldiers and ukrainian brothers are dying in ukraine. find out the truth on the free web and on the telegram app. time to overthrow dictator putin!\n"
     ]
    }
   ],
   "source": [
    "print(dates[-1])\n",
    "print(docs[-1])"
   ]
  },
  {
   "cell_type": "code",
   "execution_count": 70,
   "metadata": {},
   "outputs": [],
   "source": [
    "#If this outputs anything, there is a problem. Something that should be a string is not...\n",
    "for i in docs: \n",
    "    test = isinstance(i, str)\n",
    "    if test == False: \n",
    "        print (test)"
   ]
  },
  {
   "cell_type": "markdown",
   "metadata": {},
   "source": [
    "## Training embeddings"
   ]
  },
  {
   "cell_type": "code",
   "execution_count": 71,
   "metadata": {},
   "outputs": [],
   "source": [
    "import random\n",
    "random.seed(29)\n",
    "\n",
    "#Husk at installe sentence_transformers via terminalen\n",
    "from sentence_transformers import SentenceTransformer\n",
    "\n",
    "# Prepare embeddings\n",
    "sentence_model = SentenceTransformer(\"all-MiniLM-L6-v2\")\n",
    "embeddings = sentence_model.encode(docs, show_progress_bar=False)\n"
   ]
  },
  {
   "cell_type": "markdown",
   "metadata": {},
   "source": [
    "## Fitting the model"
   ]
  },
  {
   "cell_type": "code",
   "execution_count": 72,
   "metadata": {},
   "outputs": [],
   "source": [
    "#Kør kun hvis chunken nedenfor ikke virker\n",
    "from umap import UMAP\n",
    "umap_model = UMAP(n_components=5, n_neighbors=15, min_dist=0.0, metric='cosine', random_state = 29)"
   ]
  },
  {
   "cell_type": "code",
   "execution_count": 73,
   "metadata": {},
   "outputs": [],
   "source": [
    "#Skal virke for at få GPU'en til at køre hurtigere, men der er problemer med at loade cuml pakken\n",
    "\n",
    "#from cuml.manifold import UMAP\n",
    "#from cuml.cluster import HDBSCAN\n",
    "\n",
    "# Create instances of GPU-accelerated UMAP and HDBSCAN\n",
    "#umap_model = UMAP(n_components=5, n_neighbors=15, min_dist=0.0, metric='cosine', random_state = 29)\n",
    "#hdbscan_model = HDBSCAN(min_samples=10, gen_min_span_tree=True)"
   ]
  },
  {
   "cell_type": "code",
   "execution_count": 74,
   "metadata": {},
   "outputs": [
    {
     "name": "stderr",
     "output_type": "stream",
     "text": [
      "2022-12-16 12:52:17,615 - BERTopic - Reduced dimensionality\n",
      "2022-12-16 12:52:17,666 - BERTopic - Clustered reduced embeddings\n"
     ]
    }
   ],
   "source": [
    "\n",
    "\n",
    "from bertopic import BERTopic\n",
    "\n",
    "#Kør hvis GPU opsætning IKKE virker\n",
    "topic_model = BERTopic(language = \"multilingual\", verbose = True, calculate_probabilities = False, umap_model=umap_model)\n",
    "#Kør hvis GPU opsætning virker\n",
    "#topic_model = BERTopic(language = \"multilingual\", verbose = True, calculate_probabilities = False, umap_model=umap_model, hdbscan_model=hdbscan_model)\n",
    "\n",
    "\n",
    "topics, probs = topic_model.fit_transform(docs, embeddings)\n"
   ]
  },
  {
   "cell_type": "markdown",
   "metadata": {},
   "source": [
    "### Removing stopwords "
   ]
  },
  {
   "cell_type": "code",
   "execution_count": 75,
   "metadata": {},
   "outputs": [
    {
     "data": {
      "text/html": [
       "<div>\n",
       "<style scoped>\n",
       "    .dataframe tbody tr th:only-of-type {\n",
       "        vertical-align: middle;\n",
       "    }\n",
       "\n",
       "    .dataframe tbody tr th {\n",
       "        vertical-align: top;\n",
       "    }\n",
       "\n",
       "    .dataframe thead th {\n",
       "        text-align: right;\n",
       "    }\n",
       "</style>\n",
       "<table border=\"1\" class=\"dataframe\">\n",
       "  <thead>\n",
       "    <tr style=\"text-align: right;\">\n",
       "      <th></th>\n",
       "      <th>Topic</th>\n",
       "      <th>Count</th>\n",
       "      <th>Name</th>\n",
       "    </tr>\n",
       "  </thead>\n",
       "  <tbody>\n",
       "    <tr>\n",
       "      <th>0</th>\n",
       "      <td>-1</td>\n",
       "      <td>160</td>\n",
       "      <td>-1_it_the_not_of</td>\n",
       "    </tr>\n",
       "    <tr>\n",
       "      <th>1</th>\n",
       "      <td>0</td>\n",
       "      <td>1015</td>\n",
       "      <td>0_не_что_на_слава</td>\n",
       "    </tr>\n",
       "    <tr>\n",
       "      <th>2</th>\n",
       "      <td>1</td>\n",
       "      <td>180</td>\n",
       "      <td>1_площадь_не_что_на</td>\n",
       "    </tr>\n",
       "    <tr>\n",
       "      <th>3</th>\n",
       "      <td>2</td>\n",
       "      <td>82</td>\n",
       "      <td>2_it_not_that_lol</td>\n",
       "    </tr>\n",
       "    <tr>\n",
       "      <th>4</th>\n",
       "      <td>3</td>\n",
       "      <td>80</td>\n",
       "      <td>3_fuck_russia_putin_russian</td>\n",
       "    </tr>\n",
       "    <tr>\n",
       "      <th>5</th>\n",
       "      <td>4</td>\n",
       "      <td>32</td>\n",
       "      <td>4_he_she_hot_so</td>\n",
       "    </tr>\n",
       "    <tr>\n",
       "      <th>6</th>\n",
       "      <td>5</td>\n",
       "      <td>29</td>\n",
       "      <td>5_stabbot_twitter_stabbot_crop_dustin1776</td>\n",
       "    </tr>\n",
       "    <tr>\n",
       "      <th>7</th>\n",
       "      <td>6</td>\n",
       "      <td>26</td>\n",
       "      <td>6_missile_peaceful_russian_thermobaric</td>\n",
       "    </tr>\n",
       "    <tr>\n",
       "      <th>8</th>\n",
       "      <td>7</td>\n",
       "      <td>24</td>\n",
       "      <td>7_is_the_media_tweet</td>\n",
       "    </tr>\n",
       "    <tr>\n",
       "      <th>9</th>\n",
       "      <td>8</td>\n",
       "      <td>20</td>\n",
       "      <td>8_the_of_russian_9861</td>\n",
       "    </tr>\n",
       "    <tr>\n",
       "      <th>10</th>\n",
       "      <td>9</td>\n",
       "      <td>20</td>\n",
       "      <td>9_russianwarcrimes_russiadenies_russiancircus_war</td>\n",
       "    </tr>\n",
       "  </tbody>\n",
       "</table>\n",
       "</div>"
      ],
      "text/plain": [
       "    Topic  Count                                               Name\n",
       "0      -1    160                                   -1_it_the_not_of\n",
       "1       0   1015                                  0_не_что_на_слава\n",
       "2       1    180                                1_площадь_не_что_на\n",
       "3       2     82                                  2_it_not_that_lol\n",
       "4       3     80                        3_fuck_russia_putin_russian\n",
       "5       4     32                                    4_he_she_hot_so\n",
       "6       5     29          5_stabbot_twitter_stabbot_crop_dustin1776\n",
       "7       6     26             6_missile_peaceful_russian_thermobaric\n",
       "8       7     24                               7_is_the_media_tweet\n",
       "9       8     20                              8_the_of_russian_9861\n",
       "10      9     20  9_russianwarcrimes_russiadenies_russiancircus_war"
      ]
     },
     "execution_count": 75,
     "metadata": {},
     "output_type": "execute_result"
    }
   ],
   "source": [
    "topic_model.get_topic_info()[0:11]"
   ]
  },
  {
   "cell_type": "code",
   "execution_count": 76,
   "metadata": {},
   "outputs": [],
   "source": [
    "from sklearn.feature_extraction.text import CountVectorizer\n",
    "\n",
    "vectorizer_model = CountVectorizer(ngram_range=(1, 3), stop_words=\"english\")\n",
    "#vectorizer_model = CountVectorizer(stop_words=\"english\")\n",
    "\n",
    "topic_model.update_topics(docs, vectorizer_model=vectorizer_model)"
   ]
  },
  {
   "cell_type": "markdown",
   "metadata": {},
   "source": [
    "### Investigating the model"
   ]
  },
  {
   "cell_type": "code",
   "execution_count": 77,
   "metadata": {},
   "outputs": [
    {
     "data": {
      "text/html": [
       "<div>\n",
       "<style scoped>\n",
       "    .dataframe tbody tr th:only-of-type {\n",
       "        vertical-align: middle;\n",
       "    }\n",
       "\n",
       "    .dataframe tbody tr th {\n",
       "        vertical-align: top;\n",
       "    }\n",
       "\n",
       "    .dataframe thead th {\n",
       "        text-align: right;\n",
       "    }\n",
       "</style>\n",
       "<table border=\"1\" class=\"dataframe\">\n",
       "  <thead>\n",
       "    <tr style=\"text-align: right;\">\n",
       "      <th></th>\n",
       "      <th>Topic</th>\n",
       "      <th>Count</th>\n",
       "      <th>Name</th>\n",
       "    </tr>\n",
       "  </thead>\n",
       "  <tbody>\n",
       "    <tr>\n",
       "      <th>0</th>\n",
       "      <td>-1</td>\n",
       "      <td>160</td>\n",
       "      <td>-1_don_hell_russian_context</td>\n",
       "    </tr>\n",
       "    <tr>\n",
       "      <th>1</th>\n",
       "      <td>0</td>\n",
       "      <td>1015</td>\n",
       "      <td>0_не_что_на_это</td>\n",
       "    </tr>\n",
       "    <tr>\n",
       "      <th>2</th>\n",
       "      <td>1</td>\n",
       "      <td>180</td>\n",
       "      <td>1_площадь_не_что_на</td>\n",
       "    </tr>\n",
       "    <tr>\n",
       "      <th>3</th>\n",
       "      <td>2</td>\n",
       "      <td>82</td>\n",
       "      <td>2_lol_don_good_news</td>\n",
       "    </tr>\n",
       "    <tr>\n",
       "      <th>4</th>\n",
       "      <td>3</td>\n",
       "      <td>80</td>\n",
       "      <td>3_fuck_russia_putin_fuck russia</td>\n",
       "    </tr>\n",
       "    <tr>\n",
       "      <th>5</th>\n",
       "      <td>4</td>\n",
       "      <td>32</td>\n",
       "      <td>4_hot_hot babe_babe_smiling</td>\n",
       "    </tr>\n",
       "    <tr>\n",
       "      <th>6</th>\n",
       "      <td>5</td>\n",
       "      <td>29</td>\n",
       "      <td>5_stabbot_stabbot stabbot_stabbot stabbot stab...</td>\n",
       "    </tr>\n",
       "    <tr>\n",
       "      <th>7</th>\n",
       "      <td>6</td>\n",
       "      <td>26</td>\n",
       "      <td>6_missile_russian_peaceful_kyiv podil</td>\n",
       "    </tr>\n",
       "    <tr>\n",
       "      <th>8</th>\n",
       "      <td>7</td>\n",
       "      <td>24</td>\n",
       "      <td>7_media_tweet_russian_soldier</td>\n",
       "    </tr>\n",
       "    <tr>\n",
       "      <th>9</th>\n",
       "      <td>8</td>\n",
       "      <td>20</td>\n",
       "      <td>8_russian_9861_рф_federation</td>\n",
       "    </tr>\n",
       "    <tr>\n",
       "      <th>10</th>\n",
       "      <td>9</td>\n",
       "      <td>20</td>\n",
       "      <td>9_russianwarcrimes_russianwarcrimes russianwar...</td>\n",
       "    </tr>\n",
       "  </tbody>\n",
       "</table>\n",
       "</div>"
      ],
      "text/plain": [
       "    Topic  Count                                               Name\n",
       "0      -1    160                        -1_don_hell_russian_context\n",
       "1       0   1015                                    0_не_что_на_это\n",
       "2       1    180                                1_площадь_не_что_на\n",
       "3       2     82                                2_lol_don_good_news\n",
       "4       3     80                    3_fuck_russia_putin_fuck russia\n",
       "5       4     32                        4_hot_hot babe_babe_smiling\n",
       "6       5     29  5_stabbot_stabbot stabbot_stabbot stabbot stab...\n",
       "7       6     26              6_missile_russian_peaceful_kyiv podil\n",
       "8       7     24                      7_media_tweet_russian_soldier\n",
       "9       8     20                       8_russian_9861_рф_federation\n",
       "10      9     20  9_russianwarcrimes_russianwarcrimes russianwar..."
      ]
     },
     "execution_count": 77,
     "metadata": {},
     "output_type": "execute_result"
    }
   ],
   "source": [
    "topic_model.get_topic_info()[0:11]"
   ]
  },
  {
   "cell_type": "markdown",
   "metadata": {},
   "source": [
    "### Saving and loading models"
   ]
  },
  {
   "cell_type": "code",
   "execution_count": 78,
   "metadata": {},
   "outputs": [],
   "source": [
    "#topic_model.save(\"models/model_medium\")"
   ]
  },
  {
   "cell_type": "code",
   "execution_count": 79,
   "metadata": {},
   "outputs": [],
   "source": [
    "#from bertopic import BERTopic\n",
    "\n",
    "#topic_model = BERTopic.load(\"models/model_medium\")"
   ]
  },
  {
   "cell_type": "markdown",
   "metadata": {},
   "source": [
    "## Visualizations"
   ]
  },
  {
   "cell_type": "code",
   "execution_count": 80,
   "metadata": {},
   "outputs": [],
   "source": [
    "#Tager lang tid at køre, når vi har så mange små topics\n",
    "#topic_model.visualize_topics()"
   ]
  },
  {
   "cell_type": "markdown",
   "metadata": {},
   "source": [
    "### Topics over time"
   ]
  },
  {
   "cell_type": "markdown",
   "metadata": {},
   "source": [
    "### Function for visualizing topics over time"
   ]
  },
  {
   "cell_type": "code",
   "execution_count": 81,
   "metadata": {},
   "outputs": [],
   "source": [
    "import pandas as pd\n",
    "from typing import List\n",
    "import plotly.graph_objects as go\n",
    "from sklearn.preprocessing import normalize\n",
    "\n",
    "\n",
    "def visualize_topics_over_time(topic_model,\n",
    "                               topics_over_time: pd.DataFrame,\n",
    "                               top_n_topics: int = None,\n",
    "                               topics: List[int] = None,\n",
    "                               normalize_frequency: bool = False,\n",
    "                               custom_labels: bool = False,\n",
    "                               width: int = 1250,\n",
    "                               height: int = 450) -> go.Figure:\n",
    "    \"\"\" Visualize topics over time\n",
    "    Arguments:\n",
    "        topic_model: A fitted BERTopic instance.\n",
    "        topics_over_time: The topics you would like to be visualized with the\n",
    "                          corresponding topic representation\n",
    "        top_n_topics: To visualize the most frequent topics instead of all\n",
    "        topics: Select which topics you would like to be visualized\n",
    "        normalize_frequency: Whether to normalize each topic's frequency individually\n",
    "        custom_labels: Whether to use custom topic labels that were defined using \n",
    "                       `topic_model.set_topic_labels`.\n",
    "        width: The width of the figure.\n",
    "        height: The height of the figure.\n",
    "    Returns:\n",
    "        A plotly.graph_objects.Figure including all traces\n",
    "    Examples:\n",
    "    To visualize the topics over time, simply run:\n",
    "    ```python\n",
    "    topics_over_time = topic_model.topics_over_time(docs, timestamps)\n",
    "    topic_model.visualize_topics_over_time(topics_over_time)\n",
    "    ```\n",
    "    Or if you want to save the resulting figure:\n",
    "    ```python\n",
    "    fig = topic_model.visualize_topics_over_time(topics_over_time)\n",
    "    fig.write_html(\"path/to/file.html\")\n",
    "    ```\n",
    "    <iframe src=\"../../getting_started/visualization/trump.html\"\n",
    "    style=\"width:1000px; height: 680px; border: 0px;\"\"></iframe>\n",
    "    \"\"\"\n",
    "    colors = ['#e6194b', '#3cb44b', '#ffe119', '#4363d8', '#f58231', '#911eb4', '#46f0f0', '#f032e6', '#bcf60c', '#fabebe', '#008080', '#e6beff', '#9a6324', '#fffac8', '#800000', '#aaffc3', '#808000', '#ffd8b1', '#000075', '#808080', '#ffffff', '#000000']\n",
    "\n",
    "    # Select topics based on top_n and topics args\n",
    "    freq_df = topic_model.get_topic_freq()\n",
    "    freq_df = freq_df.loc[freq_df.Topic != -1, :]\n",
    "    if topics is not None:\n",
    "        selected_topics = list(topics)\n",
    "    elif top_n_topics is not None:\n",
    "        selected_topics = sorted(freq_df.Topic.to_list()[:top_n_topics])\n",
    "    else:\n",
    "        selected_topics = sorted(freq_df.Topic.to_list())\n",
    "\n",
    "    # Prepare data\n",
    "    if topic_model.custom_labels_ is not None and custom_labels:\n",
    "        topic_names = {key: topic_model.custom_labels_[key + topic_model._outliers] for key, _ in topic_model.topic_labels_.items()}\n",
    "    else:\n",
    "        topic_names = {key: value[:40] + \"...\" if len(value) > 40 else value\n",
    "                       for key, value in topic_model.topic_labels_.items()}\n",
    "    topics_over_time[\"Name\"] = topics_over_time.Topic.map(topic_names)\n",
    "    data = topics_over_time.loc[topics_over_time.Topic.isin(selected_topics), :].sort_values([\"Topic\", \"Timestamp\"])\n",
    "\n",
    "    # Add traces\n",
    "    fig = go.Figure()\n",
    "    for index, topic in enumerate(data.Topic.unique()):\n",
    "        trace_data = data.loc[data.Topic == topic, :]\n",
    "        topic_name = trace_data.Name.values[0]\n",
    "        words = trace_data.Words.values\n",
    "        if normalize_frequency:\n",
    "            y = normalize(trace_data.Frequency.values.reshape(1, -1))[0]\n",
    "        else:\n",
    "            y = trace_data.Frequency\n",
    "        fig.add_trace(go.Scatter(x=trace_data.Timestamp, y=y,\n",
    "                                 mode='lines',\n",
    "                                 marker_color=colors[index % 20],\n",
    "                                 hoverinfo=\"text\",\n",
    "                                 name=topic_name,\n",
    "                                 hovertext=[f'<b>Topic {topic}</b><br>Words: {word}' for word in words]))\n",
    "\n",
    "    # Styling of the visualization\n",
    "    fig.update_xaxes(showgrid=True)\n",
    "    fig.update_yaxes(showgrid=True)\n",
    "    fig.update_layout(\n",
    "        yaxis_title=\"Normalized Frequency\" if normalize_frequency else \"Frequency\",\n",
    "        title={\n",
    "            'text': \"<b>Topics over Time\",\n",
    "            'y': .95,\n",
    "            'x': 0.40,\n",
    "            'xanchor': 'center',\n",
    "            'yanchor': 'top',\n",
    "            'font': dict(\n",
    "                size=22,\n",
    "                color=\"Black\")\n",
    "        },\n",
    "        template=\"simple_white\",\n",
    "        width=width,\n",
    "        height=height,\n",
    "        hoverlabel=dict(\n",
    "            bgcolor=\"white\",\n",
    "            font_size=16,\n",
    "            font_family=\"Rockwell\"\n",
    "        ),\n",
    "        legend=dict(\n",
    "            title=\"<b>Global Topic Representation\",\n",
    "        )\n",
    "    )\n",
    "    return fig"
   ]
  },
  {
   "cell_type": "code",
   "execution_count": 82,
   "metadata": {},
   "outputs": [
    {
     "name": "stderr",
     "output_type": "stream",
     "text": [
      "5it [00:00,  6.76it/s]\n"
     ]
    },
    {
     "data": {
      "application/vnd.plotly.v1+json": {
       "config": {
        "plotlyServerURL": "https://plot.ly"
       },
       "data": [
        {
         "hoverinfo": "text",
         "hovertext": [
          "<b>Topic 0</b><br>Words: не, на, что, зря, слава",
          "<b>Topic 0</b><br>Words: не, что, на, это, слава",
          "<b>Topic 0</b><br>Words: не, что, на, слава, это",
          "<b>Topic 0</b><br>Words: не, что, на, слава, это",
          "<b>Topic 0</b><br>Words: не, на, это, что, слава"
         ],
         "marker": {
          "color": "#e6194b"
         },
         "mode": "lines",
         "name": "0_не_что_на_это",
         "type": "scatter",
         "x": [
          "2022-03-06T23:31:12",
          "2022-03-08T00:00:00",
          "2022-03-20T00:00:00",
          "2022-03-22T00:00:00",
          "2022-03-26T00:00:00"
         ],
         "y": [
          65,
          279,
          212,
          237,
          222
         ]
        },
        {
         "hoverinfo": "text",
         "hovertext": [
          "<b>Topic 1</b><br>Words: gt, gt gt, это, gt gt gt, не",
          "<b>Topic 1</b><br>Words: площадь, не, что, на, россии",
          "<b>Topic 1</b><br>Words: не, на, что, по, это",
          "<b>Topic 1</b><br>Words: gt, 00, не, blyad, на",
          "<b>Topic 1</b><br>Words: не, что, на, это, по"
         ],
         "marker": {
          "color": "#3cb44b"
         },
         "mode": "lines",
         "name": "1_площадь_не_что_на",
         "type": "scatter",
         "x": [
          "2022-03-06T23:31:12",
          "2022-03-08T00:00:00",
          "2022-03-20T00:00:00",
          "2022-03-22T00:00:00",
          "2022-03-26T00:00:00"
         ],
         "y": [
          6,
          65,
          36,
          24,
          49
         ]
        },
        {
         "hoverinfo": "text",
         "hovertext": [
          "<b>Topic 2</b><br>Words: don, lol, hoping, ll, link",
          "<b>Topic 2</b><br>Words: lol, bro, read, man, good",
          "<b>Topic 2</b><br>Words: good, cool, long, lol, won",
          "<b>Topic 2</b><br>Words: just, lol, news, oh, good"
         ],
         "marker": {
          "color": "#ffe119"
         },
         "mode": "lines",
         "name": "2_lol_don_good_news",
         "type": "scatter",
         "x": [
          "2022-03-08T00:00:00",
          "2022-03-20T00:00:00",
          "2022-03-22T00:00:00",
          "2022-03-26T00:00:00"
         ],
         "y": [
          26,
          18,
          16,
          22
         ]
        },
        {
         "hoverinfo": "text",
         "hovertext": [
          "<b>Topic 3</b><br>Words: die russian, die, russian, die russian soldiers, russian warships die",
          "<b>Topic 3</b><br>Words: fuck, russia, putin, russian, fuck russia",
          "<b>Topic 3</b><br>Words: russia, fuck, russian, soldiers russian gen, gen helmets fake",
          "<b>Topic 3</b><br>Words: fuck, russia, fuck russia, fuck russia fuck, russia fuck",
          "<b>Topic 3</b><br>Words: russia, love, love russia, putin, russia love"
         ],
         "marker": {
          "color": "#4363d8"
         },
         "mode": "lines",
         "name": "3_fuck_russia_putin_fuck russia",
         "type": "scatter",
         "x": [
          "2022-03-06T23:31:12",
          "2022-03-08T00:00:00",
          "2022-03-20T00:00:00",
          "2022-03-22T00:00:00",
          "2022-03-26T00:00:00"
         ],
         "y": [
          4,
          20,
          21,
          13,
          22
         ]
        },
        {
         "hoverinfo": "text",
         "hovertext": [
          "<b>Topic 4</b><br>Words: man timid, spinner slimy, tucker, warm, slimy",
          "<b>Topic 4</b><br>Words: guy thank, gone, guy, thank, hot",
          "<b>Topic 4</b><br>Words: hot, got tiny arms, guys transracial, relax guys transracial, beautiful",
          "<b>Topic 4</b><br>Words: babe, smiling, hot babe, hot, little"
         ],
         "marker": {
          "color": "#f58231"
         },
         "mode": "lines",
         "name": "4_hot_hot babe_babe_smiling",
         "type": "scatter",
         "x": [
          "2022-03-08T00:00:00",
          "2022-03-20T00:00:00",
          "2022-03-22T00:00:00",
          "2022-03-26T00:00:00"
         ],
         "y": [
          12,
          2,
          10,
          8
         ]
        },
        {
         "hoverinfo": "text",
         "hovertext": [
          "<b>Topic 5</b><br>Words: stabbot, stabbot stabbot, stabbot stabbot stabbot, stabbot alles_luge_28 stabbot, twitter link",
          "<b>Topic 5</b><br>Words: stabbot, stabbot stabbot, stabbot stabbot bigdickputin, stabbot bigdickputin, stabbot bigdickputin stabbot",
          "<b>Topic 5</b><br>Words: stabbot, stabbot stabbot, stabbot stabbot stabbot, stabbot auddbot, stabbot auddbot stabbot",
          "<b>Topic 5</b><br>Words: stabbot, stabbot stabbot, stabbot stabbot stabbot, link stabbot, twitter link stabbot"
         ],
         "marker": {
          "color": "#911eb4"
         },
         "mode": "lines",
         "name": "5_stabbot_stabbot stabbot_stabbot stabbo...",
         "type": "scatter",
         "x": [
          "2022-03-08T00:00:00",
          "2022-03-20T00:00:00",
          "2022-03-22T00:00:00",
          "2022-03-26T00:00:00"
         ],
         "y": [
          8,
          5,
          14,
          2
         ]
        },
        {
         "hoverinfo": "text",
         "hovertext": [
          "<b>Topic 6</b><br>Words: 1914, city kharkiv russian, ackchyually, ackchyually 1914 map, ackchyually 1914",
          "<b>Topic 6</b><br>Words: peaceful, russian, missile, kyi, hitting shopping",
          "<b>Topic 6</b><br>Words: missile, threatens, threatens poland missile, air target donbass, russia tv threatens"
         ],
         "marker": {
          "color": "#46f0f0"
         },
         "mode": "lines",
         "name": "6_missile_russian_peaceful_kyiv podil",
         "type": "scatter",
         "x": [
          "2022-03-08T00:00:00",
          "2022-03-20T00:00:00",
          "2022-03-22T00:00:00"
         ],
         "y": [
          2,
          15,
          9
         ]
        },
        {
         "hoverinfo": "text",
         "hovertext": [
          "<b>Topic 7</b><br>Words: random, random russian, text, telegram, media",
          "<b>Topic 7</b><br>Words: people, coat arms, coat, arms, ukraine",
          "<b>Topic 7</b><br>Words: tweet, media, missing, ___, war",
          "<b>Topic 7</b><br>Words: soldier, intercepted, leaks, russian military chaos, leaks russian military",
          "<b>Topic 7</b><br>Words: people, ярость благородная вскипает, committed, так знаю, soviets union"
         ],
         "marker": {
          "color": "#f032e6"
         },
         "mode": "lines",
         "name": "7_media_tweet_russian_soldier",
         "type": "scatter",
         "x": [
          "2022-03-06T23:31:12",
          "2022-03-08T00:00:00",
          "2022-03-20T00:00:00",
          "2022-03-22T00:00:00",
          "2022-03-26T00:00:00"
         ],
         "y": [
          2,
          7,
          5,
          7,
          3
         ]
        },
        {
         "hoverinfo": "text",
         "hovertext": [
          "<b>Topic 8</b><br>Words: crew, tactical, russian, 9861, usually",
          "<b>Topic 8</b><br>Words: russian, 9861, рф, federation, russian federation",
          "<b>Topic 8</b><br>Words: russian, pows, russian soldier, shot, soldiers"
         ],
         "marker": {
          "color": "#bcf60c"
         },
         "mode": "lines",
         "name": "8_russian_9861_рф_federation",
         "type": "scatter",
         "x": [
          "2022-03-08T00:00:00",
          "2022-03-20T00:00:00",
          "2022-03-26T00:00:00"
         ],
         "y": [
          2,
          15,
          3
         ]
        },
        {
         "hoverinfo": "text",
         "hovertext": [
          "<b>Topic 9</b><br>Words: russianwarcrimes, russianwarcrimes russianwarcrimes, russianwarcrimes russianwarcrimes russianwarcrimes, russiadenies, russiadenies russianwarcrimes",
          "<b>Topic 9</b><br>Words: russianwarcrimes, russianwarcrimes russianwarcrimes, russianwarcrimes russianwarcrimes russianwarcrimes, russianwarcrimes russiacantmeme, russiacantmeme",
          "<b>Topic 9</b><br>Words: russianwarcrimes, russianwarcrimes russianwarcrimes, russianwarcrimes russianwarcrimes russianwarcrimes, russiancircus, war",
          "<b>Topic 9</b><br>Words: russiadenies, russiancircus, russianwarcrimes, russianwarcrimes russianwarcrimes, russianwarcrimes russianwarcrimes russianwarcrimes"
         ],
         "marker": {
          "color": "#fabebe"
         },
         "mode": "lines",
         "name": "9_russianwarcrimes_russianwarcrimes russ...",
         "type": "scatter",
         "x": [
          "2022-03-08T00:00:00",
          "2022-03-20T00:00:00",
          "2022-03-22T00:00:00",
          "2022-03-26T00:00:00"
         ],
         "y": [
          6,
          8,
          3,
          3
         ]
        },
        {
         "hoverinfo": "text",
         "hovertext": [
          "<b>Topic 10</b><br>Words: russian artilery destroys, russian artilery, destroys people houses, people houses, houses",
          "<b>Topic 10</b><br>Words: video shows russian, russian destroyed vehicles, russian destroyed, shows russian, shows russian destroyed",
          "<b>Topic 10</b><br>Words: destroyed, footage, destroyed ukrainian, russian, vehicle",
          "<b>Topic 10</b><br>Words: ukraine asymmetric war, ukraine asymmetric, asymmetric war, footage exactly, asymmetric"
         ],
         "marker": {
          "color": "#008080"
         },
         "mode": "lines",
         "name": "10_destroyed_russian_footage_ukrainian",
         "type": "scatter",
         "x": [
          "2022-03-08T00:00:00",
          "2022-03-20T00:00:00",
          "2022-03-22T00:00:00",
          "2022-03-26T00:00:00"
         ],
         "y": [
          6,
          1,
          9,
          2
         ]
        },
        {
         "hoverinfo": "text",
         "hovertext": [
          "<b>Topic 11</b><br>Words: war, boo, special, operation, war special",
          "<b>Topic 11</b><br>Words: war, freedom, saying right, war saying, right war",
          "<b>Topic 11</b><br>Words: oh paul warwilf, paul, warwilf, paul warwilf, oh paul",
          "<b>Topic 11</b><br>Words: war, war special, war special military, territory war hell, territory war"
         ],
         "marker": {
          "color": "#e6beff"
         },
         "mode": "lines",
         "name": "11_war_special_operation_war special",
         "type": "scatter",
         "x": [
          "2022-03-08T00:00:00",
          "2022-03-20T00:00:00",
          "2022-03-22T00:00:00",
          "2022-03-26T00:00:00"
         ],
         "y": [
          5,
          3,
          2,
          5
         ]
        },
        {
         "hoverinfo": "text",
         "hovertext": [
          "<b>Topic 12</b><br>Words: так красиво, красиво, так, emoji, ノಠ益ಠ четвертыйreicht emoji",
          "<b>Topic 12</b><br>Words: host, putler, emoji, ノಠ益ಠ четвертыйreicht emoji, putler host",
          "<b>Topic 12</b><br>Words: homophone ノಠ益ಠ, homophone, ノಠ益ಠ четвертыйreicht, zis, homophone ノಠ益ಠ четвертыйreicht",
          "<b>Topic 12</b><br>Words: thumbs emoji, thumbs, emoji, ノಠ益ಠ четвертыйreicht emoji, putler",
          "<b>Topic 12</b><br>Words: emoji, ノಠ益ಠ четвертыйreicht emoji, putler host, emoji putler, emoji putler host"
         ],
         "marker": {
          "color": "#9a6324"
         },
         "mode": "lines",
         "name": "12_emoji_emoji neo_четвертыйreicht emoji...",
         "type": "scatter",
         "x": [
          "2022-03-06T23:31:12",
          "2022-03-08T00:00:00",
          "2022-03-20T00:00:00",
          "2022-03-22T00:00:00",
          "2022-03-26T00:00:00"
         ],
         "y": [
          1,
          4,
          4,
          2,
          1
         ]
        }
       ],
       "layout": {
        "height": 450,
        "hoverlabel": {
         "bgcolor": "white",
         "font": {
          "family": "Rockwell",
          "size": 16
         }
        },
        "legend": {
         "title": {
          "text": "<b>Global Topic Representation"
         }
        },
        "template": {
         "data": {
          "bar": [
           {
            "error_x": {
             "color": "rgb(36,36,36)"
            },
            "error_y": {
             "color": "rgb(36,36,36)"
            },
            "marker": {
             "line": {
              "color": "white",
              "width": 0.5
             },
             "pattern": {
              "fillmode": "overlay",
              "size": 10,
              "solidity": 0.2
             }
            },
            "type": "bar"
           }
          ],
          "barpolar": [
           {
            "marker": {
             "line": {
              "color": "white",
              "width": 0.5
             },
             "pattern": {
              "fillmode": "overlay",
              "size": 10,
              "solidity": 0.2
             }
            },
            "type": "barpolar"
           }
          ],
          "carpet": [
           {
            "aaxis": {
             "endlinecolor": "rgb(36,36,36)",
             "gridcolor": "white",
             "linecolor": "white",
             "minorgridcolor": "white",
             "startlinecolor": "rgb(36,36,36)"
            },
            "baxis": {
             "endlinecolor": "rgb(36,36,36)",
             "gridcolor": "white",
             "linecolor": "white",
             "minorgridcolor": "white",
             "startlinecolor": "rgb(36,36,36)"
            },
            "type": "carpet"
           }
          ],
          "choropleth": [
           {
            "colorbar": {
             "outlinewidth": 1,
             "tickcolor": "rgb(36,36,36)",
             "ticks": "outside"
            },
            "type": "choropleth"
           }
          ],
          "contour": [
           {
            "colorbar": {
             "outlinewidth": 1,
             "tickcolor": "rgb(36,36,36)",
             "ticks": "outside"
            },
            "colorscale": [
             [
              0,
              "#440154"
             ],
             [
              0.1111111111111111,
              "#482878"
             ],
             [
              0.2222222222222222,
              "#3e4989"
             ],
             [
              0.3333333333333333,
              "#31688e"
             ],
             [
              0.4444444444444444,
              "#26828e"
             ],
             [
              0.5555555555555556,
              "#1f9e89"
             ],
             [
              0.6666666666666666,
              "#35b779"
             ],
             [
              0.7777777777777778,
              "#6ece58"
             ],
             [
              0.8888888888888888,
              "#b5de2b"
             ],
             [
              1,
              "#fde725"
             ]
            ],
            "type": "contour"
           }
          ],
          "contourcarpet": [
           {
            "colorbar": {
             "outlinewidth": 1,
             "tickcolor": "rgb(36,36,36)",
             "ticks": "outside"
            },
            "type": "contourcarpet"
           }
          ],
          "heatmap": [
           {
            "colorbar": {
             "outlinewidth": 1,
             "tickcolor": "rgb(36,36,36)",
             "ticks": "outside"
            },
            "colorscale": [
             [
              0,
              "#440154"
             ],
             [
              0.1111111111111111,
              "#482878"
             ],
             [
              0.2222222222222222,
              "#3e4989"
             ],
             [
              0.3333333333333333,
              "#31688e"
             ],
             [
              0.4444444444444444,
              "#26828e"
             ],
             [
              0.5555555555555556,
              "#1f9e89"
             ],
             [
              0.6666666666666666,
              "#35b779"
             ],
             [
              0.7777777777777778,
              "#6ece58"
             ],
             [
              0.8888888888888888,
              "#b5de2b"
             ],
             [
              1,
              "#fde725"
             ]
            ],
            "type": "heatmap"
           }
          ],
          "heatmapgl": [
           {
            "colorbar": {
             "outlinewidth": 1,
             "tickcolor": "rgb(36,36,36)",
             "ticks": "outside"
            },
            "colorscale": [
             [
              0,
              "#440154"
             ],
             [
              0.1111111111111111,
              "#482878"
             ],
             [
              0.2222222222222222,
              "#3e4989"
             ],
             [
              0.3333333333333333,
              "#31688e"
             ],
             [
              0.4444444444444444,
              "#26828e"
             ],
             [
              0.5555555555555556,
              "#1f9e89"
             ],
             [
              0.6666666666666666,
              "#35b779"
             ],
             [
              0.7777777777777778,
              "#6ece58"
             ],
             [
              0.8888888888888888,
              "#b5de2b"
             ],
             [
              1,
              "#fde725"
             ]
            ],
            "type": "heatmapgl"
           }
          ],
          "histogram": [
           {
            "marker": {
             "line": {
              "color": "white",
              "width": 0.6
             }
            },
            "type": "histogram"
           }
          ],
          "histogram2d": [
           {
            "colorbar": {
             "outlinewidth": 1,
             "tickcolor": "rgb(36,36,36)",
             "ticks": "outside"
            },
            "colorscale": [
             [
              0,
              "#440154"
             ],
             [
              0.1111111111111111,
              "#482878"
             ],
             [
              0.2222222222222222,
              "#3e4989"
             ],
             [
              0.3333333333333333,
              "#31688e"
             ],
             [
              0.4444444444444444,
              "#26828e"
             ],
             [
              0.5555555555555556,
              "#1f9e89"
             ],
             [
              0.6666666666666666,
              "#35b779"
             ],
             [
              0.7777777777777778,
              "#6ece58"
             ],
             [
              0.8888888888888888,
              "#b5de2b"
             ],
             [
              1,
              "#fde725"
             ]
            ],
            "type": "histogram2d"
           }
          ],
          "histogram2dcontour": [
           {
            "colorbar": {
             "outlinewidth": 1,
             "tickcolor": "rgb(36,36,36)",
             "ticks": "outside"
            },
            "colorscale": [
             [
              0,
              "#440154"
             ],
             [
              0.1111111111111111,
              "#482878"
             ],
             [
              0.2222222222222222,
              "#3e4989"
             ],
             [
              0.3333333333333333,
              "#31688e"
             ],
             [
              0.4444444444444444,
              "#26828e"
             ],
             [
              0.5555555555555556,
              "#1f9e89"
             ],
             [
              0.6666666666666666,
              "#35b779"
             ],
             [
              0.7777777777777778,
              "#6ece58"
             ],
             [
              0.8888888888888888,
              "#b5de2b"
             ],
             [
              1,
              "#fde725"
             ]
            ],
            "type": "histogram2dcontour"
           }
          ],
          "mesh3d": [
           {
            "colorbar": {
             "outlinewidth": 1,
             "tickcolor": "rgb(36,36,36)",
             "ticks": "outside"
            },
            "type": "mesh3d"
           }
          ],
          "parcoords": [
           {
            "line": {
             "colorbar": {
              "outlinewidth": 1,
              "tickcolor": "rgb(36,36,36)",
              "ticks": "outside"
             }
            },
            "type": "parcoords"
           }
          ],
          "pie": [
           {
            "automargin": true,
            "type": "pie"
           }
          ],
          "scatter": [
           {
            "fillpattern": {
             "fillmode": "overlay",
             "size": 10,
             "solidity": 0.2
            },
            "type": "scatter"
           }
          ],
          "scatter3d": [
           {
            "line": {
             "colorbar": {
              "outlinewidth": 1,
              "tickcolor": "rgb(36,36,36)",
              "ticks": "outside"
             }
            },
            "marker": {
             "colorbar": {
              "outlinewidth": 1,
              "tickcolor": "rgb(36,36,36)",
              "ticks": "outside"
             }
            },
            "type": "scatter3d"
           }
          ],
          "scattercarpet": [
           {
            "marker": {
             "colorbar": {
              "outlinewidth": 1,
              "tickcolor": "rgb(36,36,36)",
              "ticks": "outside"
             }
            },
            "type": "scattercarpet"
           }
          ],
          "scattergeo": [
           {
            "marker": {
             "colorbar": {
              "outlinewidth": 1,
              "tickcolor": "rgb(36,36,36)",
              "ticks": "outside"
             }
            },
            "type": "scattergeo"
           }
          ],
          "scattergl": [
           {
            "marker": {
             "colorbar": {
              "outlinewidth": 1,
              "tickcolor": "rgb(36,36,36)",
              "ticks": "outside"
             }
            },
            "type": "scattergl"
           }
          ],
          "scattermapbox": [
           {
            "marker": {
             "colorbar": {
              "outlinewidth": 1,
              "tickcolor": "rgb(36,36,36)",
              "ticks": "outside"
             }
            },
            "type": "scattermapbox"
           }
          ],
          "scatterpolar": [
           {
            "marker": {
             "colorbar": {
              "outlinewidth": 1,
              "tickcolor": "rgb(36,36,36)",
              "ticks": "outside"
             }
            },
            "type": "scatterpolar"
           }
          ],
          "scatterpolargl": [
           {
            "marker": {
             "colorbar": {
              "outlinewidth": 1,
              "tickcolor": "rgb(36,36,36)",
              "ticks": "outside"
             }
            },
            "type": "scatterpolargl"
           }
          ],
          "scatterternary": [
           {
            "marker": {
             "colorbar": {
              "outlinewidth": 1,
              "tickcolor": "rgb(36,36,36)",
              "ticks": "outside"
             }
            },
            "type": "scatterternary"
           }
          ],
          "surface": [
           {
            "colorbar": {
             "outlinewidth": 1,
             "tickcolor": "rgb(36,36,36)",
             "ticks": "outside"
            },
            "colorscale": [
             [
              0,
              "#440154"
             ],
             [
              0.1111111111111111,
              "#482878"
             ],
             [
              0.2222222222222222,
              "#3e4989"
             ],
             [
              0.3333333333333333,
              "#31688e"
             ],
             [
              0.4444444444444444,
              "#26828e"
             ],
             [
              0.5555555555555556,
              "#1f9e89"
             ],
             [
              0.6666666666666666,
              "#35b779"
             ],
             [
              0.7777777777777778,
              "#6ece58"
             ],
             [
              0.8888888888888888,
              "#b5de2b"
             ],
             [
              1,
              "#fde725"
             ]
            ],
            "type": "surface"
           }
          ],
          "table": [
           {
            "cells": {
             "fill": {
              "color": "rgb(237,237,237)"
             },
             "line": {
              "color": "white"
             }
            },
            "header": {
             "fill": {
              "color": "rgb(217,217,217)"
             },
             "line": {
              "color": "white"
             }
            },
            "type": "table"
           }
          ]
         },
         "layout": {
          "annotationdefaults": {
           "arrowhead": 0,
           "arrowwidth": 1
          },
          "autotypenumbers": "strict",
          "coloraxis": {
           "colorbar": {
            "outlinewidth": 1,
            "tickcolor": "rgb(36,36,36)",
            "ticks": "outside"
           }
          },
          "colorscale": {
           "diverging": [
            [
             0,
             "rgb(103,0,31)"
            ],
            [
             0.1,
             "rgb(178,24,43)"
            ],
            [
             0.2,
             "rgb(214,96,77)"
            ],
            [
             0.3,
             "rgb(244,165,130)"
            ],
            [
             0.4,
             "rgb(253,219,199)"
            ],
            [
             0.5,
             "rgb(247,247,247)"
            ],
            [
             0.6,
             "rgb(209,229,240)"
            ],
            [
             0.7,
             "rgb(146,197,222)"
            ],
            [
             0.8,
             "rgb(67,147,195)"
            ],
            [
             0.9,
             "rgb(33,102,172)"
            ],
            [
             1,
             "rgb(5,48,97)"
            ]
           ],
           "sequential": [
            [
             0,
             "#440154"
            ],
            [
             0.1111111111111111,
             "#482878"
            ],
            [
             0.2222222222222222,
             "#3e4989"
            ],
            [
             0.3333333333333333,
             "#31688e"
            ],
            [
             0.4444444444444444,
             "#26828e"
            ],
            [
             0.5555555555555556,
             "#1f9e89"
            ],
            [
             0.6666666666666666,
             "#35b779"
            ],
            [
             0.7777777777777778,
             "#6ece58"
            ],
            [
             0.8888888888888888,
             "#b5de2b"
            ],
            [
             1,
             "#fde725"
            ]
           ],
           "sequentialminus": [
            [
             0,
             "#440154"
            ],
            [
             0.1111111111111111,
             "#482878"
            ],
            [
             0.2222222222222222,
             "#3e4989"
            ],
            [
             0.3333333333333333,
             "#31688e"
            ],
            [
             0.4444444444444444,
             "#26828e"
            ],
            [
             0.5555555555555556,
             "#1f9e89"
            ],
            [
             0.6666666666666666,
             "#35b779"
            ],
            [
             0.7777777777777778,
             "#6ece58"
            ],
            [
             0.8888888888888888,
             "#b5de2b"
            ],
            [
             1,
             "#fde725"
            ]
           ]
          },
          "colorway": [
           "#1F77B4",
           "#FF7F0E",
           "#2CA02C",
           "#D62728",
           "#9467BD",
           "#8C564B",
           "#E377C2",
           "#7F7F7F",
           "#BCBD22",
           "#17BECF"
          ],
          "font": {
           "color": "rgb(36,36,36)"
          },
          "geo": {
           "bgcolor": "white",
           "lakecolor": "white",
           "landcolor": "white",
           "showlakes": true,
           "showland": true,
           "subunitcolor": "white"
          },
          "hoverlabel": {
           "align": "left"
          },
          "hovermode": "closest",
          "mapbox": {
           "style": "light"
          },
          "paper_bgcolor": "white",
          "plot_bgcolor": "white",
          "polar": {
           "angularaxis": {
            "gridcolor": "rgb(232,232,232)",
            "linecolor": "rgb(36,36,36)",
            "showgrid": false,
            "showline": true,
            "ticks": "outside"
           },
           "bgcolor": "white",
           "radialaxis": {
            "gridcolor": "rgb(232,232,232)",
            "linecolor": "rgb(36,36,36)",
            "showgrid": false,
            "showline": true,
            "ticks": "outside"
           }
          },
          "scene": {
           "xaxis": {
            "backgroundcolor": "white",
            "gridcolor": "rgb(232,232,232)",
            "gridwidth": 2,
            "linecolor": "rgb(36,36,36)",
            "showbackground": true,
            "showgrid": false,
            "showline": true,
            "ticks": "outside",
            "zeroline": false,
            "zerolinecolor": "rgb(36,36,36)"
           },
           "yaxis": {
            "backgroundcolor": "white",
            "gridcolor": "rgb(232,232,232)",
            "gridwidth": 2,
            "linecolor": "rgb(36,36,36)",
            "showbackground": true,
            "showgrid": false,
            "showline": true,
            "ticks": "outside",
            "zeroline": false,
            "zerolinecolor": "rgb(36,36,36)"
           },
           "zaxis": {
            "backgroundcolor": "white",
            "gridcolor": "rgb(232,232,232)",
            "gridwidth": 2,
            "linecolor": "rgb(36,36,36)",
            "showbackground": true,
            "showgrid": false,
            "showline": true,
            "ticks": "outside",
            "zeroline": false,
            "zerolinecolor": "rgb(36,36,36)"
           }
          },
          "shapedefaults": {
           "fillcolor": "black",
           "line": {
            "width": 0
           },
           "opacity": 0.3
          },
          "ternary": {
           "aaxis": {
            "gridcolor": "rgb(232,232,232)",
            "linecolor": "rgb(36,36,36)",
            "showgrid": false,
            "showline": true,
            "ticks": "outside"
           },
           "baxis": {
            "gridcolor": "rgb(232,232,232)",
            "linecolor": "rgb(36,36,36)",
            "showgrid": false,
            "showline": true,
            "ticks": "outside"
           },
           "bgcolor": "white",
           "caxis": {
            "gridcolor": "rgb(232,232,232)",
            "linecolor": "rgb(36,36,36)",
            "showgrid": false,
            "showline": true,
            "ticks": "outside"
           }
          },
          "title": {
           "x": 0.05
          },
          "xaxis": {
           "automargin": true,
           "gridcolor": "rgb(232,232,232)",
           "linecolor": "rgb(36,36,36)",
           "showgrid": false,
           "showline": true,
           "ticks": "outside",
           "title": {
            "standoff": 15
           },
           "zeroline": false,
           "zerolinecolor": "rgb(36,36,36)"
          },
          "yaxis": {
           "automargin": true,
           "gridcolor": "rgb(232,232,232)",
           "linecolor": "rgb(36,36,36)",
           "showgrid": false,
           "showline": true,
           "ticks": "outside",
           "title": {
            "standoff": 15
           },
           "zeroline": false,
           "zerolinecolor": "rgb(36,36,36)"
          }
         }
        },
        "title": {
         "font": {
          "color": "Black",
          "size": 22
         },
         "text": "<b>Topics over Time",
         "x": 0.4,
         "xanchor": "center",
         "y": 0.95,
         "yanchor": "top"
        },
        "width": 1250,
        "xaxis": {
         "showgrid": true
        },
        "yaxis": {
         "showgrid": true,
         "title": {
          "text": "Frequency"
         }
        }
       }
      },
      "text/html": [
       "<div>                            <div id=\"145ebbbb-ad8b-4e94-b505-95f398ea4c7b\" class=\"plotly-graph-div\" style=\"height:450px; width:1250px;\"></div>            <script type=\"text/javascript\">                require([\"plotly\"], function(Plotly) {                    window.PLOTLYENV=window.PLOTLYENV || {};                                    if (document.getElementById(\"145ebbbb-ad8b-4e94-b505-95f398ea4c7b\")) {                    Plotly.newPlot(                        \"145ebbbb-ad8b-4e94-b505-95f398ea4c7b\",                        [{\"hoverinfo\":\"text\",\"hovertext\":[\"<b>Topic 0</b><br>Words: \\u043d\\u0435, \\u043d\\u0430, \\u0447\\u0442\\u043e, \\u0437\\u0440\\u044f, \\u0441\\u043b\\u0430\\u0432\\u0430\",\"<b>Topic 0</b><br>Words: \\u043d\\u0435, \\u0447\\u0442\\u043e, \\u043d\\u0430, \\u044d\\u0442\\u043e, \\u0441\\u043b\\u0430\\u0432\\u0430\",\"<b>Topic 0</b><br>Words: \\u043d\\u0435, \\u0447\\u0442\\u043e, \\u043d\\u0430, \\u0441\\u043b\\u0430\\u0432\\u0430, \\u044d\\u0442\\u043e\",\"<b>Topic 0</b><br>Words: \\u043d\\u0435, \\u0447\\u0442\\u043e, \\u043d\\u0430, \\u0441\\u043b\\u0430\\u0432\\u0430, \\u044d\\u0442\\u043e\",\"<b>Topic 0</b><br>Words: \\u043d\\u0435, \\u043d\\u0430, \\u044d\\u0442\\u043e, \\u0447\\u0442\\u043e, \\u0441\\u043b\\u0430\\u0432\\u0430\"],\"marker\":{\"color\":\"#e6194b\"},\"mode\":\"lines\",\"name\":\"0_\\u043d\\u0435_\\u0447\\u0442\\u043e_\\u043d\\u0430_\\u044d\\u0442\\u043e\",\"x\":[\"2022-03-06T23:31:12\",\"2022-03-08T00:00:00\",\"2022-03-20T00:00:00\",\"2022-03-22T00:00:00\",\"2022-03-26T00:00:00\"],\"y\":[65,279,212,237,222],\"type\":\"scatter\"},{\"hoverinfo\":\"text\",\"hovertext\":[\"<b>Topic 1</b><br>Words: gt, gt gt, \\u044d\\u0442\\u043e, gt gt gt, \\u043d\\u0435\",\"<b>Topic 1</b><br>Words: \\u043f\\u043b\\u043e\\u0449\\u0430\\u0434\\u044c, \\u043d\\u0435, \\u0447\\u0442\\u043e, \\u043d\\u0430, \\u0440\\u043e\\u0441\\u0441\\u0438\\u0438\",\"<b>Topic 1</b><br>Words: \\u043d\\u0435, \\u043d\\u0430, \\u0447\\u0442\\u043e, \\u043f\\u043e, \\u044d\\u0442\\u043e\",\"<b>Topic 1</b><br>Words: gt, 00, \\u043d\\u0435, blyad, \\u043d\\u0430\",\"<b>Topic 1</b><br>Words: \\u043d\\u0435, \\u0447\\u0442\\u043e, \\u043d\\u0430, \\u044d\\u0442\\u043e, \\u043f\\u043e\"],\"marker\":{\"color\":\"#3cb44b\"},\"mode\":\"lines\",\"name\":\"1_\\u043f\\u043b\\u043e\\u0449\\u0430\\u0434\\u044c_\\u043d\\u0435_\\u0447\\u0442\\u043e_\\u043d\\u0430\",\"x\":[\"2022-03-06T23:31:12\",\"2022-03-08T00:00:00\",\"2022-03-20T00:00:00\",\"2022-03-22T00:00:00\",\"2022-03-26T00:00:00\"],\"y\":[6,65,36,24,49],\"type\":\"scatter\"},{\"hoverinfo\":\"text\",\"hovertext\":[\"<b>Topic 2</b><br>Words: don, lol, hoping, ll, link\",\"<b>Topic 2</b><br>Words: lol, bro, read, man, good\",\"<b>Topic 2</b><br>Words: good, cool, long, lol, won\",\"<b>Topic 2</b><br>Words: just, lol, news, oh, good\"],\"marker\":{\"color\":\"#ffe119\"},\"mode\":\"lines\",\"name\":\"2_lol_don_good_news\",\"x\":[\"2022-03-08T00:00:00\",\"2022-03-20T00:00:00\",\"2022-03-22T00:00:00\",\"2022-03-26T00:00:00\"],\"y\":[26,18,16,22],\"type\":\"scatter\"},{\"hoverinfo\":\"text\",\"hovertext\":[\"<b>Topic 3</b><br>Words: die russian, die, russian, die russian soldiers, russian warships die\",\"<b>Topic 3</b><br>Words: fuck, russia, putin, russian, fuck russia\",\"<b>Topic 3</b><br>Words: russia, fuck, russian, soldiers russian gen, gen helmets fake\",\"<b>Topic 3</b><br>Words: fuck, russia, fuck russia, fuck russia fuck, russia fuck\",\"<b>Topic 3</b><br>Words: russia, love, love russia, putin, russia love\"],\"marker\":{\"color\":\"#4363d8\"},\"mode\":\"lines\",\"name\":\"3_fuck_russia_putin_fuck russia\",\"x\":[\"2022-03-06T23:31:12\",\"2022-03-08T00:00:00\",\"2022-03-20T00:00:00\",\"2022-03-22T00:00:00\",\"2022-03-26T00:00:00\"],\"y\":[4,20,21,13,22],\"type\":\"scatter\"},{\"hoverinfo\":\"text\",\"hovertext\":[\"<b>Topic 4</b><br>Words: man timid, spinner slimy, tucker, warm, slimy\",\"<b>Topic 4</b><br>Words: guy thank, gone, guy, thank, hot\",\"<b>Topic 4</b><br>Words: hot, got tiny arms, guys transracial, relax guys transracial, beautiful\",\"<b>Topic 4</b><br>Words: babe, smiling, hot babe, hot, little\"],\"marker\":{\"color\":\"#f58231\"},\"mode\":\"lines\",\"name\":\"4_hot_hot babe_babe_smiling\",\"x\":[\"2022-03-08T00:00:00\",\"2022-03-20T00:00:00\",\"2022-03-22T00:00:00\",\"2022-03-26T00:00:00\"],\"y\":[12,2,10,8],\"type\":\"scatter\"},{\"hoverinfo\":\"text\",\"hovertext\":[\"<b>Topic 5</b><br>Words: stabbot, stabbot stabbot, stabbot stabbot stabbot, stabbot alles_luge_28 stabbot, twitter link\",\"<b>Topic 5</b><br>Words: stabbot, stabbot stabbot, stabbot stabbot bigdickputin, stabbot bigdickputin, stabbot bigdickputin stabbot\",\"<b>Topic 5</b><br>Words: stabbot, stabbot stabbot, stabbot stabbot stabbot, stabbot auddbot, stabbot auddbot stabbot\",\"<b>Topic 5</b><br>Words: stabbot, stabbot stabbot, stabbot stabbot stabbot, link stabbot, twitter link stabbot\"],\"marker\":{\"color\":\"#911eb4\"},\"mode\":\"lines\",\"name\":\"5_stabbot_stabbot stabbot_stabbot stabbo...\",\"x\":[\"2022-03-08T00:00:00\",\"2022-03-20T00:00:00\",\"2022-03-22T00:00:00\",\"2022-03-26T00:00:00\"],\"y\":[8,5,14,2],\"type\":\"scatter\"},{\"hoverinfo\":\"text\",\"hovertext\":[\"<b>Topic 6</b><br>Words: 1914, city kharkiv russian, ackchyually, ackchyually 1914 map, ackchyually 1914\",\"<b>Topic 6</b><br>Words: peaceful, russian, missile, kyi, hitting shopping\",\"<b>Topic 6</b><br>Words: missile, threatens, threatens poland missile, air target donbass, russia tv threatens\"],\"marker\":{\"color\":\"#46f0f0\"},\"mode\":\"lines\",\"name\":\"6_missile_russian_peaceful_kyiv podil\",\"x\":[\"2022-03-08T00:00:00\",\"2022-03-20T00:00:00\",\"2022-03-22T00:00:00\"],\"y\":[2,15,9],\"type\":\"scatter\"},{\"hoverinfo\":\"text\",\"hovertext\":[\"<b>Topic 7</b><br>Words: random, random russian, text, telegram, media\",\"<b>Topic 7</b><br>Words: people, coat arms, coat, arms, ukraine\",\"<b>Topic 7</b><br>Words: tweet, media, missing, ___, war\",\"<b>Topic 7</b><br>Words: soldier, intercepted, leaks, russian military chaos, leaks russian military\",\"<b>Topic 7</b><br>Words: people, \\u044f\\u0440\\u043e\\u0441\\u0442\\u044c \\u0431\\u043b\\u0430\\u0433\\u043e\\u0440\\u043e\\u0434\\u043d\\u0430\\u044f \\u0432\\u0441\\u043a\\u0438\\u043f\\u0430\\u0435\\u0442, committed, \\u0442\\u0430\\u043a \\u0437\\u043d\\u0430\\u044e, soviets union\"],\"marker\":{\"color\":\"#f032e6\"},\"mode\":\"lines\",\"name\":\"7_media_tweet_russian_soldier\",\"x\":[\"2022-03-06T23:31:12\",\"2022-03-08T00:00:00\",\"2022-03-20T00:00:00\",\"2022-03-22T00:00:00\",\"2022-03-26T00:00:00\"],\"y\":[2,7,5,7,3],\"type\":\"scatter\"},{\"hoverinfo\":\"text\",\"hovertext\":[\"<b>Topic 8</b><br>Words: crew, tactical, russian, 9861, usually\",\"<b>Topic 8</b><br>Words: russian, 9861, \\u0440\\u0444, federation, russian federation\",\"<b>Topic 8</b><br>Words: russian, pows, russian soldier, shot, soldiers\"],\"marker\":{\"color\":\"#bcf60c\"},\"mode\":\"lines\",\"name\":\"8_russian_9861_\\u0440\\u0444_federation\",\"x\":[\"2022-03-08T00:00:00\",\"2022-03-20T00:00:00\",\"2022-03-26T00:00:00\"],\"y\":[2,15,3],\"type\":\"scatter\"},{\"hoverinfo\":\"text\",\"hovertext\":[\"<b>Topic 9</b><br>Words: russianwarcrimes, russianwarcrimes russianwarcrimes, russianwarcrimes russianwarcrimes russianwarcrimes, russiadenies, russiadenies russianwarcrimes\",\"<b>Topic 9</b><br>Words: russianwarcrimes, russianwarcrimes russianwarcrimes, russianwarcrimes russianwarcrimes russianwarcrimes, russianwarcrimes russiacantmeme, russiacantmeme\",\"<b>Topic 9</b><br>Words: russianwarcrimes, russianwarcrimes russianwarcrimes, russianwarcrimes russianwarcrimes russianwarcrimes, russiancircus, war\",\"<b>Topic 9</b><br>Words: russiadenies, russiancircus, russianwarcrimes, russianwarcrimes russianwarcrimes, russianwarcrimes russianwarcrimes russianwarcrimes\"],\"marker\":{\"color\":\"#fabebe\"},\"mode\":\"lines\",\"name\":\"9_russianwarcrimes_russianwarcrimes russ...\",\"x\":[\"2022-03-08T00:00:00\",\"2022-03-20T00:00:00\",\"2022-03-22T00:00:00\",\"2022-03-26T00:00:00\"],\"y\":[6,8,3,3],\"type\":\"scatter\"},{\"hoverinfo\":\"text\",\"hovertext\":[\"<b>Topic 10</b><br>Words: russian artilery destroys, russian artilery, destroys people houses, people houses, houses\",\"<b>Topic 10</b><br>Words: video shows russian, russian destroyed vehicles, russian destroyed, shows russian, shows russian destroyed\",\"<b>Topic 10</b><br>Words: destroyed, footage, destroyed ukrainian, russian, vehicle\",\"<b>Topic 10</b><br>Words: ukraine asymmetric war, ukraine asymmetric, asymmetric war, footage exactly, asymmetric\"],\"marker\":{\"color\":\"#008080\"},\"mode\":\"lines\",\"name\":\"10_destroyed_russian_footage_ukrainian\",\"x\":[\"2022-03-08T00:00:00\",\"2022-03-20T00:00:00\",\"2022-03-22T00:00:00\",\"2022-03-26T00:00:00\"],\"y\":[6,1,9,2],\"type\":\"scatter\"},{\"hoverinfo\":\"text\",\"hovertext\":[\"<b>Topic 11</b><br>Words: war, boo, special, operation, war special\",\"<b>Topic 11</b><br>Words: war, freedom, saying right, war saying, right war\",\"<b>Topic 11</b><br>Words: oh paul warwilf, paul, warwilf, paul warwilf, oh paul\",\"<b>Topic 11</b><br>Words: war, war special, war special military, territory war hell, territory war\"],\"marker\":{\"color\":\"#e6beff\"},\"mode\":\"lines\",\"name\":\"11_war_special_operation_war special\",\"x\":[\"2022-03-08T00:00:00\",\"2022-03-20T00:00:00\",\"2022-03-22T00:00:00\",\"2022-03-26T00:00:00\"],\"y\":[5,3,2,5],\"type\":\"scatter\"},{\"hoverinfo\":\"text\",\"hovertext\":[\"<b>Topic 12</b><br>Words: \\u0442\\u0430\\u043a \\u043a\\u0440\\u0430\\u0441\\u0438\\u0432\\u043e, \\u043a\\u0440\\u0430\\u0441\\u0438\\u0432\\u043e, \\u0442\\u0430\\u043a, emoji, \\u30ce\\u0ca0\\u76ca\\u0ca0 \\u0447\\u0435\\u0442\\u0432\\u0435\\u0440\\u0442\\u044b\\u0439reicht emoji\",\"<b>Topic 12</b><br>Words: host, putler, emoji, \\u30ce\\u0ca0\\u76ca\\u0ca0 \\u0447\\u0435\\u0442\\u0432\\u0435\\u0440\\u0442\\u044b\\u0439reicht emoji, putler host\",\"<b>Topic 12</b><br>Words: homophone \\u30ce\\u0ca0\\u76ca\\u0ca0, homophone, \\u30ce\\u0ca0\\u76ca\\u0ca0 \\u0447\\u0435\\u0442\\u0432\\u0435\\u0440\\u0442\\u044b\\u0439reicht, zis, homophone \\u30ce\\u0ca0\\u76ca\\u0ca0 \\u0447\\u0435\\u0442\\u0432\\u0435\\u0440\\u0442\\u044b\\u0439reicht\",\"<b>Topic 12</b><br>Words: thumbs emoji, thumbs, emoji, \\u30ce\\u0ca0\\u76ca\\u0ca0 \\u0447\\u0435\\u0442\\u0432\\u0435\\u0440\\u0442\\u044b\\u0439reicht emoji, putler\",\"<b>Topic 12</b><br>Words: emoji, \\u30ce\\u0ca0\\u76ca\\u0ca0 \\u0447\\u0435\\u0442\\u0432\\u0435\\u0440\\u0442\\u044b\\u0439reicht emoji, putler host, emoji putler, emoji putler host\"],\"marker\":{\"color\":\"#9a6324\"},\"mode\":\"lines\",\"name\":\"12_emoji_emoji neo_\\u0447\\u0435\\u0442\\u0432\\u0435\\u0440\\u0442\\u044b\\u0439reicht emoji...\",\"x\":[\"2022-03-06T23:31:12\",\"2022-03-08T00:00:00\",\"2022-03-20T00:00:00\",\"2022-03-22T00:00:00\",\"2022-03-26T00:00:00\"],\"y\":[1,4,4,2,1],\"type\":\"scatter\"}],                        {\"template\":{\"data\":{\"barpolar\":[{\"marker\":{\"line\":{\"color\":\"white\",\"width\":0.5},\"pattern\":{\"fillmode\":\"overlay\",\"size\":10,\"solidity\":0.2}},\"type\":\"barpolar\"}],\"bar\":[{\"error_x\":{\"color\":\"rgb(36,36,36)\"},\"error_y\":{\"color\":\"rgb(36,36,36)\"},\"marker\":{\"line\":{\"color\":\"white\",\"width\":0.5},\"pattern\":{\"fillmode\":\"overlay\",\"size\":10,\"solidity\":0.2}},\"type\":\"bar\"}],\"carpet\":[{\"aaxis\":{\"endlinecolor\":\"rgb(36,36,36)\",\"gridcolor\":\"white\",\"linecolor\":\"white\",\"minorgridcolor\":\"white\",\"startlinecolor\":\"rgb(36,36,36)\"},\"baxis\":{\"endlinecolor\":\"rgb(36,36,36)\",\"gridcolor\":\"white\",\"linecolor\":\"white\",\"minorgridcolor\":\"white\",\"startlinecolor\":\"rgb(36,36,36)\"},\"type\":\"carpet\"}],\"choropleth\":[{\"colorbar\":{\"outlinewidth\":1,\"tickcolor\":\"rgb(36,36,36)\",\"ticks\":\"outside\"},\"type\":\"choropleth\"}],\"contourcarpet\":[{\"colorbar\":{\"outlinewidth\":1,\"tickcolor\":\"rgb(36,36,36)\",\"ticks\":\"outside\"},\"type\":\"contourcarpet\"}],\"contour\":[{\"colorbar\":{\"outlinewidth\":1,\"tickcolor\":\"rgb(36,36,36)\",\"ticks\":\"outside\"},\"colorscale\":[[0.0,\"#440154\"],[0.1111111111111111,\"#482878\"],[0.2222222222222222,\"#3e4989\"],[0.3333333333333333,\"#31688e\"],[0.4444444444444444,\"#26828e\"],[0.5555555555555556,\"#1f9e89\"],[0.6666666666666666,\"#35b779\"],[0.7777777777777778,\"#6ece58\"],[0.8888888888888888,\"#b5de2b\"],[1.0,\"#fde725\"]],\"type\":\"contour\"}],\"heatmapgl\":[{\"colorbar\":{\"outlinewidth\":1,\"tickcolor\":\"rgb(36,36,36)\",\"ticks\":\"outside\"},\"colorscale\":[[0.0,\"#440154\"],[0.1111111111111111,\"#482878\"],[0.2222222222222222,\"#3e4989\"],[0.3333333333333333,\"#31688e\"],[0.4444444444444444,\"#26828e\"],[0.5555555555555556,\"#1f9e89\"],[0.6666666666666666,\"#35b779\"],[0.7777777777777778,\"#6ece58\"],[0.8888888888888888,\"#b5de2b\"],[1.0,\"#fde725\"]],\"type\":\"heatmapgl\"}],\"heatmap\":[{\"colorbar\":{\"outlinewidth\":1,\"tickcolor\":\"rgb(36,36,36)\",\"ticks\":\"outside\"},\"colorscale\":[[0.0,\"#440154\"],[0.1111111111111111,\"#482878\"],[0.2222222222222222,\"#3e4989\"],[0.3333333333333333,\"#31688e\"],[0.4444444444444444,\"#26828e\"],[0.5555555555555556,\"#1f9e89\"],[0.6666666666666666,\"#35b779\"],[0.7777777777777778,\"#6ece58\"],[0.8888888888888888,\"#b5de2b\"],[1.0,\"#fde725\"]],\"type\":\"heatmap\"}],\"histogram2dcontour\":[{\"colorbar\":{\"outlinewidth\":1,\"tickcolor\":\"rgb(36,36,36)\",\"ticks\":\"outside\"},\"colorscale\":[[0.0,\"#440154\"],[0.1111111111111111,\"#482878\"],[0.2222222222222222,\"#3e4989\"],[0.3333333333333333,\"#31688e\"],[0.4444444444444444,\"#26828e\"],[0.5555555555555556,\"#1f9e89\"],[0.6666666666666666,\"#35b779\"],[0.7777777777777778,\"#6ece58\"],[0.8888888888888888,\"#b5de2b\"],[1.0,\"#fde725\"]],\"type\":\"histogram2dcontour\"}],\"histogram2d\":[{\"colorbar\":{\"outlinewidth\":1,\"tickcolor\":\"rgb(36,36,36)\",\"ticks\":\"outside\"},\"colorscale\":[[0.0,\"#440154\"],[0.1111111111111111,\"#482878\"],[0.2222222222222222,\"#3e4989\"],[0.3333333333333333,\"#31688e\"],[0.4444444444444444,\"#26828e\"],[0.5555555555555556,\"#1f9e89\"],[0.6666666666666666,\"#35b779\"],[0.7777777777777778,\"#6ece58\"],[0.8888888888888888,\"#b5de2b\"],[1.0,\"#fde725\"]],\"type\":\"histogram2d\"}],\"histogram\":[{\"marker\":{\"line\":{\"color\":\"white\",\"width\":0.6}},\"type\":\"histogram\"}],\"mesh3d\":[{\"colorbar\":{\"outlinewidth\":1,\"tickcolor\":\"rgb(36,36,36)\",\"ticks\":\"outside\"},\"type\":\"mesh3d\"}],\"parcoords\":[{\"line\":{\"colorbar\":{\"outlinewidth\":1,\"tickcolor\":\"rgb(36,36,36)\",\"ticks\":\"outside\"}},\"type\":\"parcoords\"}],\"pie\":[{\"automargin\":true,\"type\":\"pie\"}],\"scatter3d\":[{\"line\":{\"colorbar\":{\"outlinewidth\":1,\"tickcolor\":\"rgb(36,36,36)\",\"ticks\":\"outside\"}},\"marker\":{\"colorbar\":{\"outlinewidth\":1,\"tickcolor\":\"rgb(36,36,36)\",\"ticks\":\"outside\"}},\"type\":\"scatter3d\"}],\"scattercarpet\":[{\"marker\":{\"colorbar\":{\"outlinewidth\":1,\"tickcolor\":\"rgb(36,36,36)\",\"ticks\":\"outside\"}},\"type\":\"scattercarpet\"}],\"scattergeo\":[{\"marker\":{\"colorbar\":{\"outlinewidth\":1,\"tickcolor\":\"rgb(36,36,36)\",\"ticks\":\"outside\"}},\"type\":\"scattergeo\"}],\"scattergl\":[{\"marker\":{\"colorbar\":{\"outlinewidth\":1,\"tickcolor\":\"rgb(36,36,36)\",\"ticks\":\"outside\"}},\"type\":\"scattergl\"}],\"scattermapbox\":[{\"marker\":{\"colorbar\":{\"outlinewidth\":1,\"tickcolor\":\"rgb(36,36,36)\",\"ticks\":\"outside\"}},\"type\":\"scattermapbox\"}],\"scatterpolargl\":[{\"marker\":{\"colorbar\":{\"outlinewidth\":1,\"tickcolor\":\"rgb(36,36,36)\",\"ticks\":\"outside\"}},\"type\":\"scatterpolargl\"}],\"scatterpolar\":[{\"marker\":{\"colorbar\":{\"outlinewidth\":1,\"tickcolor\":\"rgb(36,36,36)\",\"ticks\":\"outside\"}},\"type\":\"scatterpolar\"}],\"scatter\":[{\"fillpattern\":{\"fillmode\":\"overlay\",\"size\":10,\"solidity\":0.2},\"type\":\"scatter\"}],\"scatterternary\":[{\"marker\":{\"colorbar\":{\"outlinewidth\":1,\"tickcolor\":\"rgb(36,36,36)\",\"ticks\":\"outside\"}},\"type\":\"scatterternary\"}],\"surface\":[{\"colorbar\":{\"outlinewidth\":1,\"tickcolor\":\"rgb(36,36,36)\",\"ticks\":\"outside\"},\"colorscale\":[[0.0,\"#440154\"],[0.1111111111111111,\"#482878\"],[0.2222222222222222,\"#3e4989\"],[0.3333333333333333,\"#31688e\"],[0.4444444444444444,\"#26828e\"],[0.5555555555555556,\"#1f9e89\"],[0.6666666666666666,\"#35b779\"],[0.7777777777777778,\"#6ece58\"],[0.8888888888888888,\"#b5de2b\"],[1.0,\"#fde725\"]],\"type\":\"surface\"}],\"table\":[{\"cells\":{\"fill\":{\"color\":\"rgb(237,237,237)\"},\"line\":{\"color\":\"white\"}},\"header\":{\"fill\":{\"color\":\"rgb(217,217,217)\"},\"line\":{\"color\":\"white\"}},\"type\":\"table\"}]},\"layout\":{\"annotationdefaults\":{\"arrowhead\":0,\"arrowwidth\":1},\"autotypenumbers\":\"strict\",\"coloraxis\":{\"colorbar\":{\"outlinewidth\":1,\"tickcolor\":\"rgb(36,36,36)\",\"ticks\":\"outside\"}},\"colorscale\":{\"diverging\":[[0.0,\"rgb(103,0,31)\"],[0.1,\"rgb(178,24,43)\"],[0.2,\"rgb(214,96,77)\"],[0.3,\"rgb(244,165,130)\"],[0.4,\"rgb(253,219,199)\"],[0.5,\"rgb(247,247,247)\"],[0.6,\"rgb(209,229,240)\"],[0.7,\"rgb(146,197,222)\"],[0.8,\"rgb(67,147,195)\"],[0.9,\"rgb(33,102,172)\"],[1.0,\"rgb(5,48,97)\"]],\"sequential\":[[0.0,\"#440154\"],[0.1111111111111111,\"#482878\"],[0.2222222222222222,\"#3e4989\"],[0.3333333333333333,\"#31688e\"],[0.4444444444444444,\"#26828e\"],[0.5555555555555556,\"#1f9e89\"],[0.6666666666666666,\"#35b779\"],[0.7777777777777778,\"#6ece58\"],[0.8888888888888888,\"#b5de2b\"],[1.0,\"#fde725\"]],\"sequentialminus\":[[0.0,\"#440154\"],[0.1111111111111111,\"#482878\"],[0.2222222222222222,\"#3e4989\"],[0.3333333333333333,\"#31688e\"],[0.4444444444444444,\"#26828e\"],[0.5555555555555556,\"#1f9e89\"],[0.6666666666666666,\"#35b779\"],[0.7777777777777778,\"#6ece58\"],[0.8888888888888888,\"#b5de2b\"],[1.0,\"#fde725\"]]},\"colorway\":[\"#1F77B4\",\"#FF7F0E\",\"#2CA02C\",\"#D62728\",\"#9467BD\",\"#8C564B\",\"#E377C2\",\"#7F7F7F\",\"#BCBD22\",\"#17BECF\"],\"font\":{\"color\":\"rgb(36,36,36)\"},\"geo\":{\"bgcolor\":\"white\",\"lakecolor\":\"white\",\"landcolor\":\"white\",\"showlakes\":true,\"showland\":true,\"subunitcolor\":\"white\"},\"hoverlabel\":{\"align\":\"left\"},\"hovermode\":\"closest\",\"mapbox\":{\"style\":\"light\"},\"paper_bgcolor\":\"white\",\"plot_bgcolor\":\"white\",\"polar\":{\"angularaxis\":{\"gridcolor\":\"rgb(232,232,232)\",\"linecolor\":\"rgb(36,36,36)\",\"showgrid\":false,\"showline\":true,\"ticks\":\"outside\"},\"bgcolor\":\"white\",\"radialaxis\":{\"gridcolor\":\"rgb(232,232,232)\",\"linecolor\":\"rgb(36,36,36)\",\"showgrid\":false,\"showline\":true,\"ticks\":\"outside\"}},\"scene\":{\"xaxis\":{\"backgroundcolor\":\"white\",\"gridcolor\":\"rgb(232,232,232)\",\"gridwidth\":2,\"linecolor\":\"rgb(36,36,36)\",\"showbackground\":true,\"showgrid\":false,\"showline\":true,\"ticks\":\"outside\",\"zeroline\":false,\"zerolinecolor\":\"rgb(36,36,36)\"},\"yaxis\":{\"backgroundcolor\":\"white\",\"gridcolor\":\"rgb(232,232,232)\",\"gridwidth\":2,\"linecolor\":\"rgb(36,36,36)\",\"showbackground\":true,\"showgrid\":false,\"showline\":true,\"ticks\":\"outside\",\"zeroline\":false,\"zerolinecolor\":\"rgb(36,36,36)\"},\"zaxis\":{\"backgroundcolor\":\"white\",\"gridcolor\":\"rgb(232,232,232)\",\"gridwidth\":2,\"linecolor\":\"rgb(36,36,36)\",\"showbackground\":true,\"showgrid\":false,\"showline\":true,\"ticks\":\"outside\",\"zeroline\":false,\"zerolinecolor\":\"rgb(36,36,36)\"}},\"shapedefaults\":{\"fillcolor\":\"black\",\"line\":{\"width\":0},\"opacity\":0.3},\"ternary\":{\"aaxis\":{\"gridcolor\":\"rgb(232,232,232)\",\"linecolor\":\"rgb(36,36,36)\",\"showgrid\":false,\"showline\":true,\"ticks\":\"outside\"},\"baxis\":{\"gridcolor\":\"rgb(232,232,232)\",\"linecolor\":\"rgb(36,36,36)\",\"showgrid\":false,\"showline\":true,\"ticks\":\"outside\"},\"bgcolor\":\"white\",\"caxis\":{\"gridcolor\":\"rgb(232,232,232)\",\"linecolor\":\"rgb(36,36,36)\",\"showgrid\":false,\"showline\":true,\"ticks\":\"outside\"}},\"title\":{\"x\":0.05},\"xaxis\":{\"automargin\":true,\"gridcolor\":\"rgb(232,232,232)\",\"linecolor\":\"rgb(36,36,36)\",\"showgrid\":false,\"showline\":true,\"ticks\":\"outside\",\"title\":{\"standoff\":15},\"zeroline\":false,\"zerolinecolor\":\"rgb(36,36,36)\"},\"yaxis\":{\"automargin\":true,\"gridcolor\":\"rgb(232,232,232)\",\"linecolor\":\"rgb(36,36,36)\",\"showgrid\":false,\"showline\":true,\"ticks\":\"outside\",\"title\":{\"standoff\":15},\"zeroline\":false,\"zerolinecolor\":\"rgb(36,36,36)\"}}},\"xaxis\":{\"showgrid\":true},\"yaxis\":{\"showgrid\":true,\"title\":{\"text\":\"Frequency\"}},\"title\":{\"font\":{\"size\":22,\"color\":\"Black\"},\"text\":\"<b>Topics over Time\",\"y\":0.95,\"x\":0.4,\"xanchor\":\"center\",\"yanchor\":\"top\"},\"hoverlabel\":{\"font\":{\"size\":16,\"family\":\"Rockwell\"},\"bgcolor\":\"white\"},\"width\":1250,\"height\":450,\"legend\":{\"title\":{\"text\":\"<b>Global Topic Representation\"}}},                        {\"responsive\": true}                    ).then(function(){\n",
       "                            \n",
       "var gd = document.getElementById('145ebbbb-ad8b-4e94-b505-95f398ea4c7b');\n",
       "var x = new MutationObserver(function (mutations, observer) {{\n",
       "        var display = window.getComputedStyle(gd).display;\n",
       "        if (!display || display === 'none') {{\n",
       "            console.log([gd, 'removed!']);\n",
       "            Plotly.purge(gd);\n",
       "            observer.disconnect();\n",
       "        }}\n",
       "}});\n",
       "\n",
       "// Listen for the removal of the full notebook cells\n",
       "var notebookContainer = gd.closest('#notebook-container');\n",
       "if (notebookContainer) {{\n",
       "    x.observe(notebookContainer, {childList: true});\n",
       "}}\n",
       "\n",
       "// Listen for the clearing of the current output cell\n",
       "var outputEl = gd.closest('.output');\n",
       "if (outputEl) {{\n",
       "    x.observe(outputEl, {childList: true});\n",
       "}}\n",
       "\n",
       "                        })                };                });            </script>        </div>"
      ]
     },
     "metadata": {},
     "output_type": "display_data"
    }
   ],
   "source": [
    "# Topics over time\n",
    "topics_over_time = topic_model.topics_over_time(docs, dates, nr_bins=20)\n",
    "#topic_model.visualize_topics_over_time(topics_over_time, top_n_topics=20)\n",
    "\n",
    "visualize_topics_over_time(topic_model, topics_over_time, top_n_topics=20)\n",
    "\n",
    "\n",
    "\n",
    "\n",
    "# Visualize topics over time with the updated colors\n",
    "#visualize_topics_over_time(model, topics_over_time)"
   ]
  },
  {
   "cell_type": "markdown",
   "metadata": {},
   "source": [
    "## Topics pr class"
   ]
  },
  {
   "cell_type": "code",
   "execution_count": 83,
   "metadata": {},
   "outputs": [
    {
     "name": "stderr",
     "output_type": "stream",
     "text": [
      "1it [00:00,  7.99it/s]\n"
     ]
    }
   ],
   "source": [
    "# Topics per class\n",
    "#topics_per_class = topic_model.topics_per_class(docs, classes = subreddits)\n",
    "\n",
    "language = data.language.to_list()\n",
    "type = data.type.to_list()\n",
    "\n",
    "topics_per_class = topic_model.topics_per_class(docs, classes = language)\n",
    "\n",
    "\n"
   ]
  },
  {
   "cell_type": "code",
   "execution_count": 84,
   "metadata": {},
   "outputs": [
    {
     "data": {
      "application/vnd.plotly.v1+json": {
       "config": {
        "plotlyServerURL": "https://plot.ly"
       },
       "data": [
        {
         "hoverinfo": "text",
         "hovertext": [
          "<b>Topic 0</b><br>Words: не, что, на, это, слава"
         ],
         "marker": {
          "color": "#E69F00"
         },
         "name": "0_не_что_на_это",
         "orientation": "h",
         "type": "bar",
         "visible": true,
         "x": [
          1015
         ],
         "y": [
          "ru"
         ]
        },
        {
         "hoverinfo": "text",
         "hovertext": [
          "<b>Topic 1</b><br>Words: площадь, не, что, на, это"
         ],
         "marker": {
          "color": "#56B4E9"
         },
         "name": "1_площадь_не_что_на",
         "orientation": "h",
         "type": "bar",
         "visible": "legendonly",
         "x": [
          180
         ],
         "y": [
          "ru"
         ]
        },
        {
         "hoverinfo": "text",
         "hovertext": [
          "<b>Topic 2</b><br>Words: lol, don, good, news, bro"
         ],
         "marker": {
          "color": "#009E73"
         },
         "name": "2_lol_don_good_news",
         "orientation": "h",
         "type": "bar",
         "visible": "legendonly",
         "x": [
          82
         ],
         "y": [
          "ru"
         ]
        },
        {
         "hoverinfo": "text",
         "hovertext": [
          "<b>Topic 3</b><br>Words: fuck, russia, putin, fuck russia, putin fuck"
         ],
         "marker": {
          "color": "#F0E442"
         },
         "name": "3_fuck_russia_putin_fuck russia",
         "orientation": "h",
         "type": "bar",
         "visible": "legendonly",
         "x": [
          80
         ],
         "y": [
          "ru"
         ]
        },
        {
         "hoverinfo": "text",
         "hovertext": [
          "<b>Topic 4</b><br>Words: hot, smiling, hot babe, babe, shit"
         ],
         "marker": {
          "color": "#D55E00"
         },
         "name": "4_hot_hot babe_babe_smiling",
         "orientation": "h",
         "type": "bar",
         "visible": "legendonly",
         "x": [
          32
         ],
         "y": [
          "ru"
         ]
        },
        {
         "hoverinfo": "text",
         "hovertext": [
          "<b>Topic 5</b><br>Words: stabbot, stabbot stabbot, stabbot stabbot stabbot, link stabbot, twitter link stabbot"
         ],
         "marker": {
          "color": "#0072B2"
         },
         "name": "5_stabbot_stabbot stabbot_stabbot stabbo...",
         "orientation": "h",
         "type": "bar",
         "visible": "legendonly",
         "x": [
          29
         ],
         "y": [
          "ru"
         ]
        },
        {
         "hoverinfo": "text",
         "hovertext": [
          "<b>Topic 6</b><br>Words: missile, russian, peaceful, podil kyi, center central"
         ],
         "marker": {
          "color": "#CC79A7"
         },
         "name": "6_missile_russian_peaceful_kyiv podil",
         "orientation": "h",
         "type": "bar",
         "visible": "legendonly",
         "x": [
          26
         ],
         "y": [
          "ru"
         ]
        },
        {
         "hoverinfo": "text",
         "hovertext": [
          "<b>Topic 7</b><br>Words: media, tweet, russian, soldier, missing"
         ],
         "marker": {
          "color": "#E69F00"
         },
         "name": "7_media_tweet_russian_soldier",
         "orientation": "h",
         "type": "bar",
         "visible": "legendonly",
         "x": [
          24
         ],
         "y": [
          "ru"
         ]
        },
        {
         "hoverinfo": "text",
         "hovertext": [
          "<b>Topic 8</b><br>Words: russian, 9861, рф, russian federation, federation"
         ],
         "marker": {
          "color": "#56B4E9"
         },
         "name": "8_russian_9861_рф_federation",
         "orientation": "h",
         "type": "bar",
         "visible": "legendonly",
         "x": [
          20
         ],
         "y": [
          "ru"
         ]
        },
        {
         "hoverinfo": "text",
         "hovertext": [
          "<b>Topic 9</b><br>Words: russianwarcrimes, russianwarcrimes russianwarcrimes, russianwarcrimes russianwarcrimes russianwarcrimes, russiadenies, russiancircus"
         ],
         "marker": {
          "color": "#009E73"
         },
         "name": "9_russianwarcrimes_russianwarcrimes russ...",
         "orientation": "h",
         "type": "bar",
         "visible": "legendonly",
         "x": [
          20
         ],
         "y": [
          "ru"
         ]
        }
       ],
       "layout": {
        "height": 900,
        "hoverlabel": {
         "bgcolor": "white",
         "font": {
          "family": "Rockwell",
          "size": 16
         }
        },
        "legend": {
         "title": {
          "text": "<b>Global Topic Representation"
         }
        },
        "template": {
         "data": {
          "bar": [
           {
            "error_x": {
             "color": "rgb(36,36,36)"
            },
            "error_y": {
             "color": "rgb(36,36,36)"
            },
            "marker": {
             "line": {
              "color": "white",
              "width": 0.5
             },
             "pattern": {
              "fillmode": "overlay",
              "size": 10,
              "solidity": 0.2
             }
            },
            "type": "bar"
           }
          ],
          "barpolar": [
           {
            "marker": {
             "line": {
              "color": "white",
              "width": 0.5
             },
             "pattern": {
              "fillmode": "overlay",
              "size": 10,
              "solidity": 0.2
             }
            },
            "type": "barpolar"
           }
          ],
          "carpet": [
           {
            "aaxis": {
             "endlinecolor": "rgb(36,36,36)",
             "gridcolor": "white",
             "linecolor": "white",
             "minorgridcolor": "white",
             "startlinecolor": "rgb(36,36,36)"
            },
            "baxis": {
             "endlinecolor": "rgb(36,36,36)",
             "gridcolor": "white",
             "linecolor": "white",
             "minorgridcolor": "white",
             "startlinecolor": "rgb(36,36,36)"
            },
            "type": "carpet"
           }
          ],
          "choropleth": [
           {
            "colorbar": {
             "outlinewidth": 1,
             "tickcolor": "rgb(36,36,36)",
             "ticks": "outside"
            },
            "type": "choropleth"
           }
          ],
          "contour": [
           {
            "colorbar": {
             "outlinewidth": 1,
             "tickcolor": "rgb(36,36,36)",
             "ticks": "outside"
            },
            "colorscale": [
             [
              0,
              "#440154"
             ],
             [
              0.1111111111111111,
              "#482878"
             ],
             [
              0.2222222222222222,
              "#3e4989"
             ],
             [
              0.3333333333333333,
              "#31688e"
             ],
             [
              0.4444444444444444,
              "#26828e"
             ],
             [
              0.5555555555555556,
              "#1f9e89"
             ],
             [
              0.6666666666666666,
              "#35b779"
             ],
             [
              0.7777777777777778,
              "#6ece58"
             ],
             [
              0.8888888888888888,
              "#b5de2b"
             ],
             [
              1,
              "#fde725"
             ]
            ],
            "type": "contour"
           }
          ],
          "contourcarpet": [
           {
            "colorbar": {
             "outlinewidth": 1,
             "tickcolor": "rgb(36,36,36)",
             "ticks": "outside"
            },
            "type": "contourcarpet"
           }
          ],
          "heatmap": [
           {
            "colorbar": {
             "outlinewidth": 1,
             "tickcolor": "rgb(36,36,36)",
             "ticks": "outside"
            },
            "colorscale": [
             [
              0,
              "#440154"
             ],
             [
              0.1111111111111111,
              "#482878"
             ],
             [
              0.2222222222222222,
              "#3e4989"
             ],
             [
              0.3333333333333333,
              "#31688e"
             ],
             [
              0.4444444444444444,
              "#26828e"
             ],
             [
              0.5555555555555556,
              "#1f9e89"
             ],
             [
              0.6666666666666666,
              "#35b779"
             ],
             [
              0.7777777777777778,
              "#6ece58"
             ],
             [
              0.8888888888888888,
              "#b5de2b"
             ],
             [
              1,
              "#fde725"
             ]
            ],
            "type": "heatmap"
           }
          ],
          "heatmapgl": [
           {
            "colorbar": {
             "outlinewidth": 1,
             "tickcolor": "rgb(36,36,36)",
             "ticks": "outside"
            },
            "colorscale": [
             [
              0,
              "#440154"
             ],
             [
              0.1111111111111111,
              "#482878"
             ],
             [
              0.2222222222222222,
              "#3e4989"
             ],
             [
              0.3333333333333333,
              "#31688e"
             ],
             [
              0.4444444444444444,
              "#26828e"
             ],
             [
              0.5555555555555556,
              "#1f9e89"
             ],
             [
              0.6666666666666666,
              "#35b779"
             ],
             [
              0.7777777777777778,
              "#6ece58"
             ],
             [
              0.8888888888888888,
              "#b5de2b"
             ],
             [
              1,
              "#fde725"
             ]
            ],
            "type": "heatmapgl"
           }
          ],
          "histogram": [
           {
            "marker": {
             "line": {
              "color": "white",
              "width": 0.6
             }
            },
            "type": "histogram"
           }
          ],
          "histogram2d": [
           {
            "colorbar": {
             "outlinewidth": 1,
             "tickcolor": "rgb(36,36,36)",
             "ticks": "outside"
            },
            "colorscale": [
             [
              0,
              "#440154"
             ],
             [
              0.1111111111111111,
              "#482878"
             ],
             [
              0.2222222222222222,
              "#3e4989"
             ],
             [
              0.3333333333333333,
              "#31688e"
             ],
             [
              0.4444444444444444,
              "#26828e"
             ],
             [
              0.5555555555555556,
              "#1f9e89"
             ],
             [
              0.6666666666666666,
              "#35b779"
             ],
             [
              0.7777777777777778,
              "#6ece58"
             ],
             [
              0.8888888888888888,
              "#b5de2b"
             ],
             [
              1,
              "#fde725"
             ]
            ],
            "type": "histogram2d"
           }
          ],
          "histogram2dcontour": [
           {
            "colorbar": {
             "outlinewidth": 1,
             "tickcolor": "rgb(36,36,36)",
             "ticks": "outside"
            },
            "colorscale": [
             [
              0,
              "#440154"
             ],
             [
              0.1111111111111111,
              "#482878"
             ],
             [
              0.2222222222222222,
              "#3e4989"
             ],
             [
              0.3333333333333333,
              "#31688e"
             ],
             [
              0.4444444444444444,
              "#26828e"
             ],
             [
              0.5555555555555556,
              "#1f9e89"
             ],
             [
              0.6666666666666666,
              "#35b779"
             ],
             [
              0.7777777777777778,
              "#6ece58"
             ],
             [
              0.8888888888888888,
              "#b5de2b"
             ],
             [
              1,
              "#fde725"
             ]
            ],
            "type": "histogram2dcontour"
           }
          ],
          "mesh3d": [
           {
            "colorbar": {
             "outlinewidth": 1,
             "tickcolor": "rgb(36,36,36)",
             "ticks": "outside"
            },
            "type": "mesh3d"
           }
          ],
          "parcoords": [
           {
            "line": {
             "colorbar": {
              "outlinewidth": 1,
              "tickcolor": "rgb(36,36,36)",
              "ticks": "outside"
             }
            },
            "type": "parcoords"
           }
          ],
          "pie": [
           {
            "automargin": true,
            "type": "pie"
           }
          ],
          "scatter": [
           {
            "fillpattern": {
             "fillmode": "overlay",
             "size": 10,
             "solidity": 0.2
            },
            "type": "scatter"
           }
          ],
          "scatter3d": [
           {
            "line": {
             "colorbar": {
              "outlinewidth": 1,
              "tickcolor": "rgb(36,36,36)",
              "ticks": "outside"
             }
            },
            "marker": {
             "colorbar": {
              "outlinewidth": 1,
              "tickcolor": "rgb(36,36,36)",
              "ticks": "outside"
             }
            },
            "type": "scatter3d"
           }
          ],
          "scattercarpet": [
           {
            "marker": {
             "colorbar": {
              "outlinewidth": 1,
              "tickcolor": "rgb(36,36,36)",
              "ticks": "outside"
             }
            },
            "type": "scattercarpet"
           }
          ],
          "scattergeo": [
           {
            "marker": {
             "colorbar": {
              "outlinewidth": 1,
              "tickcolor": "rgb(36,36,36)",
              "ticks": "outside"
             }
            },
            "type": "scattergeo"
           }
          ],
          "scattergl": [
           {
            "marker": {
             "colorbar": {
              "outlinewidth": 1,
              "tickcolor": "rgb(36,36,36)",
              "ticks": "outside"
             }
            },
            "type": "scattergl"
           }
          ],
          "scattermapbox": [
           {
            "marker": {
             "colorbar": {
              "outlinewidth": 1,
              "tickcolor": "rgb(36,36,36)",
              "ticks": "outside"
             }
            },
            "type": "scattermapbox"
           }
          ],
          "scatterpolar": [
           {
            "marker": {
             "colorbar": {
              "outlinewidth": 1,
              "tickcolor": "rgb(36,36,36)",
              "ticks": "outside"
             }
            },
            "type": "scatterpolar"
           }
          ],
          "scatterpolargl": [
           {
            "marker": {
             "colorbar": {
              "outlinewidth": 1,
              "tickcolor": "rgb(36,36,36)",
              "ticks": "outside"
             }
            },
            "type": "scatterpolargl"
           }
          ],
          "scatterternary": [
           {
            "marker": {
             "colorbar": {
              "outlinewidth": 1,
              "tickcolor": "rgb(36,36,36)",
              "ticks": "outside"
             }
            },
            "type": "scatterternary"
           }
          ],
          "surface": [
           {
            "colorbar": {
             "outlinewidth": 1,
             "tickcolor": "rgb(36,36,36)",
             "ticks": "outside"
            },
            "colorscale": [
             [
              0,
              "#440154"
             ],
             [
              0.1111111111111111,
              "#482878"
             ],
             [
              0.2222222222222222,
              "#3e4989"
             ],
             [
              0.3333333333333333,
              "#31688e"
             ],
             [
              0.4444444444444444,
              "#26828e"
             ],
             [
              0.5555555555555556,
              "#1f9e89"
             ],
             [
              0.6666666666666666,
              "#35b779"
             ],
             [
              0.7777777777777778,
              "#6ece58"
             ],
             [
              0.8888888888888888,
              "#b5de2b"
             ],
             [
              1,
              "#fde725"
             ]
            ],
            "type": "surface"
           }
          ],
          "table": [
           {
            "cells": {
             "fill": {
              "color": "rgb(237,237,237)"
             },
             "line": {
              "color": "white"
             }
            },
            "header": {
             "fill": {
              "color": "rgb(217,217,217)"
             },
             "line": {
              "color": "white"
             }
            },
            "type": "table"
           }
          ]
         },
         "layout": {
          "annotationdefaults": {
           "arrowhead": 0,
           "arrowwidth": 1
          },
          "autotypenumbers": "strict",
          "coloraxis": {
           "colorbar": {
            "outlinewidth": 1,
            "tickcolor": "rgb(36,36,36)",
            "ticks": "outside"
           }
          },
          "colorscale": {
           "diverging": [
            [
             0,
             "rgb(103,0,31)"
            ],
            [
             0.1,
             "rgb(178,24,43)"
            ],
            [
             0.2,
             "rgb(214,96,77)"
            ],
            [
             0.3,
             "rgb(244,165,130)"
            ],
            [
             0.4,
             "rgb(253,219,199)"
            ],
            [
             0.5,
             "rgb(247,247,247)"
            ],
            [
             0.6,
             "rgb(209,229,240)"
            ],
            [
             0.7,
             "rgb(146,197,222)"
            ],
            [
             0.8,
             "rgb(67,147,195)"
            ],
            [
             0.9,
             "rgb(33,102,172)"
            ],
            [
             1,
             "rgb(5,48,97)"
            ]
           ],
           "sequential": [
            [
             0,
             "#440154"
            ],
            [
             0.1111111111111111,
             "#482878"
            ],
            [
             0.2222222222222222,
             "#3e4989"
            ],
            [
             0.3333333333333333,
             "#31688e"
            ],
            [
             0.4444444444444444,
             "#26828e"
            ],
            [
             0.5555555555555556,
             "#1f9e89"
            ],
            [
             0.6666666666666666,
             "#35b779"
            ],
            [
             0.7777777777777778,
             "#6ece58"
            ],
            [
             0.8888888888888888,
             "#b5de2b"
            ],
            [
             1,
             "#fde725"
            ]
           ],
           "sequentialminus": [
            [
             0,
             "#440154"
            ],
            [
             0.1111111111111111,
             "#482878"
            ],
            [
             0.2222222222222222,
             "#3e4989"
            ],
            [
             0.3333333333333333,
             "#31688e"
            ],
            [
             0.4444444444444444,
             "#26828e"
            ],
            [
             0.5555555555555556,
             "#1f9e89"
            ],
            [
             0.6666666666666666,
             "#35b779"
            ],
            [
             0.7777777777777778,
             "#6ece58"
            ],
            [
             0.8888888888888888,
             "#b5de2b"
            ],
            [
             1,
             "#fde725"
            ]
           ]
          },
          "colorway": [
           "#1F77B4",
           "#FF7F0E",
           "#2CA02C",
           "#D62728",
           "#9467BD",
           "#8C564B",
           "#E377C2",
           "#7F7F7F",
           "#BCBD22",
           "#17BECF"
          ],
          "font": {
           "color": "rgb(36,36,36)"
          },
          "geo": {
           "bgcolor": "white",
           "lakecolor": "white",
           "landcolor": "white",
           "showlakes": true,
           "showland": true,
           "subunitcolor": "white"
          },
          "hoverlabel": {
           "align": "left"
          },
          "hovermode": "closest",
          "mapbox": {
           "style": "light"
          },
          "paper_bgcolor": "white",
          "plot_bgcolor": "white",
          "polar": {
           "angularaxis": {
            "gridcolor": "rgb(232,232,232)",
            "linecolor": "rgb(36,36,36)",
            "showgrid": false,
            "showline": true,
            "ticks": "outside"
           },
           "bgcolor": "white",
           "radialaxis": {
            "gridcolor": "rgb(232,232,232)",
            "linecolor": "rgb(36,36,36)",
            "showgrid": false,
            "showline": true,
            "ticks": "outside"
           }
          },
          "scene": {
           "xaxis": {
            "backgroundcolor": "white",
            "gridcolor": "rgb(232,232,232)",
            "gridwidth": 2,
            "linecolor": "rgb(36,36,36)",
            "showbackground": true,
            "showgrid": false,
            "showline": true,
            "ticks": "outside",
            "zeroline": false,
            "zerolinecolor": "rgb(36,36,36)"
           },
           "yaxis": {
            "backgroundcolor": "white",
            "gridcolor": "rgb(232,232,232)",
            "gridwidth": 2,
            "linecolor": "rgb(36,36,36)",
            "showbackground": true,
            "showgrid": false,
            "showline": true,
            "ticks": "outside",
            "zeroline": false,
            "zerolinecolor": "rgb(36,36,36)"
           },
           "zaxis": {
            "backgroundcolor": "white",
            "gridcolor": "rgb(232,232,232)",
            "gridwidth": 2,
            "linecolor": "rgb(36,36,36)",
            "showbackground": true,
            "showgrid": false,
            "showline": true,
            "ticks": "outside",
            "zeroline": false,
            "zerolinecolor": "rgb(36,36,36)"
           }
          },
          "shapedefaults": {
           "fillcolor": "black",
           "line": {
            "width": 0
           },
           "opacity": 0.3
          },
          "ternary": {
           "aaxis": {
            "gridcolor": "rgb(232,232,232)",
            "linecolor": "rgb(36,36,36)",
            "showgrid": false,
            "showline": true,
            "ticks": "outside"
           },
           "baxis": {
            "gridcolor": "rgb(232,232,232)",
            "linecolor": "rgb(36,36,36)",
            "showgrid": false,
            "showline": true,
            "ticks": "outside"
           },
           "bgcolor": "white",
           "caxis": {
            "gridcolor": "rgb(232,232,232)",
            "linecolor": "rgb(36,36,36)",
            "showgrid": false,
            "showline": true,
            "ticks": "outside"
           }
          },
          "title": {
           "x": 0.05
          },
          "xaxis": {
           "automargin": true,
           "gridcolor": "rgb(232,232,232)",
           "linecolor": "rgb(36,36,36)",
           "showgrid": false,
           "showline": true,
           "ticks": "outside",
           "title": {
            "standoff": 15
           },
           "zeroline": false,
           "zerolinecolor": "rgb(36,36,36)"
          },
          "yaxis": {
           "automargin": true,
           "gridcolor": "rgb(232,232,232)",
           "linecolor": "rgb(36,36,36)",
           "showgrid": false,
           "showline": true,
           "ticks": "outside",
           "title": {
            "standoff": 15
           },
           "zeroline": false,
           "zerolinecolor": "rgb(36,36,36)"
          }
         }
        },
        "title": {
         "font": {
          "color": "Black",
          "size": 22
         },
         "text": "<b>Topics per Class",
         "x": 0.4,
         "xanchor": "center",
         "y": 0.95,
         "yanchor": "top"
        },
        "width": 1250,
        "xaxis": {
         "showgrid": true,
         "title": {
          "text": "Frequency"
         }
        },
        "yaxis": {
         "showgrid": true,
         "title": {
          "text": "Class"
         }
        }
       }
      },
      "text/html": [
       "<div>                            <div id=\"7f8d268c-3414-4572-bb6f-f68bc6a31d51\" class=\"plotly-graph-div\" style=\"height:900px; width:1250px;\"></div>            <script type=\"text/javascript\">                require([\"plotly\"], function(Plotly) {                    window.PLOTLYENV=window.PLOTLYENV || {};                                    if (document.getElementById(\"7f8d268c-3414-4572-bb6f-f68bc6a31d51\")) {                    Plotly.newPlot(                        \"7f8d268c-3414-4572-bb6f-f68bc6a31d51\",                        [{\"hoverinfo\":\"text\",\"hovertext\":[\"<b>Topic 0</b><br>Words: \\u043d\\u0435, \\u0447\\u0442\\u043e, \\u043d\\u0430, \\u044d\\u0442\\u043e, \\u0441\\u043b\\u0430\\u0432\\u0430\"],\"marker\":{\"color\":\"#E69F00\"},\"name\":\"0_\\u043d\\u0435_\\u0447\\u0442\\u043e_\\u043d\\u0430_\\u044d\\u0442\\u043e\",\"orientation\":\"h\",\"visible\":true,\"x\":[1015],\"y\":[\"ru\"],\"type\":\"bar\"},{\"hoverinfo\":\"text\",\"hovertext\":[\"<b>Topic 1</b><br>Words: \\u043f\\u043b\\u043e\\u0449\\u0430\\u0434\\u044c, \\u043d\\u0435, \\u0447\\u0442\\u043e, \\u043d\\u0430, \\u044d\\u0442\\u043e\"],\"marker\":{\"color\":\"#56B4E9\"},\"name\":\"1_\\u043f\\u043b\\u043e\\u0449\\u0430\\u0434\\u044c_\\u043d\\u0435_\\u0447\\u0442\\u043e_\\u043d\\u0430\",\"orientation\":\"h\",\"visible\":\"legendonly\",\"x\":[180],\"y\":[\"ru\"],\"type\":\"bar\"},{\"hoverinfo\":\"text\",\"hovertext\":[\"<b>Topic 2</b><br>Words: lol, don, good, news, bro\"],\"marker\":{\"color\":\"#009E73\"},\"name\":\"2_lol_don_good_news\",\"orientation\":\"h\",\"visible\":\"legendonly\",\"x\":[82],\"y\":[\"ru\"],\"type\":\"bar\"},{\"hoverinfo\":\"text\",\"hovertext\":[\"<b>Topic 3</b><br>Words: fuck, russia, putin, fuck russia, putin fuck\"],\"marker\":{\"color\":\"#F0E442\"},\"name\":\"3_fuck_russia_putin_fuck russia\",\"orientation\":\"h\",\"visible\":\"legendonly\",\"x\":[80],\"y\":[\"ru\"],\"type\":\"bar\"},{\"hoverinfo\":\"text\",\"hovertext\":[\"<b>Topic 4</b><br>Words: hot, smiling, hot babe, babe, shit\"],\"marker\":{\"color\":\"#D55E00\"},\"name\":\"4_hot_hot babe_babe_smiling\",\"orientation\":\"h\",\"visible\":\"legendonly\",\"x\":[32],\"y\":[\"ru\"],\"type\":\"bar\"},{\"hoverinfo\":\"text\",\"hovertext\":[\"<b>Topic 5</b><br>Words: stabbot, stabbot stabbot, stabbot stabbot stabbot, link stabbot, twitter link stabbot\"],\"marker\":{\"color\":\"#0072B2\"},\"name\":\"5_stabbot_stabbot stabbot_stabbot stabbo...\",\"orientation\":\"h\",\"visible\":\"legendonly\",\"x\":[29],\"y\":[\"ru\"],\"type\":\"bar\"},{\"hoverinfo\":\"text\",\"hovertext\":[\"<b>Topic 6</b><br>Words: missile, russian, peaceful, podil kyi, center central\"],\"marker\":{\"color\":\"#CC79A7\"},\"name\":\"6_missile_russian_peaceful_kyiv podil\",\"orientation\":\"h\",\"visible\":\"legendonly\",\"x\":[26],\"y\":[\"ru\"],\"type\":\"bar\"},{\"hoverinfo\":\"text\",\"hovertext\":[\"<b>Topic 7</b><br>Words: media, tweet, russian, soldier, missing\"],\"marker\":{\"color\":\"#E69F00\"},\"name\":\"7_media_tweet_russian_soldier\",\"orientation\":\"h\",\"visible\":\"legendonly\",\"x\":[24],\"y\":[\"ru\"],\"type\":\"bar\"},{\"hoverinfo\":\"text\",\"hovertext\":[\"<b>Topic 8</b><br>Words: russian, 9861, \\u0440\\u0444, russian federation, federation\"],\"marker\":{\"color\":\"#56B4E9\"},\"name\":\"8_russian_9861_\\u0440\\u0444_federation\",\"orientation\":\"h\",\"visible\":\"legendonly\",\"x\":[20],\"y\":[\"ru\"],\"type\":\"bar\"},{\"hoverinfo\":\"text\",\"hovertext\":[\"<b>Topic 9</b><br>Words: russianwarcrimes, russianwarcrimes russianwarcrimes, russianwarcrimes russianwarcrimes russianwarcrimes, russiadenies, russiancircus\"],\"marker\":{\"color\":\"#009E73\"},\"name\":\"9_russianwarcrimes_russianwarcrimes russ...\",\"orientation\":\"h\",\"visible\":\"legendonly\",\"x\":[20],\"y\":[\"ru\"],\"type\":\"bar\"}],                        {\"template\":{\"data\":{\"barpolar\":[{\"marker\":{\"line\":{\"color\":\"white\",\"width\":0.5},\"pattern\":{\"fillmode\":\"overlay\",\"size\":10,\"solidity\":0.2}},\"type\":\"barpolar\"}],\"bar\":[{\"error_x\":{\"color\":\"rgb(36,36,36)\"},\"error_y\":{\"color\":\"rgb(36,36,36)\"},\"marker\":{\"line\":{\"color\":\"white\",\"width\":0.5},\"pattern\":{\"fillmode\":\"overlay\",\"size\":10,\"solidity\":0.2}},\"type\":\"bar\"}],\"carpet\":[{\"aaxis\":{\"endlinecolor\":\"rgb(36,36,36)\",\"gridcolor\":\"white\",\"linecolor\":\"white\",\"minorgridcolor\":\"white\",\"startlinecolor\":\"rgb(36,36,36)\"},\"baxis\":{\"endlinecolor\":\"rgb(36,36,36)\",\"gridcolor\":\"white\",\"linecolor\":\"white\",\"minorgridcolor\":\"white\",\"startlinecolor\":\"rgb(36,36,36)\"},\"type\":\"carpet\"}],\"choropleth\":[{\"colorbar\":{\"outlinewidth\":1,\"tickcolor\":\"rgb(36,36,36)\",\"ticks\":\"outside\"},\"type\":\"choropleth\"}],\"contourcarpet\":[{\"colorbar\":{\"outlinewidth\":1,\"tickcolor\":\"rgb(36,36,36)\",\"ticks\":\"outside\"},\"type\":\"contourcarpet\"}],\"contour\":[{\"colorbar\":{\"outlinewidth\":1,\"tickcolor\":\"rgb(36,36,36)\",\"ticks\":\"outside\"},\"colorscale\":[[0.0,\"#440154\"],[0.1111111111111111,\"#482878\"],[0.2222222222222222,\"#3e4989\"],[0.3333333333333333,\"#31688e\"],[0.4444444444444444,\"#26828e\"],[0.5555555555555556,\"#1f9e89\"],[0.6666666666666666,\"#35b779\"],[0.7777777777777778,\"#6ece58\"],[0.8888888888888888,\"#b5de2b\"],[1.0,\"#fde725\"]],\"type\":\"contour\"}],\"heatmapgl\":[{\"colorbar\":{\"outlinewidth\":1,\"tickcolor\":\"rgb(36,36,36)\",\"ticks\":\"outside\"},\"colorscale\":[[0.0,\"#440154\"],[0.1111111111111111,\"#482878\"],[0.2222222222222222,\"#3e4989\"],[0.3333333333333333,\"#31688e\"],[0.4444444444444444,\"#26828e\"],[0.5555555555555556,\"#1f9e89\"],[0.6666666666666666,\"#35b779\"],[0.7777777777777778,\"#6ece58\"],[0.8888888888888888,\"#b5de2b\"],[1.0,\"#fde725\"]],\"type\":\"heatmapgl\"}],\"heatmap\":[{\"colorbar\":{\"outlinewidth\":1,\"tickcolor\":\"rgb(36,36,36)\",\"ticks\":\"outside\"},\"colorscale\":[[0.0,\"#440154\"],[0.1111111111111111,\"#482878\"],[0.2222222222222222,\"#3e4989\"],[0.3333333333333333,\"#31688e\"],[0.4444444444444444,\"#26828e\"],[0.5555555555555556,\"#1f9e89\"],[0.6666666666666666,\"#35b779\"],[0.7777777777777778,\"#6ece58\"],[0.8888888888888888,\"#b5de2b\"],[1.0,\"#fde725\"]],\"type\":\"heatmap\"}],\"histogram2dcontour\":[{\"colorbar\":{\"outlinewidth\":1,\"tickcolor\":\"rgb(36,36,36)\",\"ticks\":\"outside\"},\"colorscale\":[[0.0,\"#440154\"],[0.1111111111111111,\"#482878\"],[0.2222222222222222,\"#3e4989\"],[0.3333333333333333,\"#31688e\"],[0.4444444444444444,\"#26828e\"],[0.5555555555555556,\"#1f9e89\"],[0.6666666666666666,\"#35b779\"],[0.7777777777777778,\"#6ece58\"],[0.8888888888888888,\"#b5de2b\"],[1.0,\"#fde725\"]],\"type\":\"histogram2dcontour\"}],\"histogram2d\":[{\"colorbar\":{\"outlinewidth\":1,\"tickcolor\":\"rgb(36,36,36)\",\"ticks\":\"outside\"},\"colorscale\":[[0.0,\"#440154\"],[0.1111111111111111,\"#482878\"],[0.2222222222222222,\"#3e4989\"],[0.3333333333333333,\"#31688e\"],[0.4444444444444444,\"#26828e\"],[0.5555555555555556,\"#1f9e89\"],[0.6666666666666666,\"#35b779\"],[0.7777777777777778,\"#6ece58\"],[0.8888888888888888,\"#b5de2b\"],[1.0,\"#fde725\"]],\"type\":\"histogram2d\"}],\"histogram\":[{\"marker\":{\"line\":{\"color\":\"white\",\"width\":0.6}},\"type\":\"histogram\"}],\"mesh3d\":[{\"colorbar\":{\"outlinewidth\":1,\"tickcolor\":\"rgb(36,36,36)\",\"ticks\":\"outside\"},\"type\":\"mesh3d\"}],\"parcoords\":[{\"line\":{\"colorbar\":{\"outlinewidth\":1,\"tickcolor\":\"rgb(36,36,36)\",\"ticks\":\"outside\"}},\"type\":\"parcoords\"}],\"pie\":[{\"automargin\":true,\"type\":\"pie\"}],\"scatter3d\":[{\"line\":{\"colorbar\":{\"outlinewidth\":1,\"tickcolor\":\"rgb(36,36,36)\",\"ticks\":\"outside\"}},\"marker\":{\"colorbar\":{\"outlinewidth\":1,\"tickcolor\":\"rgb(36,36,36)\",\"ticks\":\"outside\"}},\"type\":\"scatter3d\"}],\"scattercarpet\":[{\"marker\":{\"colorbar\":{\"outlinewidth\":1,\"tickcolor\":\"rgb(36,36,36)\",\"ticks\":\"outside\"}},\"type\":\"scattercarpet\"}],\"scattergeo\":[{\"marker\":{\"colorbar\":{\"outlinewidth\":1,\"tickcolor\":\"rgb(36,36,36)\",\"ticks\":\"outside\"}},\"type\":\"scattergeo\"}],\"scattergl\":[{\"marker\":{\"colorbar\":{\"outlinewidth\":1,\"tickcolor\":\"rgb(36,36,36)\",\"ticks\":\"outside\"}},\"type\":\"scattergl\"}],\"scattermapbox\":[{\"marker\":{\"colorbar\":{\"outlinewidth\":1,\"tickcolor\":\"rgb(36,36,36)\",\"ticks\":\"outside\"}},\"type\":\"scattermapbox\"}],\"scatterpolargl\":[{\"marker\":{\"colorbar\":{\"outlinewidth\":1,\"tickcolor\":\"rgb(36,36,36)\",\"ticks\":\"outside\"}},\"type\":\"scatterpolargl\"}],\"scatterpolar\":[{\"marker\":{\"colorbar\":{\"outlinewidth\":1,\"tickcolor\":\"rgb(36,36,36)\",\"ticks\":\"outside\"}},\"type\":\"scatterpolar\"}],\"scatter\":[{\"fillpattern\":{\"fillmode\":\"overlay\",\"size\":10,\"solidity\":0.2},\"type\":\"scatter\"}],\"scatterternary\":[{\"marker\":{\"colorbar\":{\"outlinewidth\":1,\"tickcolor\":\"rgb(36,36,36)\",\"ticks\":\"outside\"}},\"type\":\"scatterternary\"}],\"surface\":[{\"colorbar\":{\"outlinewidth\":1,\"tickcolor\":\"rgb(36,36,36)\",\"ticks\":\"outside\"},\"colorscale\":[[0.0,\"#440154\"],[0.1111111111111111,\"#482878\"],[0.2222222222222222,\"#3e4989\"],[0.3333333333333333,\"#31688e\"],[0.4444444444444444,\"#26828e\"],[0.5555555555555556,\"#1f9e89\"],[0.6666666666666666,\"#35b779\"],[0.7777777777777778,\"#6ece58\"],[0.8888888888888888,\"#b5de2b\"],[1.0,\"#fde725\"]],\"type\":\"surface\"}],\"table\":[{\"cells\":{\"fill\":{\"color\":\"rgb(237,237,237)\"},\"line\":{\"color\":\"white\"}},\"header\":{\"fill\":{\"color\":\"rgb(217,217,217)\"},\"line\":{\"color\":\"white\"}},\"type\":\"table\"}]},\"layout\":{\"annotationdefaults\":{\"arrowhead\":0,\"arrowwidth\":1},\"autotypenumbers\":\"strict\",\"coloraxis\":{\"colorbar\":{\"outlinewidth\":1,\"tickcolor\":\"rgb(36,36,36)\",\"ticks\":\"outside\"}},\"colorscale\":{\"diverging\":[[0.0,\"rgb(103,0,31)\"],[0.1,\"rgb(178,24,43)\"],[0.2,\"rgb(214,96,77)\"],[0.3,\"rgb(244,165,130)\"],[0.4,\"rgb(253,219,199)\"],[0.5,\"rgb(247,247,247)\"],[0.6,\"rgb(209,229,240)\"],[0.7,\"rgb(146,197,222)\"],[0.8,\"rgb(67,147,195)\"],[0.9,\"rgb(33,102,172)\"],[1.0,\"rgb(5,48,97)\"]],\"sequential\":[[0.0,\"#440154\"],[0.1111111111111111,\"#482878\"],[0.2222222222222222,\"#3e4989\"],[0.3333333333333333,\"#31688e\"],[0.4444444444444444,\"#26828e\"],[0.5555555555555556,\"#1f9e89\"],[0.6666666666666666,\"#35b779\"],[0.7777777777777778,\"#6ece58\"],[0.8888888888888888,\"#b5de2b\"],[1.0,\"#fde725\"]],\"sequentialminus\":[[0.0,\"#440154\"],[0.1111111111111111,\"#482878\"],[0.2222222222222222,\"#3e4989\"],[0.3333333333333333,\"#31688e\"],[0.4444444444444444,\"#26828e\"],[0.5555555555555556,\"#1f9e89\"],[0.6666666666666666,\"#35b779\"],[0.7777777777777778,\"#6ece58\"],[0.8888888888888888,\"#b5de2b\"],[1.0,\"#fde725\"]]},\"colorway\":[\"#1F77B4\",\"#FF7F0E\",\"#2CA02C\",\"#D62728\",\"#9467BD\",\"#8C564B\",\"#E377C2\",\"#7F7F7F\",\"#BCBD22\",\"#17BECF\"],\"font\":{\"color\":\"rgb(36,36,36)\"},\"geo\":{\"bgcolor\":\"white\",\"lakecolor\":\"white\",\"landcolor\":\"white\",\"showlakes\":true,\"showland\":true,\"subunitcolor\":\"white\"},\"hoverlabel\":{\"align\":\"left\"},\"hovermode\":\"closest\",\"mapbox\":{\"style\":\"light\"},\"paper_bgcolor\":\"white\",\"plot_bgcolor\":\"white\",\"polar\":{\"angularaxis\":{\"gridcolor\":\"rgb(232,232,232)\",\"linecolor\":\"rgb(36,36,36)\",\"showgrid\":false,\"showline\":true,\"ticks\":\"outside\"},\"bgcolor\":\"white\",\"radialaxis\":{\"gridcolor\":\"rgb(232,232,232)\",\"linecolor\":\"rgb(36,36,36)\",\"showgrid\":false,\"showline\":true,\"ticks\":\"outside\"}},\"scene\":{\"xaxis\":{\"backgroundcolor\":\"white\",\"gridcolor\":\"rgb(232,232,232)\",\"gridwidth\":2,\"linecolor\":\"rgb(36,36,36)\",\"showbackground\":true,\"showgrid\":false,\"showline\":true,\"ticks\":\"outside\",\"zeroline\":false,\"zerolinecolor\":\"rgb(36,36,36)\"},\"yaxis\":{\"backgroundcolor\":\"white\",\"gridcolor\":\"rgb(232,232,232)\",\"gridwidth\":2,\"linecolor\":\"rgb(36,36,36)\",\"showbackground\":true,\"showgrid\":false,\"showline\":true,\"ticks\":\"outside\",\"zeroline\":false,\"zerolinecolor\":\"rgb(36,36,36)\"},\"zaxis\":{\"backgroundcolor\":\"white\",\"gridcolor\":\"rgb(232,232,232)\",\"gridwidth\":2,\"linecolor\":\"rgb(36,36,36)\",\"showbackground\":true,\"showgrid\":false,\"showline\":true,\"ticks\":\"outside\",\"zeroline\":false,\"zerolinecolor\":\"rgb(36,36,36)\"}},\"shapedefaults\":{\"fillcolor\":\"black\",\"line\":{\"width\":0},\"opacity\":0.3},\"ternary\":{\"aaxis\":{\"gridcolor\":\"rgb(232,232,232)\",\"linecolor\":\"rgb(36,36,36)\",\"showgrid\":false,\"showline\":true,\"ticks\":\"outside\"},\"baxis\":{\"gridcolor\":\"rgb(232,232,232)\",\"linecolor\":\"rgb(36,36,36)\",\"showgrid\":false,\"showline\":true,\"ticks\":\"outside\"},\"bgcolor\":\"white\",\"caxis\":{\"gridcolor\":\"rgb(232,232,232)\",\"linecolor\":\"rgb(36,36,36)\",\"showgrid\":false,\"showline\":true,\"ticks\":\"outside\"}},\"title\":{\"x\":0.05},\"xaxis\":{\"automargin\":true,\"gridcolor\":\"rgb(232,232,232)\",\"linecolor\":\"rgb(36,36,36)\",\"showgrid\":false,\"showline\":true,\"ticks\":\"outside\",\"title\":{\"standoff\":15},\"zeroline\":false,\"zerolinecolor\":\"rgb(36,36,36)\"},\"yaxis\":{\"automargin\":true,\"gridcolor\":\"rgb(232,232,232)\",\"linecolor\":\"rgb(36,36,36)\",\"showgrid\":false,\"showline\":true,\"ticks\":\"outside\",\"title\":{\"standoff\":15},\"zeroline\":false,\"zerolinecolor\":\"rgb(36,36,36)\"}}},\"xaxis\":{\"showgrid\":true,\"title\":{\"text\":\"Frequency\"}},\"yaxis\":{\"showgrid\":true,\"title\":{\"text\":\"Class\"}},\"title\":{\"font\":{\"size\":22,\"color\":\"Black\"},\"text\":\"<b>Topics per Class\",\"y\":0.95,\"x\":0.4,\"xanchor\":\"center\",\"yanchor\":\"top\"},\"hoverlabel\":{\"font\":{\"size\":16,\"family\":\"Rockwell\"},\"bgcolor\":\"white\"},\"width\":1250,\"height\":900,\"legend\":{\"title\":{\"text\":\"<b>Global Topic Representation\"}}},                        {\"responsive\": true}                    ).then(function(){\n",
       "                            \n",
       "var gd = document.getElementById('7f8d268c-3414-4572-bb6f-f68bc6a31d51');\n",
       "var x = new MutationObserver(function (mutations, observer) {{\n",
       "        var display = window.getComputedStyle(gd).display;\n",
       "        if (!display || display === 'none') {{\n",
       "            console.log([gd, 'removed!']);\n",
       "            Plotly.purge(gd);\n",
       "            observer.disconnect();\n",
       "        }}\n",
       "}});\n",
       "\n",
       "// Listen for the removal of the full notebook cells\n",
       "var notebookContainer = gd.closest('#notebook-container');\n",
       "if (notebookContainer) {{\n",
       "    x.observe(notebookContainer, {childList: true});\n",
       "}}\n",
       "\n",
       "// Listen for the clearing of the current output cell\n",
       "var outputEl = gd.closest('.output');\n",
       "if (outputEl) {{\n",
       "    x.observe(outputEl, {childList: true});\n",
       "}}\n",
       "\n",
       "                        })                };                });            </script>        </div>"
      ]
     },
     "metadata": {},
     "output_type": "display_data"
    }
   ],
   "source": [
    "topic_model.visualize_topics_per_class(topics_per_class, top_n_topics=10)\n"
   ]
  }
 ],
 "metadata": {
  "interpreter": {
   "hash": "31f2aee4e71d21fbe5cf8b01ff0e069b9275f58929596ceb00d14d90e3e16cd6"
  },
  "kernelspec": {
   "display_name": "Python 3.9.2 64-bit",
   "language": "python",
   "name": "python3"
  },
  "language_info": {
   "codemirror_mode": {
    "name": "ipython",
    "version": 3
   },
   "file_extension": ".py",
   "mimetype": "text/x-python",
   "name": "python",
   "nbconvert_exporter": "python",
   "pygments_lexer": "ipython3",
   "version": "3.9.2"
  },
  "orig_nbformat": 4
 },
 "nbformat": 4,
 "nbformat_minor": 2
}
